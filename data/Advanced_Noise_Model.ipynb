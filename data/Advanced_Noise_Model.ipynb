{
 "cells": [
  {
   "cell_type": "code",
   "execution_count": 2,
   "id": "dfdb6be4",
   "metadata": {},
   "outputs": [],
   "source": [
    "import pickle\n",
    "import pandas as pd\n",
    "import numpy as np\n",
    "import datetime  \n",
    "import seaborn as sns\n",
    "import matplotlib.pyplot as plt\n",
    "import pickle\n",
    "import folium\n",
    "from folium.plugins import HeatMap\n",
    "from math import floor\n",
    "from sklearn.linear_model import LinearRegression, LogisticRegression, SGDRegressor, Lasso, Ridge\n",
    "from sklearn.ensemble import RandomForestRegressor, RandomForestClassifier, GradientBoostingRegressor\n",
    "from sklearn.model_selection import train_test_split\n",
    "from sklearn.metrics import mean_squared_error, r2_score, mean_absolute_error, classification_report, confusion_matrix\n",
    "from sqlalchemy import create_engine\n",
    "from sqlalchemy import text\n",
    "from sklearn.cluster import KMeans\n",
    "from imblearn.over_sampling import SMOTE\n",
    "from sklearn.tree import DecisionTreeClassifier\n",
    "from sklearn.cluster import DBSCAN, OPTICS\n",
    "from sklearn import metrics\n",
    "from sklearn.preprocessing import StandardScaler\n",
    "import csv\n",
    "from shapely.geometry import Point, Polygon\n",
    "import time\n",
    "from math import sqrt\n",
    "from sklearn.preprocessing import StandardScaler\n",
    "from sklearn.model_selection import RandomizedSearchCV\n",
    "from sklearn.tree import DecisionTreeRegressor\n",
    "import geopandas as gpd\n",
    "from sklearn.preprocessing import StandardScaler, OneHotEncoder\n",
    "from sklearn.compose import ColumnTransformer\n",
    "from sklearn.pipeline import Pipeline\n",
    "from sklearn.cluster import Birch\n",
    "from sklearn.cluster import MiniBatchKMeans\n",
    "import dask.dataframe as dd\n",
    "from sklearn.neighbors import KNeighborsClassifier\n",
    "import eli5\n",
    "from eli5.sklearn import PermutationImportance\n",
    "from sklearn.model_selection import GridSearchCV\n",
    "from sklearn.svm import SVR\n",
    "from sklearn.metrics import make_scorer\n",
    "from sklearn.model_selection import cross_validate"
   ]
  },
  {
   "cell_type": "code",
   "execution_count": 5,
   "id": "3e49ac5c",
   "metadata": {},
   "outputs": [
    {
     "data": {
      "text/html": [
       "<div>\n",
       "<style scoped>\n",
       "    .dataframe tbody tr th:only-of-type {\n",
       "        vertical-align: middle;\n",
       "    }\n",
       "\n",
       "    .dataframe tbody tr th {\n",
       "        vertical-align: top;\n",
       "    }\n",
       "\n",
       "    .dataframe thead th {\n",
       "        text-align: right;\n",
       "    }\n",
       "</style>\n",
       "<table border=\"1\" class=\"dataframe\">\n",
       "  <thead>\n",
       "    <tr style=\"text-align: right;\">\n",
       "      <th></th>\n",
       "      <th>Unnamed: 0</th>\n",
       "      <th>Latitude</th>\n",
       "      <th>Longitude</th>\n",
       "      <th>Hour</th>\n",
       "      <th>Month</th>\n",
       "      <th>Day of Week</th>\n",
       "      <th>Weekend</th>\n",
       "      <th>Weekday</th>\n",
       "      <th>Cluster</th>\n",
       "      <th>Normalized_Score</th>\n",
       "    </tr>\n",
       "  </thead>\n",
       "  <tbody>\n",
       "    <tr>\n",
       "      <th>0</th>\n",
       "      <td>0</td>\n",
       "      <td>40.866851</td>\n",
       "      <td>-73.923590</td>\n",
       "      <td>0</td>\n",
       "      <td>1</td>\n",
       "      <td>6</td>\n",
       "      <td>1</td>\n",
       "      <td>0</td>\n",
       "      <td>76</td>\n",
       "      <td>0.171429</td>\n",
       "    </tr>\n",
       "    <tr>\n",
       "      <th>1</th>\n",
       "      <td>1</td>\n",
       "      <td>40.777176</td>\n",
       "      <td>-73.976094</td>\n",
       "      <td>0</td>\n",
       "      <td>1</td>\n",
       "      <td>6</td>\n",
       "      <td>1</td>\n",
       "      <td>0</td>\n",
       "      <td>199</td>\n",
       "      <td>0.085714</td>\n",
       "    </tr>\n",
       "    <tr>\n",
       "      <th>2</th>\n",
       "      <td>2</td>\n",
       "      <td>40.769107</td>\n",
       "      <td>-73.967053</td>\n",
       "      <td>0</td>\n",
       "      <td>1</td>\n",
       "      <td>6</td>\n",
       "      <td>1</td>\n",
       "      <td>0</td>\n",
       "      <td>96</td>\n",
       "      <td>0.000000</td>\n",
       "    </tr>\n",
       "    <tr>\n",
       "      <th>3</th>\n",
       "      <td>3</td>\n",
       "      <td>40.794830</td>\n",
       "      <td>-73.950344</td>\n",
       "      <td>0</td>\n",
       "      <td>1</td>\n",
       "      <td>6</td>\n",
       "      <td>1</td>\n",
       "      <td>0</td>\n",
       "      <td>318</td>\n",
       "      <td>0.257143</td>\n",
       "    </tr>\n",
       "    <tr>\n",
       "      <th>4</th>\n",
       "      <td>4</td>\n",
       "      <td>40.850211</td>\n",
       "      <td>-73.930339</td>\n",
       "      <td>0</td>\n",
       "      <td>1</td>\n",
       "      <td>6</td>\n",
       "      <td>1</td>\n",
       "      <td>0</td>\n",
       "      <td>439</td>\n",
       "      <td>0.000000</td>\n",
       "    </tr>\n",
       "    <tr>\n",
       "      <th>...</th>\n",
       "      <td>...</td>\n",
       "      <td>...</td>\n",
       "      <td>...</td>\n",
       "      <td>...</td>\n",
       "      <td>...</td>\n",
       "      <td>...</td>\n",
       "      <td>...</td>\n",
       "      <td>...</td>\n",
       "      <td>...</td>\n",
       "      <td>...</td>\n",
       "    </tr>\n",
       "    <tr>\n",
       "      <th>50449</th>\n",
       "      <td>96134</td>\n",
       "      <td>40.722062</td>\n",
       "      <td>-73.975840</td>\n",
       "      <td>23</td>\n",
       "      <td>12</td>\n",
       "      <td>5</td>\n",
       "      <td>1</td>\n",
       "      <td>0</td>\n",
       "      <td>215</td>\n",
       "      <td>1.000000</td>\n",
       "    </tr>\n",
       "    <tr>\n",
       "      <th>50450</th>\n",
       "      <td>96136</td>\n",
       "      <td>40.722421</td>\n",
       "      <td>-74.001533</td>\n",
       "      <td>23</td>\n",
       "      <td>12</td>\n",
       "      <td>5</td>\n",
       "      <td>1</td>\n",
       "      <td>0</td>\n",
       "      <td>288</td>\n",
       "      <td>0.000000</td>\n",
       "    </tr>\n",
       "    <tr>\n",
       "      <th>50451</th>\n",
       "      <td>96137</td>\n",
       "      <td>40.864764</td>\n",
       "      <td>-73.922764</td>\n",
       "      <td>23</td>\n",
       "      <td>12</td>\n",
       "      <td>5</td>\n",
       "      <td>1</td>\n",
       "      <td>0</td>\n",
       "      <td>280</td>\n",
       "      <td>0.214286</td>\n",
       "    </tr>\n",
       "    <tr>\n",
       "      <th>50452</th>\n",
       "      <td>96138</td>\n",
       "      <td>40.812812</td>\n",
       "      <td>-73.945739</td>\n",
       "      <td>23</td>\n",
       "      <td>12</td>\n",
       "      <td>5</td>\n",
       "      <td>1</td>\n",
       "      <td>0</td>\n",
       "      <td>197</td>\n",
       "      <td>0.428571</td>\n",
       "    </tr>\n",
       "    <tr>\n",
       "      <th>50453</th>\n",
       "      <td>96139</td>\n",
       "      <td>40.794783</td>\n",
       "      <td>-73.974199</td>\n",
       "      <td>23</td>\n",
       "      <td>12</td>\n",
       "      <td>5</td>\n",
       "      <td>1</td>\n",
       "      <td>0</td>\n",
       "      <td>325</td>\n",
       "      <td>0.300000</td>\n",
       "    </tr>\n",
       "  </tbody>\n",
       "</table>\n",
       "<p>50454 rows × 10 columns</p>\n",
       "</div>"
      ],
      "text/plain": [
       "       Unnamed: 0   Latitude  Longitude  Hour  Month  Day of Week  Weekend  \\\n",
       "0               0  40.866851 -73.923590     0      1            6        1   \n",
       "1               1  40.777176 -73.976094     0      1            6        1   \n",
       "2               2  40.769107 -73.967053     0      1            6        1   \n",
       "3               3  40.794830 -73.950344     0      1            6        1   \n",
       "4               4  40.850211 -73.930339     0      1            6        1   \n",
       "...           ...        ...        ...   ...    ...          ...      ...   \n",
       "50449       96134  40.722062 -73.975840    23     12            5        1   \n",
       "50450       96136  40.722421 -74.001533    23     12            5        1   \n",
       "50451       96137  40.864764 -73.922764    23     12            5        1   \n",
       "50452       96138  40.812812 -73.945739    23     12            5        1   \n",
       "50453       96139  40.794783 -73.974199    23     12            5        1   \n",
       "\n",
       "       Weekday  Cluster  Normalized_Score  \n",
       "0            0       76          0.171429  \n",
       "1            0      199          0.085714  \n",
       "2            0       96          0.000000  \n",
       "3            0      318          0.257143  \n",
       "4            0      439          0.000000  \n",
       "...        ...      ...               ...  \n",
       "50449        0      215          1.000000  \n",
       "50450        0      288          0.000000  \n",
       "50451        0      280          0.214286  \n",
       "50452        0      197          0.428571  \n",
       "50453        0      325          0.300000  \n",
       "\n",
       "[50454 rows x 10 columns]"
      ]
     },
     "execution_count": 5,
     "metadata": {},
     "output_type": "execute_result"
    }
   ],
   "source": [
    "df = pd.read_csv(\"../Noise_Crime_Model_Data_WD:WE.csv\")\n",
    "df"
   ]
  },
  {
   "cell_type": "code",
   "execution_count": 6,
   "id": "2ee1c671",
   "metadata": {},
   "outputs": [
    {
     "data": {
      "text/plain": [
       "Unnamed: 0          0\n",
       "Latitude            0\n",
       "Longitude           0\n",
       "Hour                0\n",
       "Month               0\n",
       "Day of Week         0\n",
       "Weekend             0\n",
       "Weekday             0\n",
       "Cluster             0\n",
       "Normalized_Score    0\n",
       "dtype: int64"
      ]
     },
     "execution_count": 6,
     "metadata": {},
     "output_type": "execute_result"
    }
   ],
   "source": [
    "df.isna().sum()"
   ]
  },
  {
   "cell_type": "code",
   "execution_count": 7,
   "id": "8934f2ea",
   "metadata": {},
   "outputs": [],
   "source": [
    "df = df.drop(columns=[\"Unnamed: 0\"])"
   ]
  },
  {
   "cell_type": "code",
   "execution_count": 8,
   "id": "ab796276",
   "metadata": {},
   "outputs": [
    {
     "data": {
      "text/html": [
       "<div>\n",
       "<style scoped>\n",
       "    .dataframe tbody tr th:only-of-type {\n",
       "        vertical-align: middle;\n",
       "    }\n",
       "\n",
       "    .dataframe tbody tr th {\n",
       "        vertical-align: top;\n",
       "    }\n",
       "\n",
       "    .dataframe thead th {\n",
       "        text-align: right;\n",
       "    }\n",
       "</style>\n",
       "<table border=\"1\" class=\"dataframe\">\n",
       "  <thead>\n",
       "    <tr style=\"text-align: right;\">\n",
       "      <th></th>\n",
       "      <th>Latitude</th>\n",
       "      <th>Longitude</th>\n",
       "      <th>Hour</th>\n",
       "      <th>Month</th>\n",
       "      <th>Day of Week</th>\n",
       "      <th>Weekend</th>\n",
       "      <th>Weekday</th>\n",
       "      <th>Cluster</th>\n",
       "      <th>Normalized_Score</th>\n",
       "    </tr>\n",
       "  </thead>\n",
       "  <tbody>\n",
       "    <tr>\n",
       "      <th>0</th>\n",
       "      <td>40.866851</td>\n",
       "      <td>-73.923590</td>\n",
       "      <td>0</td>\n",
       "      <td>1</td>\n",
       "      <td>6</td>\n",
       "      <td>1</td>\n",
       "      <td>0</td>\n",
       "      <td>76</td>\n",
       "      <td>0.171429</td>\n",
       "    </tr>\n",
       "    <tr>\n",
       "      <th>1</th>\n",
       "      <td>40.777176</td>\n",
       "      <td>-73.976094</td>\n",
       "      <td>0</td>\n",
       "      <td>1</td>\n",
       "      <td>6</td>\n",
       "      <td>1</td>\n",
       "      <td>0</td>\n",
       "      <td>199</td>\n",
       "      <td>0.085714</td>\n",
       "    </tr>\n",
       "    <tr>\n",
       "      <th>2</th>\n",
       "      <td>40.769107</td>\n",
       "      <td>-73.967053</td>\n",
       "      <td>0</td>\n",
       "      <td>1</td>\n",
       "      <td>6</td>\n",
       "      <td>1</td>\n",
       "      <td>0</td>\n",
       "      <td>96</td>\n",
       "      <td>0.000000</td>\n",
       "    </tr>\n",
       "    <tr>\n",
       "      <th>3</th>\n",
       "      <td>40.794830</td>\n",
       "      <td>-73.950344</td>\n",
       "      <td>0</td>\n",
       "      <td>1</td>\n",
       "      <td>6</td>\n",
       "      <td>1</td>\n",
       "      <td>0</td>\n",
       "      <td>318</td>\n",
       "      <td>0.257143</td>\n",
       "    </tr>\n",
       "    <tr>\n",
       "      <th>4</th>\n",
       "      <td>40.850211</td>\n",
       "      <td>-73.930339</td>\n",
       "      <td>0</td>\n",
       "      <td>1</td>\n",
       "      <td>6</td>\n",
       "      <td>1</td>\n",
       "      <td>0</td>\n",
       "      <td>439</td>\n",
       "      <td>0.000000</td>\n",
       "    </tr>\n",
       "    <tr>\n",
       "      <th>...</th>\n",
       "      <td>...</td>\n",
       "      <td>...</td>\n",
       "      <td>...</td>\n",
       "      <td>...</td>\n",
       "      <td>...</td>\n",
       "      <td>...</td>\n",
       "      <td>...</td>\n",
       "      <td>...</td>\n",
       "      <td>...</td>\n",
       "    </tr>\n",
       "    <tr>\n",
       "      <th>50449</th>\n",
       "      <td>40.722062</td>\n",
       "      <td>-73.975840</td>\n",
       "      <td>23</td>\n",
       "      <td>12</td>\n",
       "      <td>5</td>\n",
       "      <td>1</td>\n",
       "      <td>0</td>\n",
       "      <td>215</td>\n",
       "      <td>1.000000</td>\n",
       "    </tr>\n",
       "    <tr>\n",
       "      <th>50450</th>\n",
       "      <td>40.722421</td>\n",
       "      <td>-74.001533</td>\n",
       "      <td>23</td>\n",
       "      <td>12</td>\n",
       "      <td>5</td>\n",
       "      <td>1</td>\n",
       "      <td>0</td>\n",
       "      <td>288</td>\n",
       "      <td>0.000000</td>\n",
       "    </tr>\n",
       "    <tr>\n",
       "      <th>50451</th>\n",
       "      <td>40.864764</td>\n",
       "      <td>-73.922764</td>\n",
       "      <td>23</td>\n",
       "      <td>12</td>\n",
       "      <td>5</td>\n",
       "      <td>1</td>\n",
       "      <td>0</td>\n",
       "      <td>280</td>\n",
       "      <td>0.214286</td>\n",
       "    </tr>\n",
       "    <tr>\n",
       "      <th>50452</th>\n",
       "      <td>40.812812</td>\n",
       "      <td>-73.945739</td>\n",
       "      <td>23</td>\n",
       "      <td>12</td>\n",
       "      <td>5</td>\n",
       "      <td>1</td>\n",
       "      <td>0</td>\n",
       "      <td>197</td>\n",
       "      <td>0.428571</td>\n",
       "    </tr>\n",
       "    <tr>\n",
       "      <th>50453</th>\n",
       "      <td>40.794783</td>\n",
       "      <td>-73.974199</td>\n",
       "      <td>23</td>\n",
       "      <td>12</td>\n",
       "      <td>5</td>\n",
       "      <td>1</td>\n",
       "      <td>0</td>\n",
       "      <td>325</td>\n",
       "      <td>0.300000</td>\n",
       "    </tr>\n",
       "  </tbody>\n",
       "</table>\n",
       "<p>50454 rows × 9 columns</p>\n",
       "</div>"
      ],
      "text/plain": [
       "        Latitude  Longitude  Hour  Month  Day of Week  Weekend  Weekday  \\\n",
       "0      40.866851 -73.923590     0      1            6        1        0   \n",
       "1      40.777176 -73.976094     0      1            6        1        0   \n",
       "2      40.769107 -73.967053     0      1            6        1        0   \n",
       "3      40.794830 -73.950344     0      1            6        1        0   \n",
       "4      40.850211 -73.930339     0      1            6        1        0   \n",
       "...          ...        ...   ...    ...          ...      ...      ...   \n",
       "50449  40.722062 -73.975840    23     12            5        1        0   \n",
       "50450  40.722421 -74.001533    23     12            5        1        0   \n",
       "50451  40.864764 -73.922764    23     12            5        1        0   \n",
       "50452  40.812812 -73.945739    23     12            5        1        0   \n",
       "50453  40.794783 -73.974199    23     12            5        1        0   \n",
       "\n",
       "       Cluster  Normalized_Score  \n",
       "0           76          0.171429  \n",
       "1          199          0.085714  \n",
       "2           96          0.000000  \n",
       "3          318          0.257143  \n",
       "4          439          0.000000  \n",
       "...        ...               ...  \n",
       "50449      215          1.000000  \n",
       "50450      288          0.000000  \n",
       "50451      280          0.214286  \n",
       "50452      197          0.428571  \n",
       "50453      325          0.300000  \n",
       "\n",
       "[50454 rows x 9 columns]"
      ]
     },
     "execution_count": 8,
     "metadata": {},
     "output_type": "execute_result"
    }
   ],
   "source": [
    "df"
   ]
  },
  {
   "cell_type": "markdown",
   "id": "a3164242",
   "metadata": {},
   "source": [
    "## Create two separate data frames for test and train"
   ]
  },
  {
   "cell_type": "code",
   "execution_count": 9,
   "id": "c7844565",
   "metadata": {},
   "outputs": [],
   "source": [
    "df_train, df_test = train_test_split(df, test_size=0.3, random_state=42)"
   ]
  },
  {
   "cell_type": "code",
   "execution_count": 10,
   "id": "66d0c810",
   "metadata": {},
   "outputs": [
    {
     "name": "stdout",
     "output_type": "stream",
     "text": [
      "Original: 50454 rows\n",
      "Training: 35317 rows\n",
      "Testing: 15137 rows\n"
     ]
    }
   ],
   "source": [
    "print(f'Original: {len(df)} rows')\n",
    "print(f'Training: {len(df_train)} rows')\n",
    "print(f'Testing: {len(df_test)} rows')"
   ]
  },
  {
   "cell_type": "code",
   "execution_count": 11,
   "id": "06d28af3",
   "metadata": {},
   "outputs": [
    {
     "data": {
      "text/html": [
       "<div>\n",
       "<style scoped>\n",
       "    .dataframe tbody tr th:only-of-type {\n",
       "        vertical-align: middle;\n",
       "    }\n",
       "\n",
       "    .dataframe tbody tr th {\n",
       "        vertical-align: top;\n",
       "    }\n",
       "\n",
       "    .dataframe thead th {\n",
       "        text-align: right;\n",
       "    }\n",
       "</style>\n",
       "<table border=\"1\" class=\"dataframe\">\n",
       "  <thead>\n",
       "    <tr style=\"text-align: right;\">\n",
       "      <th></th>\n",
       "      <th>Latitude</th>\n",
       "      <th>Longitude</th>\n",
       "      <th>Hour</th>\n",
       "      <th>Month</th>\n",
       "      <th>Day of Week</th>\n",
       "      <th>Weekend</th>\n",
       "      <th>Weekday</th>\n",
       "      <th>Cluster</th>\n",
       "      <th>Normalized_Score</th>\n",
       "    </tr>\n",
       "  </thead>\n",
       "  <tbody>\n",
       "    <tr>\n",
       "      <th>43034</th>\n",
       "      <td>40.808079</td>\n",
       "      <td>-73.950237</td>\n",
       "      <td>22</td>\n",
       "      <td>11</td>\n",
       "      <td>0</td>\n",
       "      <td>0</td>\n",
       "      <td>1</td>\n",
       "      <td>37</td>\n",
       "      <td>0.342857</td>\n",
       "    </tr>\n",
       "    <tr>\n",
       "      <th>29406</th>\n",
       "      <td>40.757008</td>\n",
       "      <td>-73.963872</td>\n",
       "      <td>10</td>\n",
       "      <td>8</td>\n",
       "      <td>6</td>\n",
       "      <td>1</td>\n",
       "      <td>0</td>\n",
       "      <td>300</td>\n",
       "      <td>0.042857</td>\n",
       "    </tr>\n",
       "    <tr>\n",
       "      <th>43789</th>\n",
       "      <td>40.753591</td>\n",
       "      <td>-73.965491</td>\n",
       "      <td>15</td>\n",
       "      <td>11</td>\n",
       "      <td>5</td>\n",
       "      <td>1</td>\n",
       "      <td>0</td>\n",
       "      <td>435</td>\n",
       "      <td>0.000000</td>\n",
       "    </tr>\n",
       "    <tr>\n",
       "      <th>50360</th>\n",
       "      <td>40.825138</td>\n",
       "      <td>-73.951395</td>\n",
       "      <td>3</td>\n",
       "      <td>12</td>\n",
       "      <td>5</td>\n",
       "      <td>1</td>\n",
       "      <td>0</td>\n",
       "      <td>235</td>\n",
       "      <td>0.142857</td>\n",
       "    </tr>\n",
       "    <tr>\n",
       "      <th>41569</th>\n",
       "      <td>40.863852</td>\n",
       "      <td>-73.925231</td>\n",
       "      <td>19</td>\n",
       "      <td>10</td>\n",
       "      <td>0</td>\n",
       "      <td>0</td>\n",
       "      <td>1</td>\n",
       "      <td>466</td>\n",
       "      <td>0.085714</td>\n",
       "    </tr>\n",
       "  </tbody>\n",
       "</table>\n",
       "</div>"
      ],
      "text/plain": [
       "        Latitude  Longitude  Hour  Month  Day of Week  Weekend  Weekday  \\\n",
       "43034  40.808079 -73.950237    22     11            0        0        1   \n",
       "29406  40.757008 -73.963872    10      8            6        1        0   \n",
       "43789  40.753591 -73.965491    15     11            5        1        0   \n",
       "50360  40.825138 -73.951395     3     12            5        1        0   \n",
       "41569  40.863852 -73.925231    19     10            0        0        1   \n",
       "\n",
       "       Cluster  Normalized_Score  \n",
       "43034       37          0.342857  \n",
       "29406      300          0.042857  \n",
       "43789      435          0.000000  \n",
       "50360      235          0.142857  \n",
       "41569      466          0.085714  "
      ]
     },
     "execution_count": 11,
     "metadata": {},
     "output_type": "execute_result"
    }
   ],
   "source": [
    "df_train.head()"
   ]
  },
  {
   "cell_type": "code",
   "execution_count": 12,
   "id": "2073bfbd",
   "metadata": {},
   "outputs": [
    {
     "name": "stdout",
     "output_type": "stream",
     "text": [
      "Latitude            0\n",
      "Longitude           0\n",
      "Hour                0\n",
      "Month               0\n",
      "Day of Week         0\n",
      "Weekend             0\n",
      "Weekday             0\n",
      "Cluster             0\n",
      "Normalized_Score    0\n",
      "dtype: int64\n"
     ]
    }
   ],
   "source": [
    "print(df_train.isnull().sum())"
   ]
  },
  {
   "cell_type": "code",
   "execution_count": 13,
   "id": "960045e3",
   "metadata": {},
   "outputs": [
    {
     "data": {
      "text/html": [
       "<div>\n",
       "<style scoped>\n",
       "    .dataframe tbody tr th:only-of-type {\n",
       "        vertical-align: middle;\n",
       "    }\n",
       "\n",
       "    .dataframe tbody tr th {\n",
       "        vertical-align: top;\n",
       "    }\n",
       "\n",
       "    .dataframe thead th {\n",
       "        text-align: right;\n",
       "    }\n",
       "</style>\n",
       "<table border=\"1\" class=\"dataframe\">\n",
       "  <thead>\n",
       "    <tr style=\"text-align: right;\">\n",
       "      <th></th>\n",
       "      <th>Latitude</th>\n",
       "      <th>Longitude</th>\n",
       "      <th>Hour</th>\n",
       "      <th>Month</th>\n",
       "      <th>Day of Week</th>\n",
       "      <th>Weekend</th>\n",
       "      <th>Weekday</th>\n",
       "      <th>Cluster</th>\n",
       "      <th>Normalized_Score</th>\n",
       "    </tr>\n",
       "  </thead>\n",
       "  <tbody>\n",
       "    <tr>\n",
       "      <th>20062</th>\n",
       "      <td>40.724536</td>\n",
       "      <td>-73.979959</td>\n",
       "      <td>15</td>\n",
       "      <td>5</td>\n",
       "      <td>2</td>\n",
       "      <td>0</td>\n",
       "      <td>1</td>\n",
       "      <td>16</td>\n",
       "      <td>0.000000</td>\n",
       "    </tr>\n",
       "    <tr>\n",
       "      <th>42198</th>\n",
       "      <td>40.766481</td>\n",
       "      <td>-73.981809</td>\n",
       "      <td>22</td>\n",
       "      <td>11</td>\n",
       "      <td>3</td>\n",
       "      <td>0</td>\n",
       "      <td>1</td>\n",
       "      <td>397</td>\n",
       "      <td>0.471429</td>\n",
       "    </tr>\n",
       "    <tr>\n",
       "      <th>40991</th>\n",
       "      <td>40.716732</td>\n",
       "      <td>-73.978064</td>\n",
       "      <td>13</td>\n",
       "      <td>10</td>\n",
       "      <td>4</td>\n",
       "      <td>0</td>\n",
       "      <td>1</td>\n",
       "      <td>55</td>\n",
       "      <td>0.000000</td>\n",
       "    </tr>\n",
       "    <tr>\n",
       "      <th>33951</th>\n",
       "      <td>40.863140</td>\n",
       "      <td>-73.927213</td>\n",
       "      <td>23</td>\n",
       "      <td>9</td>\n",
       "      <td>4</td>\n",
       "      <td>0</td>\n",
       "      <td>1</td>\n",
       "      <td>466</td>\n",
       "      <td>0.642857</td>\n",
       "    </tr>\n",
       "    <tr>\n",
       "      <th>48696</th>\n",
       "      <td>40.773377</td>\n",
       "      <td>-73.990793</td>\n",
       "      <td>6</td>\n",
       "      <td>12</td>\n",
       "      <td>5</td>\n",
       "      <td>1</td>\n",
       "      <td>0</td>\n",
       "      <td>109</td>\n",
       "      <td>0.000000</td>\n",
       "    </tr>\n",
       "  </tbody>\n",
       "</table>\n",
       "</div>"
      ],
      "text/plain": [
       "        Latitude  Longitude  Hour  Month  Day of Week  Weekend  Weekday  \\\n",
       "20062  40.724536 -73.979959    15      5            2        0        1   \n",
       "42198  40.766481 -73.981809    22     11            3        0        1   \n",
       "40991  40.716732 -73.978064    13     10            4        0        1   \n",
       "33951  40.863140 -73.927213    23      9            4        0        1   \n",
       "48696  40.773377 -73.990793     6     12            5        1        0   \n",
       "\n",
       "       Cluster  Normalized_Score  \n",
       "20062       16          0.000000  \n",
       "42198      397          0.471429  \n",
       "40991       55          0.000000  \n",
       "33951      466          0.642857  \n",
       "48696      109          0.000000  "
      ]
     },
     "execution_count": 13,
     "metadata": {},
     "output_type": "execute_result"
    }
   ],
   "source": [
    "df_test.head()"
   ]
  },
  {
   "cell_type": "code",
   "execution_count": 14,
   "id": "b53768b0",
   "metadata": {},
   "outputs": [
    {
     "name": "stdout",
     "output_type": "stream",
     "text": [
      "Latitude            0\n",
      "Longitude           0\n",
      "Hour                0\n",
      "Month               0\n",
      "Day of Week         0\n",
      "Weekend             0\n",
      "Weekday             0\n",
      "Cluster             0\n",
      "Normalized_Score    0\n",
      "dtype: int64\n"
     ]
    }
   ],
   "source": [
    "print(df_test.isnull().sum())"
   ]
  },
  {
   "cell_type": "markdown",
   "id": "c8abcecc",
   "metadata": {},
   "source": [
    "## Begin testing using the training set "
   ]
  },
  {
   "cell_type": "code",
   "execution_count": 15,
   "id": "f64bd10e",
   "metadata": {},
   "outputs": [],
   "source": [
    "X = df_train[['Latitude','Longitude','Hour','Weekend','Weekday']]\n",
    "y = df_train['Normalized_Score']"
   ]
  },
  {
   "cell_type": "code",
   "execution_count": 16,
   "id": "b3896827",
   "metadata": {},
   "outputs": [],
   "source": [
    "X_train, X_val, y_train, y_val = train_test_split(X, y, test_size=0.5, random_state=42)"
   ]
  },
  {
   "cell_type": "code",
   "execution_count": 17,
   "id": "b3ce3763",
   "metadata": {},
   "outputs": [],
   "source": [
    "model = RandomForestRegressor(random_state=42)"
   ]
  },
  {
   "cell_type": "code",
   "execution_count": 18,
   "id": "b3629675",
   "metadata": {},
   "outputs": [
    {
     "data": {
      "text/html": [
       "<style>#sk-container-id-1 {color: black;background-color: white;}#sk-container-id-1 pre{padding: 0;}#sk-container-id-1 div.sk-toggleable {background-color: white;}#sk-container-id-1 label.sk-toggleable__label {cursor: pointer;display: block;width: 100%;margin-bottom: 0;padding: 0.3em;box-sizing: border-box;text-align: center;}#sk-container-id-1 label.sk-toggleable__label-arrow:before {content: \"▸\";float: left;margin-right: 0.25em;color: #696969;}#sk-container-id-1 label.sk-toggleable__label-arrow:hover:before {color: black;}#sk-container-id-1 div.sk-estimator:hover label.sk-toggleable__label-arrow:before {color: black;}#sk-container-id-1 div.sk-toggleable__content {max-height: 0;max-width: 0;overflow: hidden;text-align: left;background-color: #f0f8ff;}#sk-container-id-1 div.sk-toggleable__content pre {margin: 0.2em;color: black;border-radius: 0.25em;background-color: #f0f8ff;}#sk-container-id-1 input.sk-toggleable__control:checked~div.sk-toggleable__content {max-height: 200px;max-width: 100%;overflow: auto;}#sk-container-id-1 input.sk-toggleable__control:checked~label.sk-toggleable__label-arrow:before {content: \"▾\";}#sk-container-id-1 div.sk-estimator input.sk-toggleable__control:checked~label.sk-toggleable__label {background-color: #d4ebff;}#sk-container-id-1 div.sk-label input.sk-toggleable__control:checked~label.sk-toggleable__label {background-color: #d4ebff;}#sk-container-id-1 input.sk-hidden--visually {border: 0;clip: rect(1px 1px 1px 1px);clip: rect(1px, 1px, 1px, 1px);height: 1px;margin: -1px;overflow: hidden;padding: 0;position: absolute;width: 1px;}#sk-container-id-1 div.sk-estimator {font-family: monospace;background-color: #f0f8ff;border: 1px dotted black;border-radius: 0.25em;box-sizing: border-box;margin-bottom: 0.5em;}#sk-container-id-1 div.sk-estimator:hover {background-color: #d4ebff;}#sk-container-id-1 div.sk-parallel-item::after {content: \"\";width: 100%;border-bottom: 1px solid gray;flex-grow: 1;}#sk-container-id-1 div.sk-label:hover label.sk-toggleable__label {background-color: #d4ebff;}#sk-container-id-1 div.sk-serial::before {content: \"\";position: absolute;border-left: 1px solid gray;box-sizing: border-box;top: 0;bottom: 0;left: 50%;z-index: 0;}#sk-container-id-1 div.sk-serial {display: flex;flex-direction: column;align-items: center;background-color: white;padding-right: 0.2em;padding-left: 0.2em;position: relative;}#sk-container-id-1 div.sk-item {position: relative;z-index: 1;}#sk-container-id-1 div.sk-parallel {display: flex;align-items: stretch;justify-content: center;background-color: white;position: relative;}#sk-container-id-1 div.sk-item::before, #sk-container-id-1 div.sk-parallel-item::before {content: \"\";position: absolute;border-left: 1px solid gray;box-sizing: border-box;top: 0;bottom: 0;left: 50%;z-index: -1;}#sk-container-id-1 div.sk-parallel-item {display: flex;flex-direction: column;z-index: 1;position: relative;background-color: white;}#sk-container-id-1 div.sk-parallel-item:first-child::after {align-self: flex-end;width: 50%;}#sk-container-id-1 div.sk-parallel-item:last-child::after {align-self: flex-start;width: 50%;}#sk-container-id-1 div.sk-parallel-item:only-child::after {width: 0;}#sk-container-id-1 div.sk-dashed-wrapped {border: 1px dashed gray;margin: 0 0.4em 0.5em 0.4em;box-sizing: border-box;padding-bottom: 0.4em;background-color: white;}#sk-container-id-1 div.sk-label label {font-family: monospace;font-weight: bold;display: inline-block;line-height: 1.2em;}#sk-container-id-1 div.sk-label-container {text-align: center;}#sk-container-id-1 div.sk-container {/* jupyter's `normalize.less` sets `[hidden] { display: none; }` but bootstrap.min.css set `[hidden] { display: none !important; }` so we also need the `!important` here to be able to override the default hidden behavior on the sphinx rendered scikit-learn.org. See: https://github.com/scikit-learn/scikit-learn/issues/21755 */display: inline-block !important;position: relative;}#sk-container-id-1 div.sk-text-repr-fallback {display: none;}</style><div id=\"sk-container-id-1\" class=\"sk-top-container\"><div class=\"sk-text-repr-fallback\"><pre>RandomForestRegressor(random_state=42)</pre><b>In a Jupyter environment, please rerun this cell to show the HTML representation or trust the notebook. <br />On GitHub, the HTML representation is unable to render, please try loading this page with nbviewer.org.</b></div><div class=\"sk-container\" hidden><div class=\"sk-item\"><div class=\"sk-estimator sk-toggleable\"><input class=\"sk-toggleable__control sk-hidden--visually\" id=\"sk-estimator-id-1\" type=\"checkbox\" checked><label for=\"sk-estimator-id-1\" class=\"sk-toggleable__label sk-toggleable__label-arrow\">RandomForestRegressor</label><div class=\"sk-toggleable__content\"><pre>RandomForestRegressor(random_state=42)</pre></div></div></div></div></div>"
      ],
      "text/plain": [
       "RandomForestRegressor(random_state=42)"
      ]
     },
     "execution_count": 18,
     "metadata": {},
     "output_type": "execute_result"
    }
   ],
   "source": [
    "model.fit(X_train, y_train)"
   ]
  },
  {
   "cell_type": "code",
   "execution_count": 19,
   "id": "b69332a4",
   "metadata": {},
   "outputs": [],
   "source": [
    "y_val_pred = model.predict(X_val)"
   ]
  },
  {
   "cell_type": "code",
   "execution_count": 20,
   "id": "d36e93d6",
   "metadata": {},
   "outputs": [
    {
     "name": "stdout",
     "output_type": "stream",
     "text": [
      "Validation MSE: 0.020445864356615297\n"
     ]
    }
   ],
   "source": [
    "mse = mean_squared_error(y_val, y_val_pred)\n",
    "print('Validation MSE:', mse)"
   ]
  },
  {
   "cell_type": "code",
   "execution_count": 21,
   "id": "411a801c",
   "metadata": {},
   "outputs": [
    {
     "name": "stdout",
     "output_type": "stream",
     "text": [
      "Validation R^2: 0.6189976714591714\n"
     ]
    }
   ],
   "source": [
    "r2 = r2_score(y_val, y_val_pred)\n",
    "print('Validation R^2:', r2)"
   ]
  },
  {
   "cell_type": "code",
   "execution_count": 22,
   "id": "3faf9357",
   "metadata": {},
   "outputs": [
    {
     "name": "stdout",
     "output_type": "stream",
     "text": [
      "Validation MAE: 0.09669844595633147\n"
     ]
    }
   ],
   "source": [
    "mae = mean_absolute_error(y_val, y_val_pred)\n",
    "print('Validation MAE:', mae)"
   ]
  },
  {
   "cell_type": "markdown",
   "id": "2ed76c53",
   "metadata": {},
   "source": [
    "## Test other models"
   ]
  },
  {
   "cell_type": "code",
   "execution_count": 31,
   "id": "8deb3df4",
   "metadata": {},
   "outputs": [],
   "source": [
    "from xgboost import XGBRegressor\n",
    "\n",
    "models = [\n",
    "    ('Linear Regression', LinearRegression()),\n",
    "    ('Decision Tree', DecisionTreeRegressor(random_state=42)),\n",
    "    ('Random Forest', RandomForestRegressor(random_state=42)),\n",
    "    ('Gradient Boosting', GradientBoostingRegressor(random_state=42)),\n",
    "    ('Support Vector Regression', SVR()),\n",
    "    ('XGBoost', XGBRegressor(random_state=42))\n",
    "]"
   ]
  },
  {
   "cell_type": "code",
   "execution_count": 32,
   "id": "be044712",
   "metadata": {},
   "outputs": [],
   "source": [
    "results = []"
   ]
  },
  {
   "cell_type": "code",
   "execution_count": 33,
   "id": "a1593847",
   "metadata": {},
   "outputs": [],
   "source": [
    "for name, model in models:\n",
    "    grid_search = GridSearchCV(estimator=model, param_grid={}, cv=3, scoring='neg_mean_absolute_error')\n",
    "    grid_search.fit(X_train, y_train)\n",
    "\n",
    "    best_model = grid_search.best_estimator_\n",
    "\n",
    "    y_val_pred = best_model.predict(X_val)\n",
    "\n",
    "    mae = mean_absolute_error(y_val, y_val_pred)\n",
    "\n",
    "    results.append((name, mae))"
   ]
  },
  {
   "cell_type": "code",
   "execution_count": 34,
   "id": "3a961e74",
   "metadata": {},
   "outputs": [],
   "source": [
    "results.sort(key=lambda x: x[1])"
   ]
  },
  {
   "cell_type": "code",
   "execution_count": 35,
   "id": "8cc5d694",
   "metadata": {},
   "outputs": [
    {
     "name": "stdout",
     "output_type": "stream",
     "text": [
      "Model: Random Forest, Validation MAE: 0.09669844595633147\n",
      "Model: Decision Tree, Validation MAE: 0.10194801517639732\n",
      "Model: XGBoost, Validation MAE: 0.11550179557515824\n",
      "Model: Gradient Boosting, Validation MAE: 0.13660764709055728\n",
      "Model: Support Vector Regression, Validation MAE: 0.1484017428936586\n",
      "Model: Linear Regression, Validation MAE: 0.17013737170043\n"
     ]
    }
   ],
   "source": [
    "for name, mae in results:\n",
    "    print(f'Model: {name}, Validation MAE: {mae}')"
   ]
  },
  {
   "cell_type": "markdown",
   "id": "8b61ef79",
   "metadata": {},
   "source": [
    "## Hyperparameter tuning for best fit model"
   ]
  },
  {
   "cell_type": "markdown",
   "id": "aa63333b",
   "metadata": {},
   "source": [
    "### Essential to prevent overfitting within the model"
   ]
  },
  {
   "cell_type": "code",
   "execution_count": 25,
   "id": "8af547c4",
   "metadata": {},
   "outputs": [],
   "source": [
    "X_train, X_val, y_train, y_val = train_test_split(X, y, test_size=0.5, random_state=42)"
   ]
  },
  {
   "cell_type": "code",
   "execution_count": 26,
   "id": "e1905d87",
   "metadata": {},
   "outputs": [],
   "source": [
    "model = RandomForestRegressor(random_state=42)"
   ]
  },
  {
   "cell_type": "code",
   "execution_count": 27,
   "id": "c6e3c2ee",
   "metadata": {},
   "outputs": [
    {
     "data": {
      "text/html": [
       "<style>#sk-container-id-2 {color: black;background-color: white;}#sk-container-id-2 pre{padding: 0;}#sk-container-id-2 div.sk-toggleable {background-color: white;}#sk-container-id-2 label.sk-toggleable__label {cursor: pointer;display: block;width: 100%;margin-bottom: 0;padding: 0.3em;box-sizing: border-box;text-align: center;}#sk-container-id-2 label.sk-toggleable__label-arrow:before {content: \"▸\";float: left;margin-right: 0.25em;color: #696969;}#sk-container-id-2 label.sk-toggleable__label-arrow:hover:before {color: black;}#sk-container-id-2 div.sk-estimator:hover label.sk-toggleable__label-arrow:before {color: black;}#sk-container-id-2 div.sk-toggleable__content {max-height: 0;max-width: 0;overflow: hidden;text-align: left;background-color: #f0f8ff;}#sk-container-id-2 div.sk-toggleable__content pre {margin: 0.2em;color: black;border-radius: 0.25em;background-color: #f0f8ff;}#sk-container-id-2 input.sk-toggleable__control:checked~div.sk-toggleable__content {max-height: 200px;max-width: 100%;overflow: auto;}#sk-container-id-2 input.sk-toggleable__control:checked~label.sk-toggleable__label-arrow:before {content: \"▾\";}#sk-container-id-2 div.sk-estimator input.sk-toggleable__control:checked~label.sk-toggleable__label {background-color: #d4ebff;}#sk-container-id-2 div.sk-label input.sk-toggleable__control:checked~label.sk-toggleable__label {background-color: #d4ebff;}#sk-container-id-2 input.sk-hidden--visually {border: 0;clip: rect(1px 1px 1px 1px);clip: rect(1px, 1px, 1px, 1px);height: 1px;margin: -1px;overflow: hidden;padding: 0;position: absolute;width: 1px;}#sk-container-id-2 div.sk-estimator {font-family: monospace;background-color: #f0f8ff;border: 1px dotted black;border-radius: 0.25em;box-sizing: border-box;margin-bottom: 0.5em;}#sk-container-id-2 div.sk-estimator:hover {background-color: #d4ebff;}#sk-container-id-2 div.sk-parallel-item::after {content: \"\";width: 100%;border-bottom: 1px solid gray;flex-grow: 1;}#sk-container-id-2 div.sk-label:hover label.sk-toggleable__label {background-color: #d4ebff;}#sk-container-id-2 div.sk-serial::before {content: \"\";position: absolute;border-left: 1px solid gray;box-sizing: border-box;top: 0;bottom: 0;left: 50%;z-index: 0;}#sk-container-id-2 div.sk-serial {display: flex;flex-direction: column;align-items: center;background-color: white;padding-right: 0.2em;padding-left: 0.2em;position: relative;}#sk-container-id-2 div.sk-item {position: relative;z-index: 1;}#sk-container-id-2 div.sk-parallel {display: flex;align-items: stretch;justify-content: center;background-color: white;position: relative;}#sk-container-id-2 div.sk-item::before, #sk-container-id-2 div.sk-parallel-item::before {content: \"\";position: absolute;border-left: 1px solid gray;box-sizing: border-box;top: 0;bottom: 0;left: 50%;z-index: -1;}#sk-container-id-2 div.sk-parallel-item {display: flex;flex-direction: column;z-index: 1;position: relative;background-color: white;}#sk-container-id-2 div.sk-parallel-item:first-child::after {align-self: flex-end;width: 50%;}#sk-container-id-2 div.sk-parallel-item:last-child::after {align-self: flex-start;width: 50%;}#sk-container-id-2 div.sk-parallel-item:only-child::after {width: 0;}#sk-container-id-2 div.sk-dashed-wrapped {border: 1px dashed gray;margin: 0 0.4em 0.5em 0.4em;box-sizing: border-box;padding-bottom: 0.4em;background-color: white;}#sk-container-id-2 div.sk-label label {font-family: monospace;font-weight: bold;display: inline-block;line-height: 1.2em;}#sk-container-id-2 div.sk-label-container {text-align: center;}#sk-container-id-2 div.sk-container {/* jupyter's `normalize.less` sets `[hidden] { display: none; }` but bootstrap.min.css set `[hidden] { display: none !important; }` so we also need the `!important` here to be able to override the default hidden behavior on the sphinx rendered scikit-learn.org. See: https://github.com/scikit-learn/scikit-learn/issues/21755 */display: inline-block !important;position: relative;}#sk-container-id-2 div.sk-text-repr-fallback {display: none;}</style><div id=\"sk-container-id-2\" class=\"sk-top-container\"><div class=\"sk-text-repr-fallback\"><pre>RandomForestRegressor(random_state=42)</pre><b>In a Jupyter environment, please rerun this cell to show the HTML representation or trust the notebook. <br />On GitHub, the HTML representation is unable to render, please try loading this page with nbviewer.org.</b></div><div class=\"sk-container\" hidden><div class=\"sk-item\"><div class=\"sk-estimator sk-toggleable\"><input class=\"sk-toggleable__control sk-hidden--visually\" id=\"sk-estimator-id-2\" type=\"checkbox\" checked><label for=\"sk-estimator-id-2\" class=\"sk-toggleable__label sk-toggleable__label-arrow\">RandomForestRegressor</label><div class=\"sk-toggleable__content\"><pre>RandomForestRegressor(random_state=42)</pre></div></div></div></div></div>"
      ],
      "text/plain": [
       "RandomForestRegressor(random_state=42)"
      ]
     },
     "execution_count": 27,
     "metadata": {},
     "output_type": "execute_result"
    }
   ],
   "source": [
    "model.fit(X_train, y_train)"
   ]
  },
  {
   "cell_type": "code",
   "execution_count": 28,
   "id": "2d23ff8b",
   "metadata": {},
   "outputs": [],
   "source": [
    "y_val_pred = model.predict(X_val)"
   ]
  },
  {
   "cell_type": "code",
   "execution_count": 29,
   "id": "3aaebd13",
   "metadata": {},
   "outputs": [],
   "source": [
    "param_grid = {\n",
    "    'n_estimators': [50, 100, 200],\n",
    "    'max_depth': [None, 10, 20, 30],\n",
    "    'min_samples_split': [2, 5, 10],\n",
    "}"
   ]
  },
  {
   "cell_type": "code",
   "execution_count": 30,
   "id": "c2236aa1",
   "metadata": {},
   "outputs": [],
   "source": [
    "# grid_search = GridSearchCV(estimator=model, param_grid=param_grid, cv=3, scoring='neg_mean_squared_error')"
   ]
  },
  {
   "cell_type": "code",
   "execution_count": 31,
   "id": "6727fbab",
   "metadata": {},
   "outputs": [],
   "source": [
    "# grid_search.fit(X_train, y_train)"
   ]
  },
  {
   "cell_type": "code",
   "execution_count": 33,
   "id": "a01f44a4",
   "metadata": {},
   "outputs": [],
   "source": [
    "# best_params = grid_search.best_params_\n",
    "# print('Best parameters:', best_params)"
   ]
  },
  {
   "cell_type": "markdown",
   "id": "0bdb5b17",
   "metadata": {},
   "source": [
    "## Use parameters for best fit model"
   ]
  },
  {
   "cell_type": "code",
   "execution_count": 35,
   "id": "90b74d1b",
   "metadata": {},
   "outputs": [],
   "source": [
    "# best_model = RandomForestRegressor(**best_params, random_state=42)"
   ]
  },
  {
   "cell_type": "code",
   "execution_count": 54,
   "id": "2954a534",
   "metadata": {},
   "outputs": [],
   "source": [
    "# Join training and validation sets\n",
    "X_full_train = pd.concat([X_train, X_val])\n",
    "y_full_train = pd.concat([y_train, y_val])"
   ]
  },
  {
   "cell_type": "code",
   "execution_count": 37,
   "id": "5edf6730",
   "metadata": {},
   "outputs": [],
   "source": [
    "# best_model.fit(X_full_train, y_full_train)"
   ]
  },
  {
   "cell_type": "code",
   "execution_count": 55,
   "id": "aa3c5011",
   "metadata": {},
   "outputs": [],
   "source": [
    "X_test = df_test[['Latitude','Longitude','Hour','Weekend','Weekday']]\n",
    "y_test = df_test['Normalized_Score']"
   ]
  },
  {
   "cell_type": "markdown",
   "id": "2fbe241f",
   "metadata": {},
   "source": [
    "## Predict off the original test set"
   ]
  },
  {
   "cell_type": "code",
   "execution_count": 39,
   "id": "344a0293",
   "metadata": {},
   "outputs": [],
   "source": [
    "# y_test_pred = best_model.predict(X_test)"
   ]
  },
  {
   "cell_type": "code",
   "execution_count": 40,
   "id": "8d85a222",
   "metadata": {},
   "outputs": [],
   "source": [
    "# mse_test = mean_squared_error(y_test, y_test_pred)\n",
    "# print('Test MSE:', mse_test)"
   ]
  },
  {
   "cell_type": "markdown",
   "id": "aa7298b8",
   "metadata": {},
   "source": [
    "## Test random instances to check the model's ability to predict "
   ]
  },
  {
   "cell_type": "code",
   "execution_count": 195,
   "id": "2bacfeb4",
   "metadata": {},
   "outputs": [],
   "source": [
    "# new_data = pd.DataFrame({\n",
    "#     'Latitude': [40.73, 40.75, 40.77, 40.79, 40.81],\n",
    "#     'Longitude': [-73.93, -73.98, -73.95, -73.92, -73.90],\n",
    "#     'Hour': [12, 18, 6, 14, 22],\n",
    "#     'Weekend': [1, 0, 1, 0, 1],\n",
    "#     'Weekday': [0, 1, 0, 1, 0],\n",
    "# })"
   ]
  },
  {
   "cell_type": "code",
   "execution_count": 41,
   "id": "667b7615",
   "metadata": {},
   "outputs": [],
   "source": [
    "# predictions = best_model.predict(new_data)\n",
    "# print(predictions)"
   ]
  },
  {
   "cell_type": "markdown",
   "id": "ebb074b9",
   "metadata": {},
   "source": [
    "## Indication of negative values suggests we need to take more testing into consideration"
   ]
  },
  {
   "cell_type": "code",
   "execution_count": 42,
   "id": "e12015ca",
   "metadata": {},
   "outputs": [],
   "source": [
    "# new_data = pd.DataFrame({\n",
    "#     'Latitude': [40.710742, 40.752984, 40.774212, 40.796548, 40.819271],\n",
    "#     'Longitude': [-73.928215, -73.937432, -73.956129, -73.975121, -73.994011],\n",
    "#     'Hour': [10, 18, 6, 14, 22],\n",
    "#     'Weekend': [1, 0, 1, 0, 1],\n",
    "#     'Weekday': [0, 1, 0, 1, 0],\n",
    "# })"
   ]
  },
  {
   "cell_type": "code",
   "execution_count": 44,
   "id": "cbe98bb7",
   "metadata": {
    "scrolled": true
   },
   "outputs": [],
   "source": [
    "# predictions = best_model.predict(new_data)\n",
    "# print(predictions)"
   ]
  },
  {
   "cell_type": "markdown",
   "id": "67067b3d",
   "metadata": {},
   "source": [
    "## Still seeing negative predictions with more accurate input values "
   ]
  },
  {
   "cell_type": "markdown",
   "id": "b394e70c",
   "metadata": {},
   "source": [
    "### More accurate hyperparameter tuning needed"
   ]
  },
  {
   "cell_type": "code",
   "execution_count": 45,
   "id": "2e20717b",
   "metadata": {},
   "outputs": [],
   "source": [
    "param_grid = {\n",
    "    'n_estimators': [50, 100, 150, 200, 250],\n",
    "    'max_depth': [None, 5, 10, 15, 20, 25, 30],\n",
    "    'min_samples_split': [2, 3, 4, 5, 6, 7, 8, 9, 10],\n",
    "    'min_samples_leaf': [1, 2, 3, 4, 5],\n",
    "    'max_features': ['auto', 'sqrt', 'log2']\n",
    "}"
   ]
  },
  {
   "cell_type": "code",
   "execution_count": 46,
   "id": "9decbffe",
   "metadata": {},
   "outputs": [],
   "source": [
    "# Commented out as grid search is so computationally intensive\n",
    "\n",
    "# grid_search = GridSearchCV(estimator=best_model, param_grid=param_grid, cv=3, scoring='neg_mean_squared_error', verbose=2)\n",
    "# grid_search.fit(X_train, y_train)"
   ]
  },
  {
   "cell_type": "markdown",
   "id": "a31b404c",
   "metadata": {},
   "source": [
    "Best parameters: {'max_depth': 10, 'max_features': 'sqrt', 'min_samples_leaf': 1, 'min_samples_split': 2, 'n_estimators': 250}"
   ]
  },
  {
   "cell_type": "code",
   "execution_count": 47,
   "id": "4b19a117",
   "metadata": {},
   "outputs": [],
   "source": [
    "new_params = {\n",
    "    'max_depth': 10, \n",
    "    'max_features': 'sqrt', \n",
    "    'min_samples_leaf': 1, \n",
    "    'min_samples_split': 2, \n",
    "    'n_estimators': 250\n",
    "}"
   ]
  },
  {
   "cell_type": "code",
   "execution_count": 48,
   "id": "7846b7c3",
   "metadata": {},
   "outputs": [
    {
     "name": "stdout",
     "output_type": "stream",
     "text": [
      "Best parameters: {'max_depth': 10, 'max_features': 'sqrt', 'min_samples_leaf': 1, 'min_samples_split': 2, 'n_estimators': 250}\n"
     ]
    }
   ],
   "source": [
    "# Commented out as this works with the grid search above - not needed at the moment as I have saved the best \n",
    "# parameters as a variable instead after running the grid search already\n",
    "\n",
    "# best_params = grid_search.best_params_\n",
    "print('Best parameters:', new_params)"
   ]
  },
  {
   "cell_type": "markdown",
   "id": "43401f73",
   "metadata": {},
   "source": [
    "## Best Parameters for Random Forest Regressor"
   ]
  },
  {
   "cell_type": "code",
   "execution_count": 49,
   "id": "07f5552c",
   "metadata": {},
   "outputs": [],
   "source": [
    "best_model = RandomForestRegressor(**new_params, random_state=42)"
   ]
  },
  {
   "cell_type": "code",
   "execution_count": 50,
   "id": "9a7e14c1",
   "metadata": {},
   "outputs": [],
   "source": [
    "X_full_train = pd.concat([X_train, X_val])\n",
    "y_full_train = pd.concat([y_train, y_val])"
   ]
  },
  {
   "cell_type": "code",
   "execution_count": 51,
   "id": "124070db",
   "metadata": {},
   "outputs": [
    {
     "data": {
      "text/html": [
       "<style>#sk-container-id-3 {color: black;background-color: white;}#sk-container-id-3 pre{padding: 0;}#sk-container-id-3 div.sk-toggleable {background-color: white;}#sk-container-id-3 label.sk-toggleable__label {cursor: pointer;display: block;width: 100%;margin-bottom: 0;padding: 0.3em;box-sizing: border-box;text-align: center;}#sk-container-id-3 label.sk-toggleable__label-arrow:before {content: \"▸\";float: left;margin-right: 0.25em;color: #696969;}#sk-container-id-3 label.sk-toggleable__label-arrow:hover:before {color: black;}#sk-container-id-3 div.sk-estimator:hover label.sk-toggleable__label-arrow:before {color: black;}#sk-container-id-3 div.sk-toggleable__content {max-height: 0;max-width: 0;overflow: hidden;text-align: left;background-color: #f0f8ff;}#sk-container-id-3 div.sk-toggleable__content pre {margin: 0.2em;color: black;border-radius: 0.25em;background-color: #f0f8ff;}#sk-container-id-3 input.sk-toggleable__control:checked~div.sk-toggleable__content {max-height: 200px;max-width: 100%;overflow: auto;}#sk-container-id-3 input.sk-toggleable__control:checked~label.sk-toggleable__label-arrow:before {content: \"▾\";}#sk-container-id-3 div.sk-estimator input.sk-toggleable__control:checked~label.sk-toggleable__label {background-color: #d4ebff;}#sk-container-id-3 div.sk-label input.sk-toggleable__control:checked~label.sk-toggleable__label {background-color: #d4ebff;}#sk-container-id-3 input.sk-hidden--visually {border: 0;clip: rect(1px 1px 1px 1px);clip: rect(1px, 1px, 1px, 1px);height: 1px;margin: -1px;overflow: hidden;padding: 0;position: absolute;width: 1px;}#sk-container-id-3 div.sk-estimator {font-family: monospace;background-color: #f0f8ff;border: 1px dotted black;border-radius: 0.25em;box-sizing: border-box;margin-bottom: 0.5em;}#sk-container-id-3 div.sk-estimator:hover {background-color: #d4ebff;}#sk-container-id-3 div.sk-parallel-item::after {content: \"\";width: 100%;border-bottom: 1px solid gray;flex-grow: 1;}#sk-container-id-3 div.sk-label:hover label.sk-toggleable__label {background-color: #d4ebff;}#sk-container-id-3 div.sk-serial::before {content: \"\";position: absolute;border-left: 1px solid gray;box-sizing: border-box;top: 0;bottom: 0;left: 50%;z-index: 0;}#sk-container-id-3 div.sk-serial {display: flex;flex-direction: column;align-items: center;background-color: white;padding-right: 0.2em;padding-left: 0.2em;position: relative;}#sk-container-id-3 div.sk-item {position: relative;z-index: 1;}#sk-container-id-3 div.sk-parallel {display: flex;align-items: stretch;justify-content: center;background-color: white;position: relative;}#sk-container-id-3 div.sk-item::before, #sk-container-id-3 div.sk-parallel-item::before {content: \"\";position: absolute;border-left: 1px solid gray;box-sizing: border-box;top: 0;bottom: 0;left: 50%;z-index: -1;}#sk-container-id-3 div.sk-parallel-item {display: flex;flex-direction: column;z-index: 1;position: relative;background-color: white;}#sk-container-id-3 div.sk-parallel-item:first-child::after {align-self: flex-end;width: 50%;}#sk-container-id-3 div.sk-parallel-item:last-child::after {align-self: flex-start;width: 50%;}#sk-container-id-3 div.sk-parallel-item:only-child::after {width: 0;}#sk-container-id-3 div.sk-dashed-wrapped {border: 1px dashed gray;margin: 0 0.4em 0.5em 0.4em;box-sizing: border-box;padding-bottom: 0.4em;background-color: white;}#sk-container-id-3 div.sk-label label {font-family: monospace;font-weight: bold;display: inline-block;line-height: 1.2em;}#sk-container-id-3 div.sk-label-container {text-align: center;}#sk-container-id-3 div.sk-container {/* jupyter's `normalize.less` sets `[hidden] { display: none; }` but bootstrap.min.css set `[hidden] { display: none !important; }` so we also need the `!important` here to be able to override the default hidden behavior on the sphinx rendered scikit-learn.org. See: https://github.com/scikit-learn/scikit-learn/issues/21755 */display: inline-block !important;position: relative;}#sk-container-id-3 div.sk-text-repr-fallback {display: none;}</style><div id=\"sk-container-id-3\" class=\"sk-top-container\"><div class=\"sk-text-repr-fallback\"><pre>RandomForestRegressor(max_depth=10, max_features=&#x27;sqrt&#x27;, n_estimators=250,\n",
       "                      random_state=42)</pre><b>In a Jupyter environment, please rerun this cell to show the HTML representation or trust the notebook. <br />On GitHub, the HTML representation is unable to render, please try loading this page with nbviewer.org.</b></div><div class=\"sk-container\" hidden><div class=\"sk-item\"><div class=\"sk-estimator sk-toggleable\"><input class=\"sk-toggleable__control sk-hidden--visually\" id=\"sk-estimator-id-3\" type=\"checkbox\" checked><label for=\"sk-estimator-id-3\" class=\"sk-toggleable__label sk-toggleable__label-arrow\">RandomForestRegressor</label><div class=\"sk-toggleable__content\"><pre>RandomForestRegressor(max_depth=10, max_features=&#x27;sqrt&#x27;, n_estimators=250,\n",
       "                      random_state=42)</pre></div></div></div></div></div>"
      ],
      "text/plain": [
       "RandomForestRegressor(max_depth=10, max_features='sqrt', n_estimators=250,\n",
       "                      random_state=42)"
      ]
     },
     "execution_count": 51,
     "metadata": {},
     "output_type": "execute_result"
    }
   ],
   "source": [
    "best_model.fit(X_full_train, y_full_train)"
   ]
  },
  {
   "cell_type": "markdown",
   "id": "e063f146",
   "metadata": {},
   "source": [
    "## Predict off the original test set"
   ]
  },
  {
   "cell_type": "code",
   "execution_count": 56,
   "id": "ab84dc91",
   "metadata": {},
   "outputs": [],
   "source": [
    "y_test_pred = y_test_pred = best_model.predict(X_test)"
   ]
  },
  {
   "cell_type": "code",
   "execution_count": 57,
   "id": "86836b85",
   "metadata": {},
   "outputs": [
    {
     "name": "stdout",
     "output_type": "stream",
     "text": [
      "Test MSE: 0.027700856395795635\n"
     ]
    }
   ],
   "source": [
    "mse_test = mean_squared_error(y_test, y_test_pred)\n",
    "print('Test MSE:', mse_test)"
   ]
  },
  {
   "cell_type": "code",
   "execution_count": 58,
   "id": "bc65d146",
   "metadata": {},
   "outputs": [],
   "source": [
    "new_data = pd.DataFrame({\n",
    "    'Latitude': [40.730742, 40.752984, 40.774212, 40.796548, 40.819271],\n",
    "    'Longitude': [-73.918215, -73.937432, -73.956129, -73.975121, -73.994011],\n",
    "    'Hour': [12, 18, 6, 14, 22],\n",
    "    'Weekend': [1, 0, 1, 0, 1],\n",
    "    'Weekday': [0, 1, 0, 1, 0],\n",
    "})"
   ]
  },
  {
   "cell_type": "code",
   "execution_count": 59,
   "id": "eda6fcff",
   "metadata": {},
   "outputs": [
    {
     "name": "stdout",
     "output_type": "stream",
     "text": [
      "[0.09460594 0.172471   0.06100387 0.13813636 0.35793394]\n"
     ]
    }
   ],
   "source": [
    "predictions = best_model.predict(new_data)\n",
    "print(predictions)"
   ]
  },
  {
   "cell_type": "markdown",
   "id": "6a1d95b3",
   "metadata": {},
   "source": [
    "## Feature Importance"
   ]
  },
  {
   "cell_type": "code",
   "execution_count": 60,
   "id": "aee7ea22",
   "metadata": {},
   "outputs": [
    {
     "name": "stdout",
     "output_type": "stream",
     "text": [
      "Feature importances:\n",
      "\n",
      "Latitude: 0.19315450949504695\n",
      "Longitude: 0.17844639565908196\n",
      "Hour: 0.4798902823169443\n",
      "Weekend: 0.08497017529586395\n",
      "Weekday: 0.06353863723306287\n"
     ]
    }
   ],
   "source": [
    "feature_importance = best_model.feature_importances_\n",
    "print(\"Feature importances:\\n\")\n",
    "for i, imp in enumerate(feature_importance):\n",
    "    print(f\"{X.columns[i]}: {imp}\")"
   ]
  },
  {
   "cell_type": "markdown",
   "id": "4ff3fe38",
   "metadata": {},
   "source": [
    "## Residual Analysis"
   ]
  },
  {
   "cell_type": "code",
   "execution_count": 61,
   "id": "6293ee1d",
   "metadata": {},
   "outputs": [
    {
     "data": {
      "image/png": "[encoded data removed]",
      "text/plain": [
       "<Figure size 432x288 with 1 Axes>"
      ]
     },
     "metadata": {
      "needs_background": "light"
     },
     "output_type": "display_data"
    }
   ],
   "source": [
    "y_pred = best_model.predict(X_test)\n",
    "\n",
    "residuals = y_test - y_pred\n",
    "\n",
    "plt.scatter(y_pred, residuals)\n",
    "plt.xlabel('Predicted')\n",
    "plt.ylabel('Residual')\n",
    "plt.axhline(y=0)\n",
    "plt.title('Residual vs. Predicted')\n",
    "plt.show()"
   ]
  },
  {
   "cell_type": "markdown",
   "id": "e431c4b9",
   "metadata": {},
   "source": [
    "## Predicted vs Actual Plot "
   ]
  },
  {
   "cell_type": "code",
   "execution_count": 62,
   "id": "50e460af",
   "metadata": {},
   "outputs": [
    {
     "data": {
      "image/png": "[encoded data removed]",
      "text/plain": [
       "<Figure size 432x288 with 1 Axes>"
      ]
     },
     "metadata": {
      "needs_background": "light"
     },
     "output_type": "display_data"
    }
   ],
   "source": [
    "plt.scatter(y_test, y_pred)\n",
    "plt.xlabel('Actual')\n",
    "plt.ylabel('Predicted')\n",
    "plt.title('Actual vs. Predicted')\n",
    "plt.plot([min(y_test), max(y_test)], [min(y_test), max(y_test)], color='red')  # Red line represents perfect fit\n",
    "plt.show()"
   ]
  },
  {
   "cell_type": "markdown",
   "id": "f05c7f6f",
   "metadata": {},
   "source": [
    "## Cross Validation"
   ]
  },
  {
   "cell_type": "code",
   "execution_count": 63,
   "id": "8d35eddf",
   "metadata": {},
   "outputs": [
    {
     "name": "stdout",
     "output_type": "stream",
     "text": [
      "Scores: [0.17163436 0.17660108 0.16526787 0.16496463 0.16818246]\n",
      "Mean: 0.16933007767783245\n",
      "Standard Deviation: 0.004360114244216076\n"
     ]
    }
   ],
   "source": [
    "from sklearn.model_selection import cross_val_score\n",
    "\n",
    "scores = cross_val_score(best_model, X, y, scoring='neg_mean_squared_error', cv=5)\n",
    "\n",
    "rmse_scores = np.sqrt(-scores)\n",
    "\n",
    "print('Scores:', rmse_scores)\n",
    "print('Mean:', rmse_scores.mean())\n",
    "print('Standard Deviation:', rmse_scores.std())"
   ]
  },
  {
   "cell_type": "markdown",
   "id": "354145e9",
   "metadata": {},
   "source": [
    "## Multicollinearity"
   ]
  },
  {
   "cell_type": "code",
   "execution_count": 64,
   "id": "e7245a97",
   "metadata": {},
   "outputs": [
    {
     "name": "stdout",
     "output_type": "stream",
     "text": [
      "   variables       VIF\n",
      "0      const  0.000000\n",
      "1   Latitude  5.266198\n",
      "2  Longitude  5.279432\n",
      "3       Hour  1.007829\n",
      "4    Weekend       inf\n",
      "5    Weekday       inf\n"
     ]
    },
    {
     "name": "stderr",
     "output_type": "stream",
     "text": [
      "/Users/conormcelduff/opt/anaconda3/lib/python3.9/site-packages/statsmodels/regression/linear_model.py:1736: RuntimeWarning: divide by zero encountered in double_scalars\n",
      "  return 1 - self.ssr/self.centered_tss\n",
      "/Users/conormcelduff/opt/anaconda3/lib/python3.9/site-packages/statsmodels/stats/outliers_influence.py:195: RuntimeWarning: divide by zero encountered in double_scalars\n",
      "  vif = 1. / (1. - r_squared_i)\n"
     ]
    }
   ],
   "source": [
    "import statsmodels.api as sm\n",
    "from statsmodels.stats.outliers_influence import variance_inflation_factor\n",
    "\n",
    "X_const = sm.add_constant(X)\n",
    "\n",
    "vif = pd.DataFrame()\n",
    "vif[\"variables\"] = X_const.columns\n",
    "vif[\"VIF\"] = [variance_inflation_factor(X_const.values, i) for i in range(X_const.shape[1])]\n",
    "\n",
    "print(vif)"
   ]
  },
  {
   "cell_type": "markdown",
   "id": "c61cf5db",
   "metadata": {},
   "source": [
    "## Statistical Tests"
   ]
  },
  {
   "cell_type": "code",
   "execution_count": 65,
   "id": "152910a2",
   "metadata": {},
   "outputs": [
    {
     "name": "stdout",
     "output_type": "stream",
     "text": [
      "Feature: 0, Score: 0.19315\n",
      "Feature: 1, Score: 0.17845\n",
      "Feature: 2, Score: 0.47989\n",
      "Feature: 3, Score: 0.08497\n",
      "Feature: 4, Score: 0.06354\n"
     ]
    },
    {
     "data": {
      "image/png": "[encoded data removed]",
      "text/plain": [
       "<Figure size 432x288 with 1 Axes>"
      ]
     },
     "metadata": {
      "needs_background": "light"
     },
     "output_type": "display_data"
    }
   ],
   "source": [
    "importance = best_model.feature_importances_\n",
    "for i,j in enumerate(importance):\n",
    "    print('Feature: %0d, Score: %.5f' % (i,j))\n",
    "\n",
    "plt.bar([x for x in range(len(importance))], importance)\n",
    "plt.show()"
   ]
  },
  {
   "cell_type": "markdown",
   "id": "f0c8048c",
   "metadata": {},
   "source": [
    "## Coefficient of Determination (R-Squared):"
   ]
  },
  {
   "cell_type": "code",
   "execution_count": 66,
   "id": "06523464",
   "metadata": {},
   "outputs": [
    {
     "name": "stdout",
     "output_type": "stream",
     "text": [
      "R2 score: 0.4781935606134041\n"
     ]
    }
   ],
   "source": [
    "from sklearn.metrics import r2_score\n",
    "\n",
    "y_pred = best_model.predict(X_test)\n",
    "score = r2_score(y_test, y_pred)\n",
    "\n",
    "print('R2 score:', score)"
   ]
  },
  {
   "cell_type": "markdown",
   "id": "5c4c2658",
   "metadata": {},
   "source": [
    "## Error Analysis "
   ]
  },
  {
   "cell_type": "code",
   "execution_count": 67,
   "id": "ed865086",
   "metadata": {},
   "outputs": [
    {
     "name": "stdout",
     "output_type": "stream",
     "text": [
      "count    15137.000000\n",
      "mean        -0.002345\n",
      "std          0.166425\n",
      "min         -0.636298\n",
      "25%         -0.101179\n",
      "50%         -0.041107\n",
      "75%          0.067489\n",
      "max          0.876563\n",
      "Name: Normalized_Score, dtype: float64\n"
     ]
    },
    {
     "data": {
      "image/png": "[encoded data removed]",
      "text/plain": [
       "<Figure size 432x288 with 1 Axes>"
      ]
     },
     "metadata": {
      "needs_background": "light"
     },
     "output_type": "display_data"
    },
    {
     "data": {
      "image/png": "[encoded data removed]",
      "text/plain": [
       "<Figure size 432x288 with 1 Axes>"
      ]
     },
     "metadata": {
      "needs_background": "light"
     },
     "output_type": "display_data"
    }
   ],
   "source": [
    "residuals = y_test - y_test_pred\n",
    "\n",
    "# look at the summary statistics\n",
    "print(residuals.describe())\n",
    "\n",
    "# plot a histogram\n",
    "plt.hist(residuals, bins=50, alpha=0.5)\n",
    "plt.show()\n",
    "\n",
    "# check if there's any pattern of the residuals across the predicted value\n",
    "plt.scatter(y_test_pred, residuals, alpha=0.5)\n",
    "plt.xlabel('Predicted')\n",
    "plt.ylabel('Residuals')\n",
    "plt.show()"
   ]
  },
  {
   "cell_type": "markdown",
   "id": "5d5c5575",
   "metadata": {},
   "source": [
    "## Sensitivity Analysis "
   ]
  },
  {
   "cell_type": "code",
   "execution_count": 68,
   "id": "a5688c77",
   "metadata": {},
   "outputs": [
    {
     "name": "stdout",
     "output_type": "stream",
     "text": [
      "Perturbed Test MSE: 0.03433340051736653\n"
     ]
    }
   ],
   "source": [
    "X_test_perturbed = X_test.copy()\n",
    "X_test_perturbed['Longitude'] = X_test_perturbed['Longitude'] + np.random.normal(0, 0.01, size=len(X_test))\n",
    "y_test_pred_perturbed = best_model.predict(X_test_perturbed)\n",
    "mse_test_perturbed = mean_squared_error(y_test, y_test_pred_perturbed)\n",
    "print('Perturbed Test MSE:', mse_test_perturbed)"
   ]
  },
  {
   "cell_type": "markdown",
   "id": "3b01794f",
   "metadata": {},
   "source": [
    "## Confidence Intervals"
   ]
  },
  {
   "cell_type": "code",
   "execution_count": 69,
   "id": "1099b312",
   "metadata": {},
   "outputs": [],
   "source": [
    "bootstrap_preds = []\n",
    "for _ in range(1000):\n",
    "    indices = np.random.choice(len(X_test), len(X_test), replace=True)\n",
    "    X_test_sample = X_test.iloc[indices]\n",
    "    y_test_pred_sample = best_model.predict(X_test_sample)\n",
    "    bootstrap_preds.append(y_test_pred_sample)\n",
    "bootstrap_preds = np.array(bootstrap_preds)\n",
    "\n",
    "lower_bound = np.percentile(bootstrap_preds, 2.5, axis=0)  # 2.5th percentile\n",
    "upper_bound = np.percentile(bootstrap_preds, 97.5, axis=0)  # 97.5th percentile"
   ]
  },
  {
   "cell_type": "code",
   "execution_count": 70,
   "id": "4ec2c27e",
   "metadata": {},
   "outputs": [],
   "source": [
    "num_samples = 100\n",
    "indices = np.random.choice(len(X_test), num_samples)"
   ]
  },
  {
   "cell_type": "code",
   "execution_count": 71,
   "id": "1ded635a",
   "metadata": {},
   "outputs": [
    {
     "data": {
      "image/png": "[encoded data removed]",
      "text/plain": [
       "<Figure size 720x432 with 1 Axes>"
      ]
     },
     "metadata": {
      "needs_background": "light"
     },
     "output_type": "display_data"
    }
   ],
   "source": [
    "sorted_indices = np.argsort(indices)\n",
    "\n",
    "plt.figure(figsize=(10, 6))\n",
    "\n",
    "plt.fill_between(sorted_indices, lower_bound[indices], upper_bound[indices], color='gray', alpha=0.5, label='Confidence Interval')\n",
    "plt.plot(sorted_indices, y_test.iloc[indices], 'o', color='black', label='Actual')\n",
    "plt.plot(sorted_indices, bootstrap_preds.mean(axis=0)[indices], 'o', color='blue', label='Predicted')\n",
    "\n",
    "plt.xlabel('Sample Index')\n",
    "plt.ylabel('Prediction')\n",
    "plt.title('Confidence Intervals of Predictions')\n",
    "plt.legend()\n",
    "plt.show()"
   ]
  },
  {
   "cell_type": "markdown",
   "id": "2c7192f1",
   "metadata": {},
   "source": [
    "## Check for overfitting "
   ]
  },
  {
   "cell_type": "code",
   "execution_count": 72,
   "id": "e6cf0a73",
   "metadata": {},
   "outputs": [
    {
     "name": "stdout",
     "output_type": "stream",
     "text": [
      "Train MSE: 0.025218360418339608\n",
      "Test MSE: 0.027700856395795635\n"
     ]
    }
   ],
   "source": [
    "y_train_pred = best_model.predict(X_full_train)\n",
    "mse_train = mean_squared_error(y_full_train, y_train_pred)\n",
    "print('Train MSE:', mse_train)\n",
    "print('Test MSE:', mse_test)"
   ]
  },
  {
   "cell_type": "markdown",
   "id": "7c455df4",
   "metadata": {},
   "source": [
    "***"
   ]
  },
  {
   "cell_type": "markdown",
   "id": "c02f54dc",
   "metadata": {},
   "source": [
    "## Model Evaluation Results\n",
    "\n",
    "Our Random Forest Regression model has been trained and evaluated using Mean Squared Error (MSE) as the performance metric. The MSE for the training set was 0.0252, and for the test set, it was 0.0277.\n",
    "\n",
    "These values are quite close to each other. This suggests that our model has learned patterns that generalize well to unseen data, rather than just memorizing the training data. Therefore, we do not have evidence to suggest that the model is overfitting.\n",
    "\n",
    "Overfitting is a common problem in machine learning where a model performs well on the training data but poorly on unseen data (like our test set). It happens when the model learns not only the underlying patterns of the data but also the noise present in the training set. This is not desirable as we want our models to generalize well to unseen data.\n",
    "\n",
    "However, while our model is not significantly overfitting, the absolute values of MSE should also be considered in the context of the problem domain. "
   ]
  },
  {
   "cell_type": "markdown",
   "id": "42d509d2",
   "metadata": {},
   "source": [
    "***"
   ]
  },
  {
   "cell_type": "markdown",
   "id": "d9403385",
   "metadata": {},
   "source": [
    "## 10 Fold Cross Validation "
   ]
  },
  {
   "cell_type": "code",
   "execution_count": 78,
   "id": "de64f910",
   "metadata": {},
   "outputs": [],
   "source": [
    "scoring = {\n",
    "    'mse': make_scorer(mean_squared_error, greater_is_better=False), # We negate this since cross_validate assumes higher return values are better\n",
    "    'mae': make_scorer(mean_absolute_error, greater_is_better=False), # Negated\n",
    "    'r2': 'r2',\n",
    "}"
   ]
  },
  {
   "cell_type": "code",
   "execution_count": 81,
   "id": "b2143f52",
   "metadata": {},
   "outputs": [],
   "source": [
    "cv_results = cross_validate(best_model, X_full_train, y_full_train, cv=10, scoring=scoring, return_train_score=True)"
   ]
  },
  {
   "cell_type": "code",
   "execution_count": 82,
   "id": "ca9392ca",
   "metadata": {},
   "outputs": [
    {
     "name": "stdout",
     "output_type": "stream",
     "text": [
      "Train MSE: 0.02517853281523911\n",
      "Validation MSE: 0.028560645750253615\n",
      "Train MAE: 0.11705489268330424\n",
      "Validation MAE: 0.12433702237422037\n",
      "Train R^2 scores: 0.5307939421378074\n",
      "Validation R^2 scores: 0.467772114813763\n"
     ]
    }
   ],
   "source": [
    "print(\"Train MSE:\", -cv_results['train_mse'].mean()) # Negative because we negated the return value earlier\n",
    "print(\"Validation MSE:\", -cv_results['test_mse'].mean()) # Negative because we negated the return value earlier\n",
    "print(\"Train MAE:\", -cv_results['train_mae'].mean()) # Negative because we negated the return value earlier\n",
    "print(\"Validation MAE:\", -cv_results['test_mae'].mean()) # Negative because we negated the return value earlier\n",
    "print(\"Train R^2 scores:\", cv_results['train_r2'].mean())\n",
    "print(\"Validation R^2 scores:\", cv_results['test_r2'].mean())"
   ]
  },
  {
   "cell_type": "markdown",
   "id": "16108af8",
   "metadata": {},
   "source": [
    "***"
   ]
  },
  {
   "cell_type": "markdown",
   "id": "084ca355",
   "metadata": {},
   "source": [
    "## 10 Fold Cross Validation Metrics"
   ]
  },
  {
   "cell_type": "markdown",
   "id": "725e1d4d",
   "metadata": {},
   "source": [
    "After fine-tuning our model extensively using GridSearchCV and testing various hyperparameters such as 'n_estimators', 'max_depth', 'min_samples_split', 'min_samples_leaf', and 'max_features', we evaluated the performance of the best model on both training and validation data."
   ]
  },
  {
   "cell_type": "markdown",
   "id": "b5be96a9",
   "metadata": {},
   "source": [
    "## Mean Squared Error (MSE)"
   ]
  },
  {
   "cell_type": "markdown",
   "id": "4779f7b5",
   "metadata": {},
   "source": [
    "MSE is a popular metric used in regression analysis. It calculates the average squared difference between the estimated values and the actual value. A lower MSE means a better fit of the model to the data. For our model, the MSE was found to be 0.02518 for the training data and 0.02856 for the validation data. The values are relatively low, indicating that our model was able to predict the output with reasonable accuracy."
   ]
  },
  {
   "cell_type": "markdown",
   "id": "d63c1122",
   "metadata": {},
   "source": [
    "## Mean Absolute Error (MAE)"
   ]
  },
  {
   "cell_type": "markdown",
   "id": "72d1abee",
   "metadata": {},
   "source": [
    "MAE measures the average magnitude of the errors in a set of predictions, without considering their direction. It's the average over the test sample of the absolute differences between prediction and actual observation. Our model achieved a MAE of 0.11705 on the training data and 0.12434 on the validation data. These small values suggest that our model has good predictive power, with an average error magnitude of around 0.12."
   ]
  },
  {
   "cell_type": "markdown",
   "id": "5fec7cd8",
   "metadata": {},
   "source": [
    "## R² Score (Coefficient of Determination)"
   ]
  },
  {
   "cell_type": "markdown",
   "id": "46e3bfa2",
   "metadata": {},
   "source": [
    "The R² score, also known as the coefficient of determination, measures the proportion of the variance in the dependent variable that is predictable from the independent variable(s). A higher R² indicates a better fit of the model and the value ranges from 0 to 1. Our model achieved R² scores of 0.53079 for the training set and 0.46777 for the validation set. This suggests that our model is able to explain around 46.78% to 53.08% of the variance in our target variable."
   ]
  },
  {
   "cell_type": "markdown",
   "id": "e97071c5",
   "metadata": {},
   "source": [
    "## Conclusion"
   ]
  },
  {
   "cell_type": "markdown",
   "id": "7945c5ff",
   "metadata": {},
   "source": [
    "In conclusion, while our model does a reasonably good job of predicting the target variable based on the given features, there may be room for improvement. Potential next steps could include acquiring more data or different kinds of data."
   ]
  },
  {
   "cell_type": "markdown",
   "id": "96a83ca3",
   "metadata": {},
   "source": [
    "***"
   ]
  },
  {
   "cell_type": "markdown",
   "id": "0966ae97",
   "metadata": {},
   "source": [
    "## Create and test the pkl file "
   ]
  },
  {
   "cell_type": "code",
   "execution_count": 73,
   "id": "d6883b7a",
   "metadata": {},
   "outputs": [],
   "source": [
    "filename = 'finalised_noise_model.pkl'\n",
    "pickle.dump(best_model, open(filename, 'wb'))"
   ]
  },
  {
   "cell_type": "code",
   "execution_count": 74,
   "id": "ade0a31e",
   "metadata": {},
   "outputs": [],
   "source": [
    "loaded_model = pickle.load(open(filename, 'rb'))"
   ]
  },
  {
   "cell_type": "code",
   "execution_count": 75,
   "id": "1fc875cf",
   "metadata": {},
   "outputs": [
    {
     "name": "stdout",
     "output_type": "stream",
     "text": [
      "Single prediction: [0.11806852]\n"
     ]
    },
    {
     "name": "stderr",
     "output_type": "stream",
     "text": [
      "/Users/conormcelduff/opt/anaconda3/lib/python3.9/site-packages/sklearn/base.py:439: UserWarning: X does not have valid feature names, but RandomForestRegressor was fitted with feature names\n",
      "  warnings.warn(\n"
     ]
    }
   ],
   "source": [
    "single_instance = X_test.iloc[0]\n",
    "single_prediction = loaded_model.predict(single_instance.values.reshape(1, -1))\n",
    "print('Single prediction:', single_prediction)"
   ]
  }
 ],
 "metadata": {
  "kernelspec": {
   "display_name": "Python 3 (ipykernel)",
   "language": "python",
   "name": "python3"
  },
  "language_info": {
   "codemirror_mode": {
    "name": "ipython",
    "version": 3
   },
   "file_extension": ".py",
   "mimetype": "text/x-python",
   "name": "python",
   "nbconvert_exporter": "python",
   "pygments_lexer": "ipython3",
   "version": "3.9.12"
  }
 },
 "nbformat": 4,
 "nbformat_minor": 5
}
