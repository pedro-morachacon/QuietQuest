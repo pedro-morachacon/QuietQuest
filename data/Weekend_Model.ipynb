{
 "cells": [
  {
   "cell_type": "code",
   "execution_count": 2,
   "id": "acf6bec7",
   "metadata": {},
   "outputs": [],
   "source": [
    "import pickle\n",
    "import pandas as pd\n",
    "import numpy as np\n",
    "import datetime  \n",
    "import seaborn as sns\n",
    "import matplotlib.pyplot as plt\n",
    "import pickle\n",
    "import folium\n",
    "from folium.plugins import HeatMap\n",
    "from math import floor\n",
    "from sklearn.linear_model import LinearRegression, LogisticRegression, SGDRegressor, Lasso, Ridge\n",
    "from sklearn.ensemble import RandomForestRegressor, RandomForestClassifier\n",
    "from sklearn.model_selection import train_test_split\n",
    "from sklearn.metrics import mean_squared_error, r2_score, mean_absolute_error, classification_report, confusion_matrix\n",
    "from sqlalchemy import create_engine\n",
    "from sqlalchemy import text\n",
    "from sklearn.cluster import KMeans\n",
    "from imblearn.over_sampling import SMOTE\n",
    "from sklearn.tree import DecisionTreeClassifier\n",
    "from sklearn.cluster import DBSCAN, OPTICS\n",
    "from sklearn import metrics\n",
    "from sklearn.preprocessing import StandardScaler\n",
    "import csv\n",
    "from shapely.geometry import Point, Polygon\n",
    "import time\n",
    "from sklearn.preprocessing import StandardScaler\n",
    "from sklearn.model_selection import RandomizedSearchCV\n",
    "import geopandas as gpd\n",
    "from sklearn.preprocessing import StandardScaler, OneHotEncoder\n",
    "from sklearn.compose import ColumnTransformer\n",
    "from sklearn.pipeline import Pipeline\n",
    "from sklearn.cluster import Birch\n",
    "from sklearn.cluster import MiniBatchKMeans\n",
    "import dask.dataframe as dd\n",
    "from sklearn.neighbors import KNeighborsClassifier\n",
    "from sklearn.svm import SVC"
   ]
  },
  {
   "cell_type": "code",
   "execution_count": 3,
   "id": "8f5f3e28",
   "metadata": {},
   "outputs": [],
   "source": [
    "df = pd.read_csv(\"Weekend_Taxi.csv\")"
   ]
  },
  {
   "cell_type": "code",
   "execution_count": 4,
   "id": "355b7d32",
   "metadata": {},
   "outputs": [],
   "source": [
    "df = df.drop(columns=[\"Unnamed: 0\"])"
   ]
  },
  {
   "cell_type": "code",
   "execution_count": 5,
   "id": "fe3d9296",
   "metadata": {},
   "outputs": [
    {
     "data": {
      "text/html": [
       "<div>\n",
       "<style scoped>\n",
       "    .dataframe tbody tr th:only-of-type {\n",
       "        vertical-align: middle;\n",
       "    }\n",
       "\n",
       "    .dataframe tbody tr th {\n",
       "        vertical-align: top;\n",
       "    }\n",
       "\n",
       "    .dataframe thead th {\n",
       "        text-align: right;\n",
       "    }\n",
       "</style>\n",
       "<table border=\"1\" class=\"dataframe\">\n",
       "  <thead>\n",
       "    <tr style=\"text-align: right;\">\n",
       "      <th></th>\n",
       "      <th>longitude</th>\n",
       "      <th>latitude</th>\n",
       "      <th>Hour</th>\n",
       "      <th>cluster_id</th>\n",
       "      <th>Weekday</th>\n",
       "      <th>Weekend</th>\n",
       "      <th>total_weekend_taxi_trips</th>\n",
       "    </tr>\n",
       "  </thead>\n",
       "  <tbody>\n",
       "    <tr>\n",
       "      <th>0</th>\n",
       "      <td>-73.982399</td>\n",
       "      <td>40.768299</td>\n",
       "      <td>17</td>\n",
       "      <td>50</td>\n",
       "      <td>0</td>\n",
       "      <td>1</td>\n",
       "      <td>84.0</td>\n",
       "    </tr>\n",
       "    <tr>\n",
       "      <th>1</th>\n",
       "      <td>-73.982399</td>\n",
       "      <td>40.768299</td>\n",
       "      <td>17</td>\n",
       "      <td>50</td>\n",
       "      <td>0</td>\n",
       "      <td>1</td>\n",
       "      <td>84.0</td>\n",
       "    </tr>\n",
       "    <tr>\n",
       "      <th>2</th>\n",
       "      <td>-73.982399</td>\n",
       "      <td>40.768299</td>\n",
       "      <td>17</td>\n",
       "      <td>50</td>\n",
       "      <td>0</td>\n",
       "      <td>1</td>\n",
       "      <td>84.0</td>\n",
       "    </tr>\n",
       "    <tr>\n",
       "      <th>3</th>\n",
       "      <td>-73.982399</td>\n",
       "      <td>40.768299</td>\n",
       "      <td>17</td>\n",
       "      <td>50</td>\n",
       "      <td>0</td>\n",
       "      <td>1</td>\n",
       "      <td>84.0</td>\n",
       "    </tr>\n",
       "    <tr>\n",
       "      <th>4</th>\n",
       "      <td>-73.982399</td>\n",
       "      <td>40.768299</td>\n",
       "      <td>17</td>\n",
       "      <td>50</td>\n",
       "      <td>0</td>\n",
       "      <td>1</td>\n",
       "      <td>84.0</td>\n",
       "    </tr>\n",
       "    <tr>\n",
       "      <th>...</th>\n",
       "      <td>...</td>\n",
       "      <td>...</td>\n",
       "      <td>...</td>\n",
       "      <td>...</td>\n",
       "      <td>...</td>\n",
       "      <td>...</td>\n",
       "      <td>...</td>\n",
       "    </tr>\n",
       "    <tr>\n",
       "      <th>2514992</th>\n",
       "      <td>-73.919724</td>\n",
       "      <td>40.796497</td>\n",
       "      <td>1</td>\n",
       "      <td>253</td>\n",
       "      <td>0</td>\n",
       "      <td>1</td>\n",
       "      <td>32.0</td>\n",
       "    </tr>\n",
       "    <tr>\n",
       "      <th>2514993</th>\n",
       "      <td>-73.919724</td>\n",
       "      <td>40.796497</td>\n",
       "      <td>1</td>\n",
       "      <td>253</td>\n",
       "      <td>0</td>\n",
       "      <td>1</td>\n",
       "      <td>32.0</td>\n",
       "    </tr>\n",
       "    <tr>\n",
       "      <th>2514994</th>\n",
       "      <td>-73.919724</td>\n",
       "      <td>40.796497</td>\n",
       "      <td>1</td>\n",
       "      <td>253</td>\n",
       "      <td>0</td>\n",
       "      <td>1</td>\n",
       "      <td>32.0</td>\n",
       "    </tr>\n",
       "    <tr>\n",
       "      <th>2514995</th>\n",
       "      <td>-73.919724</td>\n",
       "      <td>40.796497</td>\n",
       "      <td>1</td>\n",
       "      <td>253</td>\n",
       "      <td>0</td>\n",
       "      <td>1</td>\n",
       "      <td>32.0</td>\n",
       "    </tr>\n",
       "    <tr>\n",
       "      <th>2514996</th>\n",
       "      <td>-73.919724</td>\n",
       "      <td>40.796497</td>\n",
       "      <td>1</td>\n",
       "      <td>253</td>\n",
       "      <td>0</td>\n",
       "      <td>1</td>\n",
       "      <td>32.0</td>\n",
       "    </tr>\n",
       "  </tbody>\n",
       "</table>\n",
       "<p>2514997 rows × 7 columns</p>\n",
       "</div>"
      ],
      "text/plain": [
       "         longitude   latitude  Hour  cluster_id  Weekday  Weekend  \\\n",
       "0       -73.982399  40.768299    17          50        0        1   \n",
       "1       -73.982399  40.768299    17          50        0        1   \n",
       "2       -73.982399  40.768299    17          50        0        1   \n",
       "3       -73.982399  40.768299    17          50        0        1   \n",
       "4       -73.982399  40.768299    17          50        0        1   \n",
       "...            ...        ...   ...         ...      ...      ...   \n",
       "2514992 -73.919724  40.796497     1         253        0        1   \n",
       "2514993 -73.919724  40.796497     1         253        0        1   \n",
       "2514994 -73.919724  40.796497     1         253        0        1   \n",
       "2514995 -73.919724  40.796497     1         253        0        1   \n",
       "2514996 -73.919724  40.796497     1         253        0        1   \n",
       "\n",
       "         total_weekend_taxi_trips  \n",
       "0                            84.0  \n",
       "1                            84.0  \n",
       "2                            84.0  \n",
       "3                            84.0  \n",
       "4                            84.0  \n",
       "...                           ...  \n",
       "2514992                      32.0  \n",
       "2514993                      32.0  \n",
       "2514994                      32.0  \n",
       "2514995                      32.0  \n",
       "2514996                      32.0  \n",
       "\n",
       "[2514997 rows x 7 columns]"
      ]
     },
     "execution_count": 5,
     "metadata": {},
     "output_type": "execute_result"
    }
   ],
   "source": [
    "df"
   ]
  },
  {
   "cell_type": "code",
   "execution_count": 6,
   "id": "84630c57",
   "metadata": {},
   "outputs": [],
   "source": [
    "duplicates = df.duplicated(subset=['longitude', 'latitude', 'Hour', 'cluster_id', 'total_weekend_taxi_trips'])"
   ]
  },
  {
   "cell_type": "code",
   "execution_count": 7,
   "id": "da6e155f",
   "metadata": {},
   "outputs": [
    {
     "name": "stdout",
     "output_type": "stream",
     "text": [
      "2358211\n"
     ]
    }
   ],
   "source": [
    "print(duplicates.sum())"
   ]
  },
  {
   "cell_type": "code",
   "execution_count": 8,
   "id": "e1e595ef",
   "metadata": {},
   "outputs": [],
   "source": [
    "df = df.drop_duplicates(subset=['longitude', 'latitude', 'Hour', 'cluster_id', 'total_weekend_taxi_trips'])"
   ]
  },
  {
   "cell_type": "code",
   "execution_count": 9,
   "id": "4e0aeb18",
   "metadata": {},
   "outputs": [
    {
     "data": {
      "text/html": [
       "<div>\n",
       "<style scoped>\n",
       "    .dataframe tbody tr th:only-of-type {\n",
       "        vertical-align: middle;\n",
       "    }\n",
       "\n",
       "    .dataframe tbody tr th {\n",
       "        vertical-align: top;\n",
       "    }\n",
       "\n",
       "    .dataframe thead th {\n",
       "        text-align: right;\n",
       "    }\n",
       "</style>\n",
       "<table border=\"1\" class=\"dataframe\">\n",
       "  <thead>\n",
       "    <tr style=\"text-align: right;\">\n",
       "      <th></th>\n",
       "      <th>longitude</th>\n",
       "      <th>latitude</th>\n",
       "      <th>Hour</th>\n",
       "      <th>cluster_id</th>\n",
       "      <th>Weekday</th>\n",
       "      <th>Weekend</th>\n",
       "      <th>total_weekend_taxi_trips</th>\n",
       "    </tr>\n",
       "  </thead>\n",
       "  <tbody>\n",
       "    <tr>\n",
       "      <th>0</th>\n",
       "      <td>-73.982399</td>\n",
       "      <td>40.768299</td>\n",
       "      <td>17</td>\n",
       "      <td>50</td>\n",
       "      <td>0</td>\n",
       "      <td>1</td>\n",
       "      <td>84.0</td>\n",
       "    </tr>\n",
       "    <tr>\n",
       "      <th>31</th>\n",
       "      <td>-73.982407</td>\n",
       "      <td>40.767841</td>\n",
       "      <td>17</td>\n",
       "      <td>50</td>\n",
       "      <td>0</td>\n",
       "      <td>1</td>\n",
       "      <td>84.0</td>\n",
       "    </tr>\n",
       "    <tr>\n",
       "      <th>62</th>\n",
       "      <td>-73.982224</td>\n",
       "      <td>40.768642</td>\n",
       "      <td>17</td>\n",
       "      <td>50</td>\n",
       "      <td>0</td>\n",
       "      <td>1</td>\n",
       "      <td>84.0</td>\n",
       "    </tr>\n",
       "    <tr>\n",
       "      <th>93</th>\n",
       "      <td>-73.982590</td>\n",
       "      <td>40.768318</td>\n",
       "      <td>17</td>\n",
       "      <td>50</td>\n",
       "      <td>0</td>\n",
       "      <td>1</td>\n",
       "      <td>84.0</td>\n",
       "    </tr>\n",
       "    <tr>\n",
       "      <th>124</th>\n",
       "      <td>-73.982124</td>\n",
       "      <td>40.768387</td>\n",
       "      <td>17</td>\n",
       "      <td>50</td>\n",
       "      <td>0</td>\n",
       "      <td>1</td>\n",
       "      <td>84.0</td>\n",
       "    </tr>\n",
       "    <tr>\n",
       "      <th>...</th>\n",
       "      <td>...</td>\n",
       "      <td>...</td>\n",
       "      <td>...</td>\n",
       "      <td>...</td>\n",
       "      <td>...</td>\n",
       "      <td>...</td>\n",
       "      <td>...</td>\n",
       "    </tr>\n",
       "    <tr>\n",
       "      <th>2514921</th>\n",
       "      <td>-73.961990</td>\n",
       "      <td>40.810429</td>\n",
       "      <td>4</td>\n",
       "      <td>475</td>\n",
       "      <td>0</td>\n",
       "      <td>1</td>\n",
       "      <td>8.0</td>\n",
       "    </tr>\n",
       "    <tr>\n",
       "      <th>2514928</th>\n",
       "      <td>-73.981674</td>\n",
       "      <td>40.771362</td>\n",
       "      <td>3</td>\n",
       "      <td>495</td>\n",
       "      <td>0</td>\n",
       "      <td>1</td>\n",
       "      <td>2.0</td>\n",
       "    </tr>\n",
       "    <tr>\n",
       "      <th>2514929</th>\n",
       "      <td>-73.933441</td>\n",
       "      <td>40.855255</td>\n",
       "      <td>17</td>\n",
       "      <td>20</td>\n",
       "      <td>0</td>\n",
       "      <td>1</td>\n",
       "      <td>19.0</td>\n",
       "    </tr>\n",
       "    <tr>\n",
       "      <th>2514947</th>\n",
       "      <td>-73.956841</td>\n",
       "      <td>40.783520</td>\n",
       "      <td>2</td>\n",
       "      <td>463</td>\n",
       "      <td>0</td>\n",
       "      <td>1</td>\n",
       "      <td>20.0</td>\n",
       "    </tr>\n",
       "    <tr>\n",
       "      <th>2514966</th>\n",
       "      <td>-73.919724</td>\n",
       "      <td>40.796497</td>\n",
       "      <td>1</td>\n",
       "      <td>253</td>\n",
       "      <td>0</td>\n",
       "      <td>1</td>\n",
       "      <td>32.0</td>\n",
       "    </tr>\n",
       "  </tbody>\n",
       "</table>\n",
       "<p>156786 rows × 7 columns</p>\n",
       "</div>"
      ],
      "text/plain": [
       "         longitude   latitude  Hour  cluster_id  Weekday  Weekend  \\\n",
       "0       -73.982399  40.768299    17          50        0        1   \n",
       "31      -73.982407  40.767841    17          50        0        1   \n",
       "62      -73.982224  40.768642    17          50        0        1   \n",
       "93      -73.982590  40.768318    17          50        0        1   \n",
       "124     -73.982124  40.768387    17          50        0        1   \n",
       "...            ...        ...   ...         ...      ...      ...   \n",
       "2514921 -73.961990  40.810429     4         475        0        1   \n",
       "2514928 -73.981674  40.771362     3         495        0        1   \n",
       "2514929 -73.933441  40.855255    17          20        0        1   \n",
       "2514947 -73.956841  40.783520     2         463        0        1   \n",
       "2514966 -73.919724  40.796497     1         253        0        1   \n",
       "\n",
       "         total_weekend_taxi_trips  \n",
       "0                            84.0  \n",
       "31                           84.0  \n",
       "62                           84.0  \n",
       "93                           84.0  \n",
       "124                          84.0  \n",
       "...                           ...  \n",
       "2514921                       8.0  \n",
       "2514928                       2.0  \n",
       "2514929                      19.0  \n",
       "2514947                      20.0  \n",
       "2514966                      32.0  \n",
       "\n",
       "[156786 rows x 7 columns]"
      ]
     },
     "execution_count": 9,
     "metadata": {},
     "output_type": "execute_result"
    }
   ],
   "source": [
    "df"
   ]
  },
  {
   "cell_type": "code",
   "execution_count": 10,
   "id": "ed68e193",
   "metadata": {},
   "outputs": [],
   "source": [
    "bins = [0,20,40,60,80,np.inf]"
   ]
  },
  {
   "cell_type": "code",
   "execution_count": 11,
   "id": "4fcfbeb9",
   "metadata": {},
   "outputs": [],
   "source": [
    "labels = [0,1,2,3,4]"
   ]
  },
  {
   "cell_type": "code",
   "execution_count": 12,
   "id": "0a93a663",
   "metadata": {},
   "outputs": [
    {
     "name": "stderr",
     "output_type": "stream",
     "text": [
      "/var/folders/fq/bzr8_90x2fz7g47x1rk7l_tm0000gn/T/ipykernel_39143/4268036540.py:1: SettingWithCopyWarning: \n",
      "A value is trying to be set on a copy of a slice from a DataFrame.\n",
      "Try using .loc[row_indexer,col_indexer] = value instead\n",
      "\n",
      "See the caveats in the documentation: https://pandas.pydata.org/pandas-docs/stable/user_guide/indexing.html#returning-a-view-versus-a-copy\n",
      "  df[\"Taxi_Trips_Busyness\"] = pd.cut(df[\"total_weekend_taxi_trips\"], bins=bins, labels=labels)\n"
     ]
    }
   ],
   "source": [
    "df[\"Taxi_Trips_Busyness\"] = pd.cut(df[\"total_weekend_taxi_trips\"], bins=bins, labels=labels)"
   ]
  },
  {
   "cell_type": "code",
   "execution_count": 13,
   "id": "81451004",
   "metadata": {},
   "outputs": [
    {
     "data": {
      "text/html": [
       "<div>\n",
       "<style scoped>\n",
       "    .dataframe tbody tr th:only-of-type {\n",
       "        vertical-align: middle;\n",
       "    }\n",
       "\n",
       "    .dataframe tbody tr th {\n",
       "        vertical-align: top;\n",
       "    }\n",
       "\n",
       "    .dataframe thead th {\n",
       "        text-align: right;\n",
       "    }\n",
       "</style>\n",
       "<table border=\"1\" class=\"dataframe\">\n",
       "  <thead>\n",
       "    <tr style=\"text-align: right;\">\n",
       "      <th></th>\n",
       "      <th>longitude</th>\n",
       "      <th>latitude</th>\n",
       "      <th>Hour</th>\n",
       "      <th>cluster_id</th>\n",
       "      <th>Weekday</th>\n",
       "      <th>Weekend</th>\n",
       "      <th>total_weekend_taxi_trips</th>\n",
       "      <th>Taxi_Trips_Busyness</th>\n",
       "    </tr>\n",
       "  </thead>\n",
       "  <tbody>\n",
       "    <tr>\n",
       "      <th>0</th>\n",
       "      <td>-73.982399</td>\n",
       "      <td>40.768299</td>\n",
       "      <td>17</td>\n",
       "      <td>50</td>\n",
       "      <td>0</td>\n",
       "      <td>1</td>\n",
       "      <td>84.0</td>\n",
       "      <td>4</td>\n",
       "    </tr>\n",
       "    <tr>\n",
       "      <th>31</th>\n",
       "      <td>-73.982407</td>\n",
       "      <td>40.767841</td>\n",
       "      <td>17</td>\n",
       "      <td>50</td>\n",
       "      <td>0</td>\n",
       "      <td>1</td>\n",
       "      <td>84.0</td>\n",
       "      <td>4</td>\n",
       "    </tr>\n",
       "    <tr>\n",
       "      <th>62</th>\n",
       "      <td>-73.982224</td>\n",
       "      <td>40.768642</td>\n",
       "      <td>17</td>\n",
       "      <td>50</td>\n",
       "      <td>0</td>\n",
       "      <td>1</td>\n",
       "      <td>84.0</td>\n",
       "      <td>4</td>\n",
       "    </tr>\n",
       "    <tr>\n",
       "      <th>93</th>\n",
       "      <td>-73.982590</td>\n",
       "      <td>40.768318</td>\n",
       "      <td>17</td>\n",
       "      <td>50</td>\n",
       "      <td>0</td>\n",
       "      <td>1</td>\n",
       "      <td>84.0</td>\n",
       "      <td>4</td>\n",
       "    </tr>\n",
       "    <tr>\n",
       "      <th>124</th>\n",
       "      <td>-73.982124</td>\n",
       "      <td>40.768387</td>\n",
       "      <td>17</td>\n",
       "      <td>50</td>\n",
       "      <td>0</td>\n",
       "      <td>1</td>\n",
       "      <td>84.0</td>\n",
       "      <td>4</td>\n",
       "    </tr>\n",
       "    <tr>\n",
       "      <th>...</th>\n",
       "      <td>...</td>\n",
       "      <td>...</td>\n",
       "      <td>...</td>\n",
       "      <td>...</td>\n",
       "      <td>...</td>\n",
       "      <td>...</td>\n",
       "      <td>...</td>\n",
       "      <td>...</td>\n",
       "    </tr>\n",
       "    <tr>\n",
       "      <th>2514921</th>\n",
       "      <td>-73.961990</td>\n",
       "      <td>40.810429</td>\n",
       "      <td>4</td>\n",
       "      <td>475</td>\n",
       "      <td>0</td>\n",
       "      <td>1</td>\n",
       "      <td>8.0</td>\n",
       "      <td>0</td>\n",
       "    </tr>\n",
       "    <tr>\n",
       "      <th>2514928</th>\n",
       "      <td>-73.981674</td>\n",
       "      <td>40.771362</td>\n",
       "      <td>3</td>\n",
       "      <td>495</td>\n",
       "      <td>0</td>\n",
       "      <td>1</td>\n",
       "      <td>2.0</td>\n",
       "      <td>0</td>\n",
       "    </tr>\n",
       "    <tr>\n",
       "      <th>2514929</th>\n",
       "      <td>-73.933441</td>\n",
       "      <td>40.855255</td>\n",
       "      <td>17</td>\n",
       "      <td>20</td>\n",
       "      <td>0</td>\n",
       "      <td>1</td>\n",
       "      <td>19.0</td>\n",
       "      <td>0</td>\n",
       "    </tr>\n",
       "    <tr>\n",
       "      <th>2514947</th>\n",
       "      <td>-73.956841</td>\n",
       "      <td>40.783520</td>\n",
       "      <td>2</td>\n",
       "      <td>463</td>\n",
       "      <td>0</td>\n",
       "      <td>1</td>\n",
       "      <td>20.0</td>\n",
       "      <td>0</td>\n",
       "    </tr>\n",
       "    <tr>\n",
       "      <th>2514966</th>\n",
       "      <td>-73.919724</td>\n",
       "      <td>40.796497</td>\n",
       "      <td>1</td>\n",
       "      <td>253</td>\n",
       "      <td>0</td>\n",
       "      <td>1</td>\n",
       "      <td>32.0</td>\n",
       "      <td>1</td>\n",
       "    </tr>\n",
       "  </tbody>\n",
       "</table>\n",
       "<p>156786 rows × 8 columns</p>\n",
       "</div>"
      ],
      "text/plain": [
       "         longitude   latitude  Hour  cluster_id  Weekday  Weekend  \\\n",
       "0       -73.982399  40.768299    17          50        0        1   \n",
       "31      -73.982407  40.767841    17          50        0        1   \n",
       "62      -73.982224  40.768642    17          50        0        1   \n",
       "93      -73.982590  40.768318    17          50        0        1   \n",
       "124     -73.982124  40.768387    17          50        0        1   \n",
       "...            ...        ...   ...         ...      ...      ...   \n",
       "2514921 -73.961990  40.810429     4         475        0        1   \n",
       "2514928 -73.981674  40.771362     3         495        0        1   \n",
       "2514929 -73.933441  40.855255    17          20        0        1   \n",
       "2514947 -73.956841  40.783520     2         463        0        1   \n",
       "2514966 -73.919724  40.796497     1         253        0        1   \n",
       "\n",
       "         total_weekend_taxi_trips Taxi_Trips_Busyness  \n",
       "0                            84.0                   4  \n",
       "31                           84.0                   4  \n",
       "62                           84.0                   4  \n",
       "93                           84.0                   4  \n",
       "124                          84.0                   4  \n",
       "...                           ...                 ...  \n",
       "2514921                       8.0                   0  \n",
       "2514928                       2.0                   0  \n",
       "2514929                      19.0                   0  \n",
       "2514947                      20.0                   0  \n",
       "2514966                      32.0                   1  \n",
       "\n",
       "[156786 rows x 8 columns]"
      ]
     },
     "execution_count": 13,
     "metadata": {},
     "output_type": "execute_result"
    }
   ],
   "source": [
    "df"
   ]
  },
  {
   "cell_type": "code",
   "execution_count": 14,
   "id": "1d88de48",
   "metadata": {},
   "outputs": [
    {
     "name": "stdout",
     "output_type": "stream",
     "text": [
      "0    24256\n",
      "1    64949\n",
      "2    40514\n",
      "3    13885\n",
      "4    13182\n",
      "Name: Taxi_Trips_Busyness, dtype: int64\n"
     ]
    }
   ],
   "source": [
    "busyness_counts = df['Taxi_Trips_Busyness'].value_counts().sort_index()\n",
    "\n",
    "print(busyness_counts)"
   ]
  },
  {
   "cell_type": "code",
   "execution_count": 15,
   "id": "376a4445",
   "metadata": {},
   "outputs": [],
   "source": [
    "X = df[[\"longitude\",\"latitude\",\"Hour\"]]\n",
    "y = df[\"Taxi_Trips_Busyness\"]"
   ]
  },
  {
   "cell_type": "code",
   "execution_count": 16,
   "id": "d8d40f1d",
   "metadata": {},
   "outputs": [],
   "source": [
    "X_train, X_test, y_train, y_test = train_test_split(X, y, test_size=0.3, random_state=42)"
   ]
  },
  {
   "cell_type": "code",
   "execution_count": 81,
   "id": "73397483",
   "metadata": {},
   "outputs": [],
   "source": [
    "model = RandomForestClassifier(n_estimators=15, random_state=42)"
   ]
  },
  {
   "cell_type": "code",
   "execution_count": 82,
   "id": "1f3d412f",
   "metadata": {},
   "outputs": [
    {
     "data": {
      "text/html": [
       "<style>#sk-container-id-6 {color: black;background-color: white;}#sk-container-id-6 pre{padding: 0;}#sk-container-id-6 div.sk-toggleable {background-color: white;}#sk-container-id-6 label.sk-toggleable__label {cursor: pointer;display: block;width: 100%;margin-bottom: 0;padding: 0.3em;box-sizing: border-box;text-align: center;}#sk-container-id-6 label.sk-toggleable__label-arrow:before {content: \"▸\";float: left;margin-right: 0.25em;color: #696969;}#sk-container-id-6 label.sk-toggleable__label-arrow:hover:before {color: black;}#sk-container-id-6 div.sk-estimator:hover label.sk-toggleable__label-arrow:before {color: black;}#sk-container-id-6 div.sk-toggleable__content {max-height: 0;max-width: 0;overflow: hidden;text-align: left;background-color: #f0f8ff;}#sk-container-id-6 div.sk-toggleable__content pre {margin: 0.2em;color: black;border-radius: 0.25em;background-color: #f0f8ff;}#sk-container-id-6 input.sk-toggleable__control:checked~div.sk-toggleable__content {max-height: 200px;max-width: 100%;overflow: auto;}#sk-container-id-6 input.sk-toggleable__control:checked~label.sk-toggleable__label-arrow:before {content: \"▾\";}#sk-container-id-6 div.sk-estimator input.sk-toggleable__control:checked~label.sk-toggleable__label {background-color: #d4ebff;}#sk-container-id-6 div.sk-label input.sk-toggleable__control:checked~label.sk-toggleable__label {background-color: #d4ebff;}#sk-container-id-6 input.sk-hidden--visually {border: 0;clip: rect(1px 1px 1px 1px);clip: rect(1px, 1px, 1px, 1px);height: 1px;margin: -1px;overflow: hidden;padding: 0;position: absolute;width: 1px;}#sk-container-id-6 div.sk-estimator {font-family: monospace;background-color: #f0f8ff;border: 1px dotted black;border-radius: 0.25em;box-sizing: border-box;margin-bottom: 0.5em;}#sk-container-id-6 div.sk-estimator:hover {background-color: #d4ebff;}#sk-container-id-6 div.sk-parallel-item::after {content: \"\";width: 100%;border-bottom: 1px solid gray;flex-grow: 1;}#sk-container-id-6 div.sk-label:hover label.sk-toggleable__label {background-color: #d4ebff;}#sk-container-id-6 div.sk-serial::before {content: \"\";position: absolute;border-left: 1px solid gray;box-sizing: border-box;top: 0;bottom: 0;left: 50%;z-index: 0;}#sk-container-id-6 div.sk-serial {display: flex;flex-direction: column;align-items: center;background-color: white;padding-right: 0.2em;padding-left: 0.2em;position: relative;}#sk-container-id-6 div.sk-item {position: relative;z-index: 1;}#sk-container-id-6 div.sk-parallel {display: flex;align-items: stretch;justify-content: center;background-color: white;position: relative;}#sk-container-id-6 div.sk-item::before, #sk-container-id-6 div.sk-parallel-item::before {content: \"\";position: absolute;border-left: 1px solid gray;box-sizing: border-box;top: 0;bottom: 0;left: 50%;z-index: -1;}#sk-container-id-6 div.sk-parallel-item {display: flex;flex-direction: column;z-index: 1;position: relative;background-color: white;}#sk-container-id-6 div.sk-parallel-item:first-child::after {align-self: flex-end;width: 50%;}#sk-container-id-6 div.sk-parallel-item:last-child::after {align-self: flex-start;width: 50%;}#sk-container-id-6 div.sk-parallel-item:only-child::after {width: 0;}#sk-container-id-6 div.sk-dashed-wrapped {border: 1px dashed gray;margin: 0 0.4em 0.5em 0.4em;box-sizing: border-box;padding-bottom: 0.4em;background-color: white;}#sk-container-id-6 div.sk-label label {font-family: monospace;font-weight: bold;display: inline-block;line-height: 1.2em;}#sk-container-id-6 div.sk-label-container {text-align: center;}#sk-container-id-6 div.sk-container {/* jupyter's `normalize.less` sets `[hidden] { display: none; }` but bootstrap.min.css set `[hidden] { display: none !important; }` so we also need the `!important` here to be able to override the default hidden behavior on the sphinx rendered scikit-learn.org. See: https://github.com/scikit-learn/scikit-learn/issues/21755 */display: inline-block !important;position: relative;}#sk-container-id-6 div.sk-text-repr-fallback {display: none;}</style><div id=\"sk-container-id-6\" class=\"sk-top-container\"><div class=\"sk-text-repr-fallback\"><pre>RandomForestClassifier(n_estimators=15, random_state=42)</pre><b>In a Jupyter environment, please rerun this cell to show the HTML representation or trust the notebook. <br />On GitHub, the HTML representation is unable to render, please try loading this page with nbviewer.org.</b></div><div class=\"sk-container\" hidden><div class=\"sk-item\"><div class=\"sk-estimator sk-toggleable\"><input class=\"sk-toggleable__control sk-hidden--visually\" id=\"sk-estimator-id-6\" type=\"checkbox\" checked><label for=\"sk-estimator-id-6\" class=\"sk-toggleable__label sk-toggleable__label-arrow\">RandomForestClassifier</label><div class=\"sk-toggleable__content\"><pre>RandomForestClassifier(n_estimators=15, random_state=42)</pre></div></div></div></div></div>"
      ],
      "text/plain": [
       "RandomForestClassifier(n_estimators=15, random_state=42)"
      ]
     },
     "execution_count": 82,
     "metadata": {},
     "output_type": "execute_result"
    }
   ],
   "source": [
    "model.fit(X_train, y_train.astype('int'))"
   ]
  },
  {
   "cell_type": "code",
   "execution_count": 83,
   "id": "68b904d1",
   "metadata": {},
   "outputs": [],
   "source": [
    "y_pred = model.predict(X_test)"
   ]
  },
  {
   "cell_type": "code",
   "execution_count": 84,
   "id": "47c98c28",
   "metadata": {},
   "outputs": [],
   "source": [
    "mse = mean_squared_error(y_test, y_pred)\n",
    "rmse = np.sqrt(mse)"
   ]
  },
  {
   "cell_type": "code",
   "execution_count": 85,
   "id": "594b1ea5",
   "metadata": {},
   "outputs": [
    {
     "name": "stdout",
     "output_type": "stream",
     "text": [
      "Mean Absolute Error: 0.07832298664852454\n",
      "Mean Squared Error: 0.11446551577515095\n",
      "Root Mean Squared Error: 0.3383275273683047\n",
      "R-squared Score: 0.9076326279113881\n"
     ]
    }
   ],
   "source": [
    "mae = mean_absolute_error(y_test, y_pred)\n",
    "print('Mean Absolute Error:', mae)\n",
    "\n",
    "mse = mean_squared_error(y_test, y_pred)\n",
    "print('Mean Squared Error:', mse)\n",
    "\n",
    "rmse = np.sqrt(mse)\n",
    "print('Root Mean Squared Error:', rmse)\n",
    "\n",
    "r2 = r2_score(y_test, y_pred)\n",
    "print('R-squared Score:', r2)"
   ]
  },
  {
   "cell_type": "code",
   "execution_count": 86,
   "id": "516cb710",
   "metadata": {},
   "outputs": [
    {
     "name": "stdout",
     "output_type": "stream",
     "text": [
      "Time taken to train Random Forest model : 1.616591215133667 seconds\n"
     ]
    }
   ],
   "source": [
    "start_time = time.time()\n",
    "\n",
    "rf_model = RandomForestClassifier(n_estimators=15, random_state=42)\n",
    "rf_model = rf_model.fit(X_train, y_train)\n",
    "end_time = time.time()\n",
    "rf_time = end_time - start_time\n",
    "print(f\"Time taken to train Random Forest model : {rf_time} seconds\")"
   ]
  },
  {
   "cell_type": "code",
   "execution_count": 87,
   "id": "c4af65e9",
   "metadata": {},
   "outputs": [],
   "source": [
    "predicted_values = rf_model.predict(X_test)"
   ]
  },
  {
   "cell_type": "code",
   "execution_count": 88,
   "id": "1b514fe7",
   "metadata": {},
   "outputs": [
    {
     "name": "stdout",
     "output_type": "stream",
     "text": [
      "        Actual  Predicted\n",
      "1277358      1          1\n",
      "1787841      1          1\n",
      "360330       4          4\n",
      "2072903      0          0\n",
      "1674472      1          1\n",
      "...        ...        ...\n",
      "799265       2          2\n",
      "390355       1          1\n",
      "2510692      0          0\n",
      "2100969      2          2\n",
      "2107593      2          2\n",
      "\n",
      "[47036 rows x 2 columns]\n"
     ]
    }
   ],
   "source": [
    "predictions = pd.DataFrame({'Actual': y_test, 'Predicted': predicted_values})\n",
    "print(predictions)"
   ]
  },
  {
   "cell_type": "code",
   "execution_count": 89,
   "id": "bdc36c0a",
   "metadata": {},
   "outputs": [
    {
     "data": {
      "image/png": "[encoded data removed]",
      "text/plain": [
       "<Figure size 1008x576 with 1 Axes>"
      ]
     },
     "metadata": {
      "needs_background": "light"
     },
     "output_type": "display_data"
    }
   ],
   "source": [
    "predictions_sample = predictions.sample(40).reset_index(drop=True)\n",
    "\n",
    "x = np.arange(len(predictions_sample))\n",
    "\n",
    "bar_width = 0.35\n",
    "\n",
    "fig, ax = plt.subplots(figsize=(14,8))\n",
    "\n",
    "rects1 = ax.bar(x - bar_width/2, predictions_sample['Actual'], bar_width, label='Actual')\n",
    "rects2 = ax.bar(x + bar_width/2, predictions_sample['Predicted'], bar_width, label='Predicted')\n",
    "\n",
    "ax.set_xlabel('Sample Index')\n",
    "ax.set_ylabel('Taxi_Trips_Busyness')\n",
    "ax.set_title('Actual vs Predicted Values')\n",
    "ax.set_xticks(x)\n",
    "ax.legend()\n",
    "\n",
    "plt.grid(which='major', linestyle='-', linewidth='0.5', color='green')\n",
    "plt.grid(which='minor', linestyle=':', linewidth='0.5', color='black')\n",
    "plt.show()"
   ]
  },
  {
   "cell_type": "code",
   "execution_count": 90,
   "id": "7989ceda",
   "metadata": {},
   "outputs": [
    {
     "name": "stdout",
     "output_type": "stream",
     "text": [
      "Random Forest Classifier Report: \n",
      "               precision    recall  f1-score   support\n",
      "\n",
      "           0       0.92      0.89      0.90      7264\n",
      "           1       0.93      0.95      0.94     19490\n",
      "           2       0.94      0.93      0.94     12122\n",
      "           3       0.96      0.93      0.95      4226\n",
      "           4       0.97      0.96      0.97      3934\n",
      "\n",
      "    accuracy                           0.94     47036\n",
      "   macro avg       0.95      0.93      0.94     47036\n",
      "weighted avg       0.94      0.94      0.94     47036\n",
      "\n"
     ]
    }
   ],
   "source": [
    "print(\"Random Forest Classifier Report: \\n\", classification_report(y_test, predicted_values))"
   ]
  },
  {
   "cell_type": "markdown",
   "id": "ec5c4911",
   "metadata": {},
   "source": [
    "***"
   ]
  },
  {
   "cell_type": "markdown",
   "id": "e8ead723",
   "metadata": {},
   "source": [
    "## Testing Other Models"
   ]
  },
  {
   "cell_type": "markdown",
   "id": "1e1bf142",
   "metadata": {},
   "source": [
    "## Decision Tree Classifier"
   ]
  },
  {
   "cell_type": "code",
   "execution_count": 91,
   "id": "120774d6",
   "metadata": {},
   "outputs": [
    {
     "name": "stdout",
     "output_type": "stream",
     "text": [
      "Decision Tree Classifier Report: \n",
      "               precision    recall  f1-score   support\n",
      "\n",
      "           0       0.89      0.88      0.88      7264\n",
      "           1       0.92      0.92      0.92     19490\n",
      "           2       0.92      0.92      0.92     12122\n",
      "           3       0.93      0.92      0.92      4226\n",
      "           4       0.96      0.96      0.96      3934\n",
      "\n",
      "    accuracy                           0.92     47036\n",
      "   macro avg       0.92      0.92      0.92     47036\n",
      "weighted avg       0.92      0.92      0.92     47036\n",
      "\n"
     ]
    }
   ],
   "source": [
    "dt_model = DecisionTreeClassifier(random_state=42)\n",
    "dt_model.fit(X_train, y_train)\n",
    "dt_predictions = dt_model.predict(X_test)\n",
    "print(\"Decision Tree Classifier Report: \\n\", classification_report(y_test, dt_predictions))"
   ]
  },
  {
   "cell_type": "markdown",
   "id": "329bf539",
   "metadata": {},
   "source": [
    "## K-Nearest Neighbors Classifier"
   ]
  },
  {
   "cell_type": "code",
   "execution_count": 92,
   "id": "f4f846bb",
   "metadata": {},
   "outputs": [
    {
     "name": "stdout",
     "output_type": "stream",
     "text": [
      "K-Nearest Neighbors Classifier Report: \n",
      "               precision    recall  f1-score   support\n",
      "\n",
      "           0       0.94      0.89      0.91      7264\n",
      "           1       0.94      0.95      0.95     19490\n",
      "           2       0.94      0.95      0.95     12122\n",
      "           3       0.94      0.96      0.95      4226\n",
      "           4       0.95      0.98      0.96      3934\n",
      "\n",
      "    accuracy                           0.94     47036\n",
      "   macro avg       0.94      0.95      0.94     47036\n",
      "weighted avg       0.94      0.94      0.94     47036\n",
      "\n"
     ]
    }
   ],
   "source": [
    "knn_model = KNeighborsClassifier()\n",
    "knn_model.fit(X_train, y_train)\n",
    "knn_predictions = knn_model.predict(X_test)\n",
    "print(\"K-Nearest Neighbors Classifier Report: \\n\", classification_report(y_test, knn_predictions))"
   ]
  },
  {
   "cell_type": "markdown",
   "id": "abfb8108",
   "metadata": {},
   "source": [
    "### Create pkl file with RF model"
   ]
  },
  {
   "cell_type": "code",
   "execution_count": 93,
   "id": "0e3d3b97",
   "metadata": {},
   "outputs": [],
   "source": [
    "pkl_filename = \"weekend_test_model.pkl\"\n",
    "with open(pkl_filename, 'wb') as file:\n",
    "    pickle.dump(model, file)"
   ]
  }
 ],
 "metadata": {
  "kernelspec": {
   "display_name": "Python 3 (ipykernel)",
   "language": "python",
   "name": "python3"
  },
  "language_info": {
   "codemirror_mode": {
    "name": "ipython",
    "version": 3
   },
   "file_extension": ".py",
   "mimetype": "text/x-python",
   "name": "python",
   "nbconvert_exporter": "python",
   "pygments_lexer": "ipython3",
   "version": "3.9.12"
  }
 },
 "nbformat": 4,
 "nbformat_minor": 5
}
