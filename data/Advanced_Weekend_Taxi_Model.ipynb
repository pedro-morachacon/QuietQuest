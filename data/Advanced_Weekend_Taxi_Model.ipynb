{
 "cells": [
  {
   "cell_type": "code",
   "execution_count": 136,
   "id": "da7bf901",
   "metadata": {},
   "outputs": [],
   "source": [
    "import pickle\n",
    "import pandas as pd\n",
    "import numpy as np\n",
    "import datetime  \n",
    "import seaborn as sns\n",
    "import matplotlib.pyplot as plt\n",
    "import pickle\n",
    "import folium\n",
    "from folium.plugins import HeatMap\n",
    "from math import floor\n",
    "from sklearn.linear_model import LinearRegression, LogisticRegression, SGDRegressor, Lasso, Ridge\n",
    "from sklearn.ensemble import RandomForestRegressor, RandomForestClassifier, GradientBoostingRegressor\n",
    "from sklearn.model_selection import train_test_split\n",
    "from sklearn.metrics import mean_squared_error, r2_score, mean_absolute_error, classification_report, confusion_matrix\n",
    "from sqlalchemy import create_engine\n",
    "from sqlalchemy import text\n",
    "from sklearn.cluster import KMeans\n",
    "from imblearn.over_sampling import SMOTE\n",
    "from sklearn.tree import DecisionTreeClassifier\n",
    "from sklearn.cluster import DBSCAN, OPTICS\n",
    "from sklearn import metrics\n",
    "from sklearn.preprocessing import StandardScaler\n",
    "import csv\n",
    "from shapely.geometry import Point, Polygon\n",
    "import time\n",
    "from math import sqrt\n",
    "from sklearn.preprocessing import StandardScaler\n",
    "from sklearn.model_selection import RandomizedSearchCV\n",
    "from sklearn.tree import DecisionTreeRegressor\n",
    "import geopandas as gpd\n",
    "from sklearn.preprocessing import StandardScaler, OneHotEncoder\n",
    "from sklearn.compose import ColumnTransformer\n",
    "from sklearn.pipeline import Pipeline\n",
    "from sklearn.cluster import Birch\n",
    "from sklearn.cluster import MiniBatchKMeans\n",
    "import dask.dataframe as dd\n",
    "from sklearn.neighbors import KNeighborsClassifier\n",
    "import eli5\n",
    "from eli5.sklearn import PermutationImportance\n",
    "from sklearn.model_selection import GridSearchCV\n",
    "from sklearn.svm import SVR\n",
    "from sklearn.metrics import make_scorer\n",
    "from sklearn.model_selection import cross_validate"
   ]
  },
  {
   "cell_type": "code",
   "execution_count": 137,
   "id": "cb063ac5",
   "metadata": {},
   "outputs": [
    {
     "data": {
      "text/html": [
       "<div>\n",
       "<style scoped>\n",
       "    .dataframe tbody tr th:only-of-type {\n",
       "        vertical-align: middle;\n",
       "    }\n",
       "\n",
       "    .dataframe tbody tr th {\n",
       "        vertical-align: top;\n",
       "    }\n",
       "\n",
       "    .dataframe thead th {\n",
       "        text-align: right;\n",
       "    }\n",
       "</style>\n",
       "<table border=\"1\" class=\"dataframe\">\n",
       "  <thead>\n",
       "    <tr style=\"text-align: right;\">\n",
       "      <th></th>\n",
       "      <th>Unnamed: 0</th>\n",
       "      <th>longitude</th>\n",
       "      <th>latitude</th>\n",
       "      <th>Hour</th>\n",
       "      <th>Day of Week</th>\n",
       "      <th>Cluster</th>\n",
       "      <th>total_weekend_trips</th>\n",
       "      <th>Normalized_Score</th>\n",
       "    </tr>\n",
       "  </thead>\n",
       "  <tbody>\n",
       "    <tr>\n",
       "      <th>0</th>\n",
       "      <td>0</td>\n",
       "      <td>-73.980415</td>\n",
       "      <td>40.738564</td>\n",
       "      <td>0</td>\n",
       "      <td>6</td>\n",
       "      <td>225</td>\n",
       "      <td>35.0</td>\n",
       "      <td>0.367347</td>\n",
       "    </tr>\n",
       "    <tr>\n",
       "      <th>1</th>\n",
       "      <td>1</td>\n",
       "      <td>-73.981323</td>\n",
       "      <td>40.737522</td>\n",
       "      <td>0</td>\n",
       "      <td>6</td>\n",
       "      <td>225</td>\n",
       "      <td>35.0</td>\n",
       "      <td>0.367347</td>\n",
       "    </tr>\n",
       "    <tr>\n",
       "      <th>2</th>\n",
       "      <td>2</td>\n",
       "      <td>-73.980721</td>\n",
       "      <td>40.738167</td>\n",
       "      <td>0</td>\n",
       "      <td>6</td>\n",
       "      <td>225</td>\n",
       "      <td>35.0</td>\n",
       "      <td>0.367347</td>\n",
       "    </tr>\n",
       "    <tr>\n",
       "      <th>3</th>\n",
       "      <td>3</td>\n",
       "      <td>-73.980370</td>\n",
       "      <td>40.738625</td>\n",
       "      <td>0</td>\n",
       "      <td>6</td>\n",
       "      <td>225</td>\n",
       "      <td>35.0</td>\n",
       "      <td>0.367347</td>\n",
       "    </tr>\n",
       "    <tr>\n",
       "      <th>4</th>\n",
       "      <td>4</td>\n",
       "      <td>-73.981277</td>\n",
       "      <td>40.737244</td>\n",
       "      <td>0</td>\n",
       "      <td>6</td>\n",
       "      <td>225</td>\n",
       "      <td>35.0</td>\n",
       "      <td>0.367347</td>\n",
       "    </tr>\n",
       "    <tr>\n",
       "      <th>...</th>\n",
       "      <td>...</td>\n",
       "      <td>...</td>\n",
       "      <td>...</td>\n",
       "      <td>...</td>\n",
       "      <td>...</td>\n",
       "      <td>...</td>\n",
       "      <td>...</td>\n",
       "      <td>...</td>\n",
       "    </tr>\n",
       "    <tr>\n",
       "      <th>342508</th>\n",
       "      <td>461323</td>\n",
       "      <td>-73.988777</td>\n",
       "      <td>40.778099</td>\n",
       "      <td>6</td>\n",
       "      <td>5</td>\n",
       "      <td>386</td>\n",
       "      <td>2.0</td>\n",
       "      <td>0.000000</td>\n",
       "    </tr>\n",
       "    <tr>\n",
       "      <th>342509</th>\n",
       "      <td>461324</td>\n",
       "      <td>-73.978294</td>\n",
       "      <td>40.752399</td>\n",
       "      <td>3</td>\n",
       "      <td>6</td>\n",
       "      <td>120</td>\n",
       "      <td>22.0</td>\n",
       "      <td>0.142857</td>\n",
       "    </tr>\n",
       "    <tr>\n",
       "      <th>342510</th>\n",
       "      <td>461335</td>\n",
       "      <td>-73.970558</td>\n",
       "      <td>40.799046</td>\n",
       "      <td>2</td>\n",
       "      <td>5</td>\n",
       "      <td>447</td>\n",
       "      <td>5.0</td>\n",
       "      <td>0.306122</td>\n",
       "    </tr>\n",
       "    <tr>\n",
       "      <th>342511</th>\n",
       "      <td>461336</td>\n",
       "      <td>-73.965858</td>\n",
       "      <td>40.789978</td>\n",
       "      <td>4</td>\n",
       "      <td>5</td>\n",
       "      <td>197</td>\n",
       "      <td>7.0</td>\n",
       "      <td>0.000000</td>\n",
       "    </tr>\n",
       "    <tr>\n",
       "      <th>342512</th>\n",
       "      <td>461337</td>\n",
       "      <td>-73.997772</td>\n",
       "      <td>40.765095</td>\n",
       "      <td>19</td>\n",
       "      <td>6</td>\n",
       "      <td>398</td>\n",
       "      <td>23.0</td>\n",
       "      <td>0.142857</td>\n",
       "    </tr>\n",
       "  </tbody>\n",
       "</table>\n",
       "<p>342513 rows × 8 columns</p>\n",
       "</div>"
      ],
      "text/plain": [
       "        Unnamed: 0  longitude   latitude  Hour  Day of Week  Cluster  \\\n",
       "0                0 -73.980415  40.738564     0            6      225   \n",
       "1                1 -73.981323  40.737522     0            6      225   \n",
       "2                2 -73.980721  40.738167     0            6      225   \n",
       "3                3 -73.980370  40.738625     0            6      225   \n",
       "4                4 -73.981277  40.737244     0            6      225   \n",
       "...            ...        ...        ...   ...          ...      ...   \n",
       "342508      461323 -73.988777  40.778099     6            5      386   \n",
       "342509      461324 -73.978294  40.752399     3            6      120   \n",
       "342510      461335 -73.970558  40.799046     2            5      447   \n",
       "342511      461336 -73.965858  40.789978     4            5      197   \n",
       "342512      461337 -73.997772  40.765095    19            6      398   \n",
       "\n",
       "        total_weekend_trips  Normalized_Score  \n",
       "0                      35.0          0.367347  \n",
       "1                      35.0          0.367347  \n",
       "2                      35.0          0.367347  \n",
       "3                      35.0          0.367347  \n",
       "4                      35.0          0.367347  \n",
       "...                     ...               ...  \n",
       "342508                  2.0          0.000000  \n",
       "342509                 22.0          0.142857  \n",
       "342510                  5.0          0.306122  \n",
       "342511                  7.0          0.000000  \n",
       "342512                 23.0          0.142857  \n",
       "\n",
       "[342513 rows x 8 columns]"
      ]
     },
     "execution_count": 137,
     "metadata": {},
     "output_type": "execute_result"
    }
   ],
   "source": [
    "df = pd.read_csv('New_Weekend_Model_Data_NoWeather_Crime.csv')\n",
    "df"
   ]
  },
  {
   "cell_type": "code",
   "execution_count": 138,
   "id": "1eb3e22a",
   "metadata": {},
   "outputs": [
    {
     "data": {
      "text/html": [
       "<div>\n",
       "<style scoped>\n",
       "    .dataframe tbody tr th:only-of-type {\n",
       "        vertical-align: middle;\n",
       "    }\n",
       "\n",
       "    .dataframe tbody tr th {\n",
       "        vertical-align: top;\n",
       "    }\n",
       "\n",
       "    .dataframe thead th {\n",
       "        text-align: right;\n",
       "    }\n",
       "</style>\n",
       "<table border=\"1\" class=\"dataframe\">\n",
       "  <thead>\n",
       "    <tr style=\"text-align: right;\">\n",
       "      <th></th>\n",
       "      <th>longitude</th>\n",
       "      <th>latitude</th>\n",
       "      <th>Hour</th>\n",
       "      <th>Day of Week</th>\n",
       "      <th>Cluster</th>\n",
       "      <th>total_weekend_trips</th>\n",
       "      <th>Normalized_Score</th>\n",
       "    </tr>\n",
       "  </thead>\n",
       "  <tbody>\n",
       "    <tr>\n",
       "      <th>0</th>\n",
       "      <td>-73.980415</td>\n",
       "      <td>40.738564</td>\n",
       "      <td>0</td>\n",
       "      <td>6</td>\n",
       "      <td>225</td>\n",
       "      <td>35.0</td>\n",
       "      <td>0.367347</td>\n",
       "    </tr>\n",
       "    <tr>\n",
       "      <th>1</th>\n",
       "      <td>-73.981323</td>\n",
       "      <td>40.737522</td>\n",
       "      <td>0</td>\n",
       "      <td>6</td>\n",
       "      <td>225</td>\n",
       "      <td>35.0</td>\n",
       "      <td>0.367347</td>\n",
       "    </tr>\n",
       "    <tr>\n",
       "      <th>2</th>\n",
       "      <td>-73.980721</td>\n",
       "      <td>40.738167</td>\n",
       "      <td>0</td>\n",
       "      <td>6</td>\n",
       "      <td>225</td>\n",
       "      <td>35.0</td>\n",
       "      <td>0.367347</td>\n",
       "    </tr>\n",
       "    <tr>\n",
       "      <th>3</th>\n",
       "      <td>-73.980370</td>\n",
       "      <td>40.738625</td>\n",
       "      <td>0</td>\n",
       "      <td>6</td>\n",
       "      <td>225</td>\n",
       "      <td>35.0</td>\n",
       "      <td>0.367347</td>\n",
       "    </tr>\n",
       "    <tr>\n",
       "      <th>4</th>\n",
       "      <td>-73.981277</td>\n",
       "      <td>40.737244</td>\n",
       "      <td>0</td>\n",
       "      <td>6</td>\n",
       "      <td>225</td>\n",
       "      <td>35.0</td>\n",
       "      <td>0.367347</td>\n",
       "    </tr>\n",
       "    <tr>\n",
       "      <th>...</th>\n",
       "      <td>...</td>\n",
       "      <td>...</td>\n",
       "      <td>...</td>\n",
       "      <td>...</td>\n",
       "      <td>...</td>\n",
       "      <td>...</td>\n",
       "      <td>...</td>\n",
       "    </tr>\n",
       "    <tr>\n",
       "      <th>342508</th>\n",
       "      <td>-73.988777</td>\n",
       "      <td>40.778099</td>\n",
       "      <td>6</td>\n",
       "      <td>5</td>\n",
       "      <td>386</td>\n",
       "      <td>2.0</td>\n",
       "      <td>0.000000</td>\n",
       "    </tr>\n",
       "    <tr>\n",
       "      <th>342509</th>\n",
       "      <td>-73.978294</td>\n",
       "      <td>40.752399</td>\n",
       "      <td>3</td>\n",
       "      <td>6</td>\n",
       "      <td>120</td>\n",
       "      <td>22.0</td>\n",
       "      <td>0.142857</td>\n",
       "    </tr>\n",
       "    <tr>\n",
       "      <th>342510</th>\n",
       "      <td>-73.970558</td>\n",
       "      <td>40.799046</td>\n",
       "      <td>2</td>\n",
       "      <td>5</td>\n",
       "      <td>447</td>\n",
       "      <td>5.0</td>\n",
       "      <td>0.306122</td>\n",
       "    </tr>\n",
       "    <tr>\n",
       "      <th>342511</th>\n",
       "      <td>-73.965858</td>\n",
       "      <td>40.789978</td>\n",
       "      <td>4</td>\n",
       "      <td>5</td>\n",
       "      <td>197</td>\n",
       "      <td>7.0</td>\n",
       "      <td>0.000000</td>\n",
       "    </tr>\n",
       "    <tr>\n",
       "      <th>342512</th>\n",
       "      <td>-73.997772</td>\n",
       "      <td>40.765095</td>\n",
       "      <td>19</td>\n",
       "      <td>6</td>\n",
       "      <td>398</td>\n",
       "      <td>23.0</td>\n",
       "      <td>0.142857</td>\n",
       "    </tr>\n",
       "  </tbody>\n",
       "</table>\n",
       "<p>342513 rows × 7 columns</p>\n",
       "</div>"
      ],
      "text/plain": [
       "        longitude   latitude  Hour  Day of Week  Cluster  total_weekend_trips  \\\n",
       "0      -73.980415  40.738564     0            6      225                 35.0   \n",
       "1      -73.981323  40.737522     0            6      225                 35.0   \n",
       "2      -73.980721  40.738167     0            6      225                 35.0   \n",
       "3      -73.980370  40.738625     0            6      225                 35.0   \n",
       "4      -73.981277  40.737244     0            6      225                 35.0   \n",
       "...           ...        ...   ...          ...      ...                  ...   \n",
       "342508 -73.988777  40.778099     6            5      386                  2.0   \n",
       "342509 -73.978294  40.752399     3            6      120                 22.0   \n",
       "342510 -73.970558  40.799046     2            5      447                  5.0   \n",
       "342511 -73.965858  40.789978     4            5      197                  7.0   \n",
       "342512 -73.997772  40.765095    19            6      398                 23.0   \n",
       "\n",
       "        Normalized_Score  \n",
       "0               0.367347  \n",
       "1               0.367347  \n",
       "2               0.367347  \n",
       "3               0.367347  \n",
       "4               0.367347  \n",
       "...                  ...  \n",
       "342508          0.000000  \n",
       "342509          0.142857  \n",
       "342510          0.306122  \n",
       "342511          0.000000  \n",
       "342512          0.142857  \n",
       "\n",
       "[342513 rows x 7 columns]"
      ]
     },
     "execution_count": 138,
     "metadata": {},
     "output_type": "execute_result"
    }
   ],
   "source": [
    "df = df.drop(columns=[\"Unnamed: 0\"])\n",
    "df"
   ]
  },
  {
   "cell_type": "code",
   "execution_count": 139,
   "id": "9703d4a2",
   "metadata": {
    "scrolled": false
   },
   "outputs": [
    {
     "data": {
      "text/html": [
       "<div>\n",
       "<style scoped>\n",
       "    .dataframe tbody tr th:only-of-type {\n",
       "        vertical-align: middle;\n",
       "    }\n",
       "\n",
       "    .dataframe tbody tr th {\n",
       "        vertical-align: top;\n",
       "    }\n",
       "\n",
       "    .dataframe thead th {\n",
       "        text-align: right;\n",
       "    }\n",
       "</style>\n",
       "<table border=\"1\" class=\"dataframe\">\n",
       "  <thead>\n",
       "    <tr style=\"text-align: right;\">\n",
       "      <th></th>\n",
       "      <th>longitude</th>\n",
       "      <th>latitude</th>\n",
       "      <th>Hour</th>\n",
       "      <th>Day of Week</th>\n",
       "      <th>Cluster</th>\n",
       "      <th>total_weekend_trips</th>\n",
       "      <th>Normalized_Score</th>\n",
       "    </tr>\n",
       "  </thead>\n",
       "  <tbody>\n",
       "    <tr>\n",
       "      <th>20</th>\n",
       "      <td>-73.973053</td>\n",
       "      <td>40.793209</td>\n",
       "      <td>13</td>\n",
       "      <td>5</td>\n",
       "      <td>7</td>\n",
       "      <td>37.0</td>\n",
       "      <td>0.408163</td>\n",
       "    </tr>\n",
       "    <tr>\n",
       "      <th>21</th>\n",
       "      <td>-73.974113</td>\n",
       "      <td>40.791660</td>\n",
       "      <td>13</td>\n",
       "      <td>5</td>\n",
       "      <td>7</td>\n",
       "      <td>37.0</td>\n",
       "      <td>0.408163</td>\n",
       "    </tr>\n",
       "    <tr>\n",
       "      <th>22</th>\n",
       "      <td>-73.973000</td>\n",
       "      <td>40.790482</td>\n",
       "      <td>13</td>\n",
       "      <td>5</td>\n",
       "      <td>7</td>\n",
       "      <td>37.0</td>\n",
       "      <td>0.408163</td>\n",
       "    </tr>\n",
       "    <tr>\n",
       "      <th>23</th>\n",
       "      <td>-73.974037</td>\n",
       "      <td>40.791443</td>\n",
       "      <td>13</td>\n",
       "      <td>5</td>\n",
       "      <td>7</td>\n",
       "      <td>37.0</td>\n",
       "      <td>0.408163</td>\n",
       "    </tr>\n",
       "    <tr>\n",
       "      <th>24</th>\n",
       "      <td>-73.972992</td>\n",
       "      <td>40.792900</td>\n",
       "      <td>13</td>\n",
       "      <td>5</td>\n",
       "      <td>7</td>\n",
       "      <td>37.0</td>\n",
       "      <td>0.408163</td>\n",
       "    </tr>\n",
       "    <tr>\n",
       "      <th>...</th>\n",
       "      <td>...</td>\n",
       "      <td>...</td>\n",
       "      <td>...</td>\n",
       "      <td>...</td>\n",
       "      <td>...</td>\n",
       "      <td>...</td>\n",
       "      <td>...</td>\n",
       "    </tr>\n",
       "    <tr>\n",
       "      <th>342501</th>\n",
       "      <td>-74.005623</td>\n",
       "      <td>40.738163</td>\n",
       "      <td>5</td>\n",
       "      <td>5</td>\n",
       "      <td>96</td>\n",
       "      <td>3.0</td>\n",
       "      <td>0.000000</td>\n",
       "    </tr>\n",
       "    <tr>\n",
       "      <th>342506</th>\n",
       "      <td>-73.952049</td>\n",
       "      <td>40.810581</td>\n",
       "      <td>6</td>\n",
       "      <td>5</td>\n",
       "      <td>354</td>\n",
       "      <td>3.0</td>\n",
       "      <td>0.000000</td>\n",
       "    </tr>\n",
       "    <tr>\n",
       "      <th>342508</th>\n",
       "      <td>-73.988777</td>\n",
       "      <td>40.778099</td>\n",
       "      <td>6</td>\n",
       "      <td>5</td>\n",
       "      <td>386</td>\n",
       "      <td>2.0</td>\n",
       "      <td>0.000000</td>\n",
       "    </tr>\n",
       "    <tr>\n",
       "      <th>342510</th>\n",
       "      <td>-73.970558</td>\n",
       "      <td>40.799046</td>\n",
       "      <td>2</td>\n",
       "      <td>5</td>\n",
       "      <td>447</td>\n",
       "      <td>5.0</td>\n",
       "      <td>0.306122</td>\n",
       "    </tr>\n",
       "    <tr>\n",
       "      <th>342511</th>\n",
       "      <td>-73.965858</td>\n",
       "      <td>40.789978</td>\n",
       "      <td>4</td>\n",
       "      <td>5</td>\n",
       "      <td>197</td>\n",
       "      <td>7.0</td>\n",
       "      <td>0.000000</td>\n",
       "    </tr>\n",
       "  </tbody>\n",
       "</table>\n",
       "<p>185727 rows × 7 columns</p>\n",
       "</div>"
      ],
      "text/plain": [
       "        longitude   latitude  Hour  Day of Week  Cluster  total_weekend_trips  \\\n",
       "20     -73.973053  40.793209    13            5        7                 37.0   \n",
       "21     -73.974113  40.791660    13            5        7                 37.0   \n",
       "22     -73.973000  40.790482    13            5        7                 37.0   \n",
       "23     -73.974037  40.791443    13            5        7                 37.0   \n",
       "24     -73.972992  40.792900    13            5        7                 37.0   \n",
       "...           ...        ...   ...          ...      ...                  ...   \n",
       "342501 -74.005623  40.738163     5            5       96                  3.0   \n",
       "342506 -73.952049  40.810581     6            5      354                  3.0   \n",
       "342508 -73.988777  40.778099     6            5      386                  2.0   \n",
       "342510 -73.970558  40.799046     2            5      447                  5.0   \n",
       "342511 -73.965858  40.789978     4            5      197                  7.0   \n",
       "\n",
       "        Normalized_Score  \n",
       "20              0.408163  \n",
       "21              0.408163  \n",
       "22              0.408163  \n",
       "23              0.408163  \n",
       "24              0.408163  \n",
       "...                  ...  \n",
       "342501          0.000000  \n",
       "342506          0.000000  \n",
       "342508          0.000000  \n",
       "342510          0.306122  \n",
       "342511          0.000000  \n",
       "\n",
       "[185727 rows x 7 columns]"
      ]
     },
     "execution_count": 139,
     "metadata": {},
     "output_type": "execute_result"
    }
   ],
   "source": [
    "df[df[\"Day of Week\"] == 5]"
   ]
  },
  {
   "cell_type": "code",
   "execution_count": 140,
   "id": "83eec3fd",
   "metadata": {},
   "outputs": [
    {
     "data": {
      "text/plain": [
       "array([6, 5])"
      ]
     },
     "execution_count": 140,
     "metadata": {},
     "output_type": "execute_result"
    }
   ],
   "source": [
    "df[\"Day of Week\"].unique()"
   ]
  },
  {
   "cell_type": "code",
   "execution_count": 141,
   "id": "0490db18",
   "metadata": {},
   "outputs": [
    {
     "data": {
      "text/plain": [
       "longitude              0\n",
       "latitude               0\n",
       "Hour                   0\n",
       "Day of Week            0\n",
       "Cluster                0\n",
       "total_weekend_trips    0\n",
       "Normalized_Score       0\n",
       "dtype: int64"
      ]
     },
     "execution_count": 141,
     "metadata": {},
     "output_type": "execute_result"
    }
   ],
   "source": [
    "df.isna().sum()"
   ]
  },
  {
   "cell_type": "markdown",
   "id": "c7b1903e",
   "metadata": {},
   "source": [
    "## Create two separate data frames for test and train"
   ]
  },
  {
   "cell_type": "code",
   "execution_count": 142,
   "id": "41a64253",
   "metadata": {},
   "outputs": [],
   "source": [
    "df_train, df_test = train_test_split(df, test_size=0.3, random_state=42)"
   ]
  },
  {
   "cell_type": "code",
   "execution_count": 143,
   "id": "c206c740",
   "metadata": {},
   "outputs": [
    {
     "name": "stdout",
     "output_type": "stream",
     "text": [
      "Original: 342513 rows\n",
      "Training: 239759 rows\n",
      "Testing: 102754 rows\n"
     ]
    }
   ],
   "source": [
    "print(f'Original: {len(df)} rows')\n",
    "print(f'Training: {len(df_train)} rows')\n",
    "print(f'Testing: {len(df_test)} rows')"
   ]
  },
  {
   "cell_type": "code",
   "execution_count": 144,
   "id": "144f2cdc",
   "metadata": {},
   "outputs": [
    {
     "data": {
      "text/html": [
       "<div>\n",
       "<style scoped>\n",
       "    .dataframe tbody tr th:only-of-type {\n",
       "        vertical-align: middle;\n",
       "    }\n",
       "\n",
       "    .dataframe tbody tr th {\n",
       "        vertical-align: top;\n",
       "    }\n",
       "\n",
       "    .dataframe thead th {\n",
       "        text-align: right;\n",
       "    }\n",
       "</style>\n",
       "<table border=\"1\" class=\"dataframe\">\n",
       "  <thead>\n",
       "    <tr style=\"text-align: right;\">\n",
       "      <th></th>\n",
       "      <th>longitude</th>\n",
       "      <th>latitude</th>\n",
       "      <th>Hour</th>\n",
       "      <th>Day of Week</th>\n",
       "      <th>Cluster</th>\n",
       "      <th>total_weekend_trips</th>\n",
       "      <th>Normalized_Score</th>\n",
       "    </tr>\n",
       "  </thead>\n",
       "  <tbody>\n",
       "    <tr>\n",
       "      <th>60241</th>\n",
       "      <td>-73.952858</td>\n",
       "      <td>40.776402</td>\n",
       "      <td>0</td>\n",
       "      <td>5</td>\n",
       "      <td>409</td>\n",
       "      <td>61.0</td>\n",
       "      <td>0.795918</td>\n",
       "    </tr>\n",
       "    <tr>\n",
       "      <th>139765</th>\n",
       "      <td>-73.977539</td>\n",
       "      <td>40.784294</td>\n",
       "      <td>23</td>\n",
       "      <td>6</td>\n",
       "      <td>358</td>\n",
       "      <td>26.0</td>\n",
       "      <td>0.183673</td>\n",
       "    </tr>\n",
       "    <tr>\n",
       "      <th>262627</th>\n",
       "      <td>-73.988365</td>\n",
       "      <td>40.723602</td>\n",
       "      <td>11</td>\n",
       "      <td>5</td>\n",
       "      <td>366</td>\n",
       "      <td>31.0</td>\n",
       "      <td>0.285714</td>\n",
       "    </tr>\n",
       "    <tr>\n",
       "      <th>274408</th>\n",
       "      <td>-73.982430</td>\n",
       "      <td>40.768532</td>\n",
       "      <td>11</td>\n",
       "      <td>5</td>\n",
       "      <td>50</td>\n",
       "      <td>71.0</td>\n",
       "      <td>0.857143</td>\n",
       "    </tr>\n",
       "    <tr>\n",
       "      <th>235825</th>\n",
       "      <td>-73.971817</td>\n",
       "      <td>40.794849</td>\n",
       "      <td>8</td>\n",
       "      <td>6</td>\n",
       "      <td>397</td>\n",
       "      <td>18.0</td>\n",
       "      <td>0.081633</td>\n",
       "    </tr>\n",
       "  </tbody>\n",
       "</table>\n",
       "</div>"
      ],
      "text/plain": [
       "        longitude   latitude  Hour  Day of Week  Cluster  total_weekend_trips  \\\n",
       "60241  -73.952858  40.776402     0            5      409                 61.0   \n",
       "139765 -73.977539  40.784294    23            6      358                 26.0   \n",
       "262627 -73.988365  40.723602    11            5      366                 31.0   \n",
       "274408 -73.982430  40.768532    11            5       50                 71.0   \n",
       "235825 -73.971817  40.794849     8            6      397                 18.0   \n",
       "\n",
       "        Normalized_Score  \n",
       "60241           0.795918  \n",
       "139765          0.183673  \n",
       "262627          0.285714  \n",
       "274408          0.857143  \n",
       "235825          0.081633  "
      ]
     },
     "execution_count": 144,
     "metadata": {},
     "output_type": "execute_result"
    }
   ],
   "source": [
    "df_train.head()"
   ]
  },
  {
   "cell_type": "code",
   "execution_count": 145,
   "id": "f3e72bb9",
   "metadata": {},
   "outputs": [
    {
     "data": {
      "text/html": [
       "<div>\n",
       "<style scoped>\n",
       "    .dataframe tbody tr th:only-of-type {\n",
       "        vertical-align: middle;\n",
       "    }\n",
       "\n",
       "    .dataframe tbody tr th {\n",
       "        vertical-align: top;\n",
       "    }\n",
       "\n",
       "    .dataframe thead th {\n",
       "        text-align: right;\n",
       "    }\n",
       "</style>\n",
       "<table border=\"1\" class=\"dataframe\">\n",
       "  <thead>\n",
       "    <tr style=\"text-align: right;\">\n",
       "      <th></th>\n",
       "      <th>longitude</th>\n",
       "      <th>latitude</th>\n",
       "      <th>Hour</th>\n",
       "      <th>Day of Week</th>\n",
       "      <th>Cluster</th>\n",
       "      <th>total_weekend_trips</th>\n",
       "      <th>Normalized_Score</th>\n",
       "    </tr>\n",
       "  </thead>\n",
       "  <tbody>\n",
       "    <tr>\n",
       "      <th>309429</th>\n",
       "      <td>-74.003693</td>\n",
       "      <td>40.738548</td>\n",
       "      <td>3</td>\n",
       "      <td>5</td>\n",
       "      <td>96</td>\n",
       "      <td>16.0</td>\n",
       "      <td>0.061224</td>\n",
       "    </tr>\n",
       "    <tr>\n",
       "      <th>318201</th>\n",
       "      <td>-73.955978</td>\n",
       "      <td>40.772125</td>\n",
       "      <td>21</td>\n",
       "      <td>5</td>\n",
       "      <td>346</td>\n",
       "      <td>63.0</td>\n",
       "      <td>0.816327</td>\n",
       "    </tr>\n",
       "    <tr>\n",
       "      <th>39006</th>\n",
       "      <td>-73.992409</td>\n",
       "      <td>40.736294</td>\n",
       "      <td>23</td>\n",
       "      <td>5</td>\n",
       "      <td>41</td>\n",
       "      <td>33.0</td>\n",
       "      <td>0.326531</td>\n",
       "    </tr>\n",
       "    <tr>\n",
       "      <th>314716</th>\n",
       "      <td>-73.992714</td>\n",
       "      <td>40.751831</td>\n",
       "      <td>0</td>\n",
       "      <td>5</td>\n",
       "      <td>344</td>\n",
       "      <td>28.0</td>\n",
       "      <td>0.224490</td>\n",
       "    </tr>\n",
       "    <tr>\n",
       "      <th>271676</th>\n",
       "      <td>-73.986122</td>\n",
       "      <td>40.735020</td>\n",
       "      <td>13</td>\n",
       "      <td>5</td>\n",
       "      <td>385</td>\n",
       "      <td>47.0</td>\n",
       "      <td>0.612245</td>\n",
       "    </tr>\n",
       "  </tbody>\n",
       "</table>\n",
       "</div>"
      ],
      "text/plain": [
       "        longitude   latitude  Hour  Day of Week  Cluster  total_weekend_trips  \\\n",
       "309429 -74.003693  40.738548     3            5       96                 16.0   \n",
       "318201 -73.955978  40.772125    21            5      346                 63.0   \n",
       "39006  -73.992409  40.736294    23            5       41                 33.0   \n",
       "314716 -73.992714  40.751831     0            5      344                 28.0   \n",
       "271676 -73.986122  40.735020    13            5      385                 47.0   \n",
       "\n",
       "        Normalized_Score  \n",
       "309429          0.061224  \n",
       "318201          0.816327  \n",
       "39006           0.326531  \n",
       "314716          0.224490  \n",
       "271676          0.612245  "
      ]
     },
     "execution_count": 145,
     "metadata": {},
     "output_type": "execute_result"
    }
   ],
   "source": [
    "df_test.head()"
   ]
  },
  {
   "cell_type": "markdown",
   "id": "af59e63d",
   "metadata": {},
   "source": [
    "## Beging testing using the training set "
   ]
  },
  {
   "cell_type": "code",
   "execution_count": 146,
   "id": "3834d613",
   "metadata": {},
   "outputs": [],
   "source": [
    "X = df_train[['latitude','longitude','Hour','Day of Week']]\n",
    "y = df_train['Normalized_Score']"
   ]
  },
  {
   "cell_type": "code",
   "execution_count": 147,
   "id": "184f187a",
   "metadata": {},
   "outputs": [],
   "source": [
    "X_train, X_val, y_train, y_val = train_test_split(X, y, test_size=0.5, random_state=42)"
   ]
  },
  {
   "cell_type": "code",
   "execution_count": 148,
   "id": "4a9c06ae",
   "metadata": {},
   "outputs": [],
   "source": [
    "model = RandomForestRegressor(random_state=42)"
   ]
  },
  {
   "cell_type": "code",
   "execution_count": 149,
   "id": "d9aa4045",
   "metadata": {},
   "outputs": [
    {
     "data": {
      "text/html": [
       "<style>#sk-container-id-9 {color: black;background-color: white;}#sk-container-id-9 pre{padding: 0;}#sk-container-id-9 div.sk-toggleable {background-color: white;}#sk-container-id-9 label.sk-toggleable__label {cursor: pointer;display: block;width: 100%;margin-bottom: 0;padding: 0.3em;box-sizing: border-box;text-align: center;}#sk-container-id-9 label.sk-toggleable__label-arrow:before {content: \"▸\";float: left;margin-right: 0.25em;color: #696969;}#sk-container-id-9 label.sk-toggleable__label-arrow:hover:before {color: black;}#sk-container-id-9 div.sk-estimator:hover label.sk-toggleable__label-arrow:before {color: black;}#sk-container-id-9 div.sk-toggleable__content {max-height: 0;max-width: 0;overflow: hidden;text-align: left;background-color: #f0f8ff;}#sk-container-id-9 div.sk-toggleable__content pre {margin: 0.2em;color: black;border-radius: 0.25em;background-color: #f0f8ff;}#sk-container-id-9 input.sk-toggleable__control:checked~div.sk-toggleable__content {max-height: 200px;max-width: 100%;overflow: auto;}#sk-container-id-9 input.sk-toggleable__control:checked~label.sk-toggleable__label-arrow:before {content: \"▾\";}#sk-container-id-9 div.sk-estimator input.sk-toggleable__control:checked~label.sk-toggleable__label {background-color: #d4ebff;}#sk-container-id-9 div.sk-label input.sk-toggleable__control:checked~label.sk-toggleable__label {background-color: #d4ebff;}#sk-container-id-9 input.sk-hidden--visually {border: 0;clip: rect(1px 1px 1px 1px);clip: rect(1px, 1px, 1px, 1px);height: 1px;margin: -1px;overflow: hidden;padding: 0;position: absolute;width: 1px;}#sk-container-id-9 div.sk-estimator {font-family: monospace;background-color: #f0f8ff;border: 1px dotted black;border-radius: 0.25em;box-sizing: border-box;margin-bottom: 0.5em;}#sk-container-id-9 div.sk-estimator:hover {background-color: #d4ebff;}#sk-container-id-9 div.sk-parallel-item::after {content: \"\";width: 100%;border-bottom: 1px solid gray;flex-grow: 1;}#sk-container-id-9 div.sk-label:hover label.sk-toggleable__label {background-color: #d4ebff;}#sk-container-id-9 div.sk-serial::before {content: \"\";position: absolute;border-left: 1px solid gray;box-sizing: border-box;top: 0;bottom: 0;left: 50%;z-index: 0;}#sk-container-id-9 div.sk-serial {display: flex;flex-direction: column;align-items: center;background-color: white;padding-right: 0.2em;padding-left: 0.2em;position: relative;}#sk-container-id-9 div.sk-item {position: relative;z-index: 1;}#sk-container-id-9 div.sk-parallel {display: flex;align-items: stretch;justify-content: center;background-color: white;position: relative;}#sk-container-id-9 div.sk-item::before, #sk-container-id-9 div.sk-parallel-item::before {content: \"\";position: absolute;border-left: 1px solid gray;box-sizing: border-box;top: 0;bottom: 0;left: 50%;z-index: -1;}#sk-container-id-9 div.sk-parallel-item {display: flex;flex-direction: column;z-index: 1;position: relative;background-color: white;}#sk-container-id-9 div.sk-parallel-item:first-child::after {align-self: flex-end;width: 50%;}#sk-container-id-9 div.sk-parallel-item:last-child::after {align-self: flex-start;width: 50%;}#sk-container-id-9 div.sk-parallel-item:only-child::after {width: 0;}#sk-container-id-9 div.sk-dashed-wrapped {border: 1px dashed gray;margin: 0 0.4em 0.5em 0.4em;box-sizing: border-box;padding-bottom: 0.4em;background-color: white;}#sk-container-id-9 div.sk-label label {font-family: monospace;font-weight: bold;display: inline-block;line-height: 1.2em;}#sk-container-id-9 div.sk-label-container {text-align: center;}#sk-container-id-9 div.sk-container {/* jupyter's `normalize.less` sets `[hidden] { display: none; }` but bootstrap.min.css set `[hidden] { display: none !important; }` so we also need the `!important` here to be able to override the default hidden behavior on the sphinx rendered scikit-learn.org. See: https://github.com/scikit-learn/scikit-learn/issues/21755 */display: inline-block !important;position: relative;}#sk-container-id-9 div.sk-text-repr-fallback {display: none;}</style><div id=\"sk-container-id-9\" class=\"sk-top-container\"><div class=\"sk-text-repr-fallback\"><pre>RandomForestRegressor(random_state=42)</pre><b>In a Jupyter environment, please rerun this cell to show the HTML representation or trust the notebook. <br />On GitHub, the HTML representation is unable to render, please try loading this page with nbviewer.org.</b></div><div class=\"sk-container\" hidden><div class=\"sk-item\"><div class=\"sk-estimator sk-toggleable\"><input class=\"sk-toggleable__control sk-hidden--visually\" id=\"sk-estimator-id-9\" type=\"checkbox\" checked><label for=\"sk-estimator-id-9\" class=\"sk-toggleable__label sk-toggleable__label-arrow\">RandomForestRegressor</label><div class=\"sk-toggleable__content\"><pre>RandomForestRegressor(random_state=42)</pre></div></div></div></div></div>"
      ],
      "text/plain": [
       "RandomForestRegressor(random_state=42)"
      ]
     },
     "execution_count": 149,
     "metadata": {},
     "output_type": "execute_result"
    }
   ],
   "source": [
    "model.fit(X_train, y_train)"
   ]
  },
  {
   "cell_type": "code",
   "execution_count": 150,
   "id": "daebecfb",
   "metadata": {},
   "outputs": [],
   "source": [
    "y_val_pred = model.predict(X_val)"
   ]
  },
  {
   "cell_type": "code",
   "execution_count": 151,
   "id": "51305256",
   "metadata": {},
   "outputs": [
    {
     "name": "stdout",
     "output_type": "stream",
     "text": [
      "Validation MSE: 0.007322153373158126\n"
     ]
    }
   ],
   "source": [
    "mse = mean_squared_error(y_val, y_val_pred)\n",
    "print('Validation MSE:', mse)"
   ]
  },
  {
   "cell_type": "markdown",
   "id": "2aacd764",
   "metadata": {},
   "source": [
    "## Test other models"
   ]
  },
  {
   "cell_type": "code",
   "execution_count": 152,
   "id": "c280309d",
   "metadata": {},
   "outputs": [],
   "source": [
    "models = [\n",
    "    ('Random Forest', RandomForestRegressor(random_state=42)),\n",
    "    ('Decision Tree', DecisionTreeRegressor(random_state=42)),\n",
    "    ('Gradient Boosting', GradientBoostingRegressor(random_state=42)),\n",
    "    ('Linear Regression', LinearRegression())\n",
    "]"
   ]
  },
  {
   "cell_type": "code",
   "execution_count": 153,
   "id": "17b6002a",
   "metadata": {},
   "outputs": [],
   "source": [
    "results = []"
   ]
  },
  {
   "cell_type": "code",
   "execution_count": 154,
   "id": "7d62d152",
   "metadata": {},
   "outputs": [],
   "source": [
    "for name, model in models:\n",
    "    \n",
    "    model.fit(X_train, y_train)\n",
    "    y_val_pred = model.predict(X_val)\n",
    "    mse = mean_squared_error(y_val, y_val_pred)\n",
    "    results.append((name, mse))"
   ]
  },
  {
   "cell_type": "code",
   "execution_count": 155,
   "id": "083d7b6d",
   "metadata": {},
   "outputs": [
    {
     "name": "stdout",
     "output_type": "stream",
     "text": [
      "Model: Random Forest, Validation MSE: 0.007322153373158126\n",
      "Model: Decision Tree, Validation MSE: 0.01352877319295633\n",
      "Model: Gradient Boosting, Validation MSE: 0.051922487314839214\n",
      "Model: Linear Regression, Validation MSE: 0.0827810193478851\n"
     ]
    }
   ],
   "source": [
    "for result in results:\n",
    "    print(f'Model: {result[0]}, Validation MSE: {result[1]}')"
   ]
  },
  {
   "cell_type": "markdown",
   "id": "fcbd92ee",
   "metadata": {},
   "source": [
    "## Hyperparameter tuning for best fit model"
   ]
  },
  {
   "cell_type": "markdown",
   "id": "95fb8b2e",
   "metadata": {},
   "source": [
    "### Essential to prevent overfitting within the model"
   ]
  },
  {
   "cell_type": "code",
   "execution_count": 156,
   "id": "c88ed273",
   "metadata": {},
   "outputs": [],
   "source": [
    "X_train, X_val, y_train, y_val = train_test_split(X, y, test_size=0.5, random_state=42)"
   ]
  },
  {
   "cell_type": "code",
   "execution_count": 157,
   "id": "ac7cc6c0",
   "metadata": {},
   "outputs": [],
   "source": [
    "model = RandomForestRegressor(random_state=42)"
   ]
  },
  {
   "cell_type": "code",
   "execution_count": 158,
   "id": "8f9a3b4b",
   "metadata": {},
   "outputs": [
    {
     "data": {
      "text/html": [
       "<style>#sk-container-id-10 {color: black;background-color: white;}#sk-container-id-10 pre{padding: 0;}#sk-container-id-10 div.sk-toggleable {background-color: white;}#sk-container-id-10 label.sk-toggleable__label {cursor: pointer;display: block;width: 100%;margin-bottom: 0;padding: 0.3em;box-sizing: border-box;text-align: center;}#sk-container-id-10 label.sk-toggleable__label-arrow:before {content: \"▸\";float: left;margin-right: 0.25em;color: #696969;}#sk-container-id-10 label.sk-toggleable__label-arrow:hover:before {color: black;}#sk-container-id-10 div.sk-estimator:hover label.sk-toggleable__label-arrow:before {color: black;}#sk-container-id-10 div.sk-toggleable__content {max-height: 0;max-width: 0;overflow: hidden;text-align: left;background-color: #f0f8ff;}#sk-container-id-10 div.sk-toggleable__content pre {margin: 0.2em;color: black;border-radius: 0.25em;background-color: #f0f8ff;}#sk-container-id-10 input.sk-toggleable__control:checked~div.sk-toggleable__content {max-height: 200px;max-width: 100%;overflow: auto;}#sk-container-id-10 input.sk-toggleable__control:checked~label.sk-toggleable__label-arrow:before {content: \"▾\";}#sk-container-id-10 div.sk-estimator input.sk-toggleable__control:checked~label.sk-toggleable__label {background-color: #d4ebff;}#sk-container-id-10 div.sk-label input.sk-toggleable__control:checked~label.sk-toggleable__label {background-color: #d4ebff;}#sk-container-id-10 input.sk-hidden--visually {border: 0;clip: rect(1px 1px 1px 1px);clip: rect(1px, 1px, 1px, 1px);height: 1px;margin: -1px;overflow: hidden;padding: 0;position: absolute;width: 1px;}#sk-container-id-10 div.sk-estimator {font-family: monospace;background-color: #f0f8ff;border: 1px dotted black;border-radius: 0.25em;box-sizing: border-box;margin-bottom: 0.5em;}#sk-container-id-10 div.sk-estimator:hover {background-color: #d4ebff;}#sk-container-id-10 div.sk-parallel-item::after {content: \"\";width: 100%;border-bottom: 1px solid gray;flex-grow: 1;}#sk-container-id-10 div.sk-label:hover label.sk-toggleable__label {background-color: #d4ebff;}#sk-container-id-10 div.sk-serial::before {content: \"\";position: absolute;border-left: 1px solid gray;box-sizing: border-box;top: 0;bottom: 0;left: 50%;z-index: 0;}#sk-container-id-10 div.sk-serial {display: flex;flex-direction: column;align-items: center;background-color: white;padding-right: 0.2em;padding-left: 0.2em;position: relative;}#sk-container-id-10 div.sk-item {position: relative;z-index: 1;}#sk-container-id-10 div.sk-parallel {display: flex;align-items: stretch;justify-content: center;background-color: white;position: relative;}#sk-container-id-10 div.sk-item::before, #sk-container-id-10 div.sk-parallel-item::before {content: \"\";position: absolute;border-left: 1px solid gray;box-sizing: border-box;top: 0;bottom: 0;left: 50%;z-index: -1;}#sk-container-id-10 div.sk-parallel-item {display: flex;flex-direction: column;z-index: 1;position: relative;background-color: white;}#sk-container-id-10 div.sk-parallel-item:first-child::after {align-self: flex-end;width: 50%;}#sk-container-id-10 div.sk-parallel-item:last-child::after {align-self: flex-start;width: 50%;}#sk-container-id-10 div.sk-parallel-item:only-child::after {width: 0;}#sk-container-id-10 div.sk-dashed-wrapped {border: 1px dashed gray;margin: 0 0.4em 0.5em 0.4em;box-sizing: border-box;padding-bottom: 0.4em;background-color: white;}#sk-container-id-10 div.sk-label label {font-family: monospace;font-weight: bold;display: inline-block;line-height: 1.2em;}#sk-container-id-10 div.sk-label-container {text-align: center;}#sk-container-id-10 div.sk-container {/* jupyter's `normalize.less` sets `[hidden] { display: none; }` but bootstrap.min.css set `[hidden] { display: none !important; }` so we also need the `!important` here to be able to override the default hidden behavior on the sphinx rendered scikit-learn.org. See: https://github.com/scikit-learn/scikit-learn/issues/21755 */display: inline-block !important;position: relative;}#sk-container-id-10 div.sk-text-repr-fallback {display: none;}</style><div id=\"sk-container-id-10\" class=\"sk-top-container\"><div class=\"sk-text-repr-fallback\"><pre>RandomForestRegressor(random_state=42)</pre><b>In a Jupyter environment, please rerun this cell to show the HTML representation or trust the notebook. <br />On GitHub, the HTML representation is unable to render, please try loading this page with nbviewer.org.</b></div><div class=\"sk-container\" hidden><div class=\"sk-item\"><div class=\"sk-estimator sk-toggleable\"><input class=\"sk-toggleable__control sk-hidden--visually\" id=\"sk-estimator-id-10\" type=\"checkbox\" checked><label for=\"sk-estimator-id-10\" class=\"sk-toggleable__label sk-toggleable__label-arrow\">RandomForestRegressor</label><div class=\"sk-toggleable__content\"><pre>RandomForestRegressor(random_state=42)</pre></div></div></div></div></div>"
      ],
      "text/plain": [
       "RandomForestRegressor(random_state=42)"
      ]
     },
     "execution_count": 158,
     "metadata": {},
     "output_type": "execute_result"
    }
   ],
   "source": [
    "model.fit(X_train, y_train)"
   ]
  },
  {
   "cell_type": "code",
   "execution_count": 159,
   "id": "aa68ca11",
   "metadata": {},
   "outputs": [],
   "source": [
    "y_val_pred = model.predict(X_val)"
   ]
  },
  {
   "cell_type": "code",
   "execution_count": 160,
   "id": "8f5301cf",
   "metadata": {},
   "outputs": [],
   "source": [
    "param_grid = {\n",
    "    'n_estimators': [50, 100, 200],\n",
    "    'max_depth': [None, 10, 20, 30],\n",
    "    'min_samples_split': [2, 5, 10],\n",
    "}"
   ]
  },
  {
   "cell_type": "code",
   "execution_count": 161,
   "id": "9de0c0b8",
   "metadata": {},
   "outputs": [],
   "source": [
    "# random_search = RandomizedSearchCV(estimator=model, param_distributions=param_grid, n_iter=100, cv=3, scoring='neg_mean_squared_error', verbose=2, random_state=42)\n",
    "# random_search.fit(X_train, y_train)"
   ]
  },
  {
   "cell_type": "code",
   "execution_count": 162,
   "id": "42ddd913",
   "metadata": {},
   "outputs": [],
   "source": [
    "# best_params = random_search.best_params_\n",
    "# print(best_params)"
   ]
  },
  {
   "cell_type": "markdown",
   "id": "cf0a451a",
   "metadata": {},
   "source": [
    "best_params = {'n_estimators': 150, 'min_samples_split': 3, 'max_depth': None}"
   ]
  },
  {
   "cell_type": "code",
   "execution_count": 163,
   "id": "b2e13433",
   "metadata": {},
   "outputs": [],
   "source": [
    "best_params = {'n_estimators': 150, 'min_samples_split': 3, 'max_depth': None}"
   ]
  },
  {
   "cell_type": "code",
   "execution_count": 164,
   "id": "19437214",
   "metadata": {},
   "outputs": [],
   "source": [
    "X_test = df_test[['latitude','longitude','Hour','Day of Week']]\n",
    "y_test = df_test['Normalized_Score']"
   ]
  },
  {
   "cell_type": "code",
   "execution_count": 165,
   "id": "6eb7d661",
   "metadata": {},
   "outputs": [],
   "source": [
    "# best_model = random_search.best_estimator_\n",
    "\n",
    "# y_pred = best_model.predict(X_test)\n",
    "# test_mse = mean_squared_error(y_test, y_pred)\n",
    "# print('Test MSE:', test_mse)"
   ]
  },
  {
   "cell_type": "code",
   "execution_count": 166,
   "id": "2328b5a6",
   "metadata": {},
   "outputs": [],
   "source": [
    "# y_pred = best_model.predict(X_test)"
   ]
  },
  {
   "cell_type": "markdown",
   "id": "1f3efbf2",
   "metadata": {},
   "source": [
    "## Use parameters for best fit model"
   ]
  },
  {
   "cell_type": "code",
   "execution_count": 167,
   "id": "8c910f9f",
   "metadata": {},
   "outputs": [],
   "source": [
    "best_model = RandomForestRegressor(**best_params, random_state=42)"
   ]
  },
  {
   "cell_type": "code",
   "execution_count": 168,
   "id": "a53c45fd",
   "metadata": {},
   "outputs": [
    {
     "data": {
      "text/plain": [
       "(119879, 4)"
      ]
     },
     "execution_count": 168,
     "metadata": {},
     "output_type": "execute_result"
    }
   ],
   "source": [
    "X_train.shape"
   ]
  },
  {
   "cell_type": "code",
   "execution_count": 169,
   "id": "6e93dcf2",
   "metadata": {},
   "outputs": [
    {
     "data": {
      "text/plain": [
       "(119879,)"
      ]
     },
     "execution_count": 169,
     "metadata": {},
     "output_type": "execute_result"
    }
   ],
   "source": [
    "y_train.shape"
   ]
  },
  {
   "cell_type": "code",
   "execution_count": 170,
   "id": "7155ac79",
   "metadata": {},
   "outputs": [],
   "source": [
    "# Join training and validation sets\n",
    "X_full_train = pd.concat([X_train, X_val])\n",
    "y_full_train = pd.concat([y_train, y_val])"
   ]
  },
  {
   "cell_type": "code",
   "execution_count": 171,
   "id": "de1a9cb7",
   "metadata": {},
   "outputs": [
    {
     "data": {
      "text/html": [
       "<style>#sk-container-id-11 {color: black;background-color: white;}#sk-container-id-11 pre{padding: 0;}#sk-container-id-11 div.sk-toggleable {background-color: white;}#sk-container-id-11 label.sk-toggleable__label {cursor: pointer;display: block;width: 100%;margin-bottom: 0;padding: 0.3em;box-sizing: border-box;text-align: center;}#sk-container-id-11 label.sk-toggleable__label-arrow:before {content: \"▸\";float: left;margin-right: 0.25em;color: #696969;}#sk-container-id-11 label.sk-toggleable__label-arrow:hover:before {color: black;}#sk-container-id-11 div.sk-estimator:hover label.sk-toggleable__label-arrow:before {color: black;}#sk-container-id-11 div.sk-toggleable__content {max-height: 0;max-width: 0;overflow: hidden;text-align: left;background-color: #f0f8ff;}#sk-container-id-11 div.sk-toggleable__content pre {margin: 0.2em;color: black;border-radius: 0.25em;background-color: #f0f8ff;}#sk-container-id-11 input.sk-toggleable__control:checked~div.sk-toggleable__content {max-height: 200px;max-width: 100%;overflow: auto;}#sk-container-id-11 input.sk-toggleable__control:checked~label.sk-toggleable__label-arrow:before {content: \"▾\";}#sk-container-id-11 div.sk-estimator input.sk-toggleable__control:checked~label.sk-toggleable__label {background-color: #d4ebff;}#sk-container-id-11 div.sk-label input.sk-toggleable__control:checked~label.sk-toggleable__label {background-color: #d4ebff;}#sk-container-id-11 input.sk-hidden--visually {border: 0;clip: rect(1px 1px 1px 1px);clip: rect(1px, 1px, 1px, 1px);height: 1px;margin: -1px;overflow: hidden;padding: 0;position: absolute;width: 1px;}#sk-container-id-11 div.sk-estimator {font-family: monospace;background-color: #f0f8ff;border: 1px dotted black;border-radius: 0.25em;box-sizing: border-box;margin-bottom: 0.5em;}#sk-container-id-11 div.sk-estimator:hover {background-color: #d4ebff;}#sk-container-id-11 div.sk-parallel-item::after {content: \"\";width: 100%;border-bottom: 1px solid gray;flex-grow: 1;}#sk-container-id-11 div.sk-label:hover label.sk-toggleable__label {background-color: #d4ebff;}#sk-container-id-11 div.sk-serial::before {content: \"\";position: absolute;border-left: 1px solid gray;box-sizing: border-box;top: 0;bottom: 0;left: 50%;z-index: 0;}#sk-container-id-11 div.sk-serial {display: flex;flex-direction: column;align-items: center;background-color: white;padding-right: 0.2em;padding-left: 0.2em;position: relative;}#sk-container-id-11 div.sk-item {position: relative;z-index: 1;}#sk-container-id-11 div.sk-parallel {display: flex;align-items: stretch;justify-content: center;background-color: white;position: relative;}#sk-container-id-11 div.sk-item::before, #sk-container-id-11 div.sk-parallel-item::before {content: \"\";position: absolute;border-left: 1px solid gray;box-sizing: border-box;top: 0;bottom: 0;left: 50%;z-index: -1;}#sk-container-id-11 div.sk-parallel-item {display: flex;flex-direction: column;z-index: 1;position: relative;background-color: white;}#sk-container-id-11 div.sk-parallel-item:first-child::after {align-self: flex-end;width: 50%;}#sk-container-id-11 div.sk-parallel-item:last-child::after {align-self: flex-start;width: 50%;}#sk-container-id-11 div.sk-parallel-item:only-child::after {width: 0;}#sk-container-id-11 div.sk-dashed-wrapped {border: 1px dashed gray;margin: 0 0.4em 0.5em 0.4em;box-sizing: border-box;padding-bottom: 0.4em;background-color: white;}#sk-container-id-11 div.sk-label label {font-family: monospace;font-weight: bold;display: inline-block;line-height: 1.2em;}#sk-container-id-11 div.sk-label-container {text-align: center;}#sk-container-id-11 div.sk-container {/* jupyter's `normalize.less` sets `[hidden] { display: none; }` but bootstrap.min.css set `[hidden] { display: none !important; }` so we also need the `!important` here to be able to override the default hidden behavior on the sphinx rendered scikit-learn.org. See: https://github.com/scikit-learn/scikit-learn/issues/21755 */display: inline-block !important;position: relative;}#sk-container-id-11 div.sk-text-repr-fallback {display: none;}</style><div id=\"sk-container-id-11\" class=\"sk-top-container\"><div class=\"sk-text-repr-fallback\"><pre>RandomForestRegressor(min_samples_split=3, n_estimators=150, random_state=42)</pre><b>In a Jupyter environment, please rerun this cell to show the HTML representation or trust the notebook. <br />On GitHub, the HTML representation is unable to render, please try loading this page with nbviewer.org.</b></div><div class=\"sk-container\" hidden><div class=\"sk-item\"><div class=\"sk-estimator sk-toggleable\"><input class=\"sk-toggleable__control sk-hidden--visually\" id=\"sk-estimator-id-11\" type=\"checkbox\" checked><label for=\"sk-estimator-id-11\" class=\"sk-toggleable__label sk-toggleable__label-arrow\">RandomForestRegressor</label><div class=\"sk-toggleable__content\"><pre>RandomForestRegressor(min_samples_split=3, n_estimators=150, random_state=42)</pre></div></div></div></div></div>"
      ],
      "text/plain": [
       "RandomForestRegressor(min_samples_split=3, n_estimators=150, random_state=42)"
      ]
     },
     "execution_count": 171,
     "metadata": {},
     "output_type": "execute_result"
    }
   ],
   "source": [
    "best_model.fit(X_full_train, y_full_train)"
   ]
  },
  {
   "cell_type": "code",
   "execution_count": 172,
   "id": "32a045c2",
   "metadata": {},
   "outputs": [],
   "source": [
    "X_test = df_test[['latitude','longitude','Hour','Day of Week']]\n",
    "y_test = df_test['Normalized_Score']"
   ]
  },
  {
   "cell_type": "markdown",
   "id": "c7ecd28c",
   "metadata": {},
   "source": [
    "## Predict off the original test set"
   ]
  },
  {
   "cell_type": "code",
   "execution_count": 173,
   "id": "6c9e9462",
   "metadata": {},
   "outputs": [],
   "source": [
    "y_test_pred = best_model.predict(X_test)"
   ]
  },
  {
   "cell_type": "code",
   "execution_count": 174,
   "id": "00bcc4b0",
   "metadata": {},
   "outputs": [
    {
     "name": "stdout",
     "output_type": "stream",
     "text": [
      "Test MSE: 0.004770373097188051\n"
     ]
    }
   ],
   "source": [
    "mse_test = mean_squared_error(y_test, y_test_pred)\n",
    "print('Test MSE:', mse_test)"
   ]
  },
  {
   "cell_type": "markdown",
   "id": "1ef18740",
   "metadata": {},
   "source": [
    "## Test random instances to check the model's ability to predict"
   ]
  },
  {
   "cell_type": "code",
   "execution_count": 175,
   "id": "d63561c5",
   "metadata": {},
   "outputs": [],
   "source": [
    "new_data = pd.DataFrame({\n",
    "    'latitude': [40.798313, 40.780071, 40.743660, 40.741692, 40.779316],\n",
    "    'longitude': [-73.959755, -73.955193, -73.972496, -73.980965, -73.944710],\n",
    "    'Hour': [14, 16, 17, 21, 19],\n",
    "    'Day of Week': [6, 6, 5, 5, 5]\n",
    "})"
   ]
  },
  {
   "cell_type": "code",
   "execution_count": 176,
   "id": "5dcc488b",
   "metadata": {},
   "outputs": [
    {
     "name": "stdout",
     "output_type": "stream",
     "text": [
      "[0.61099773 0.71360544 0.06591934 0.64944444 0.43666667]\n"
     ]
    }
   ],
   "source": [
    "predictions = best_model.predict(new_data)\n",
    "print(predictions)"
   ]
  },
  {
   "cell_type": "markdown",
   "id": "105a10cb",
   "metadata": {},
   "source": [
    "## More testing needed for optimal model"
   ]
  },
  {
   "cell_type": "markdown",
   "id": "d4012cbd",
   "metadata": {},
   "source": [
    "### Increase the number of parameters to ensure testing coverage"
   ]
  },
  {
   "cell_type": "code",
   "execution_count": 177,
   "id": "719b1dda",
   "metadata": {},
   "outputs": [],
   "source": [
    "param_grid = {\n",
    "    'n_estimators': [50, 100, 150, 200, 250],\n",
    "    'max_depth': [None, 5, 10, 15, 20, 25, 30],\n",
    "    'min_samples_split': [2, 3, 4, 5, 6, 7, 8, 9, 10],\n",
    "    'min_samples_leaf': [1, 2, 3, 4, 5],\n",
    "    'max_features': ['auto', 'sqrt', 'log2']\n",
    "}"
   ]
  },
  {
   "cell_type": "code",
   "execution_count": 178,
   "id": "adad9034",
   "metadata": {},
   "outputs": [],
   "source": [
    "# grid_search = GridSearchCV(estimator=model, param_grid=param_grid, cv=3, scoring='neg_mean_squared_error', verbose=2)\n",
    "# grid_search.fit(X_train, y_train)"
   ]
  },
  {
   "cell_type": "markdown",
   "id": "6dbb5d2d",
   "metadata": {},
   "source": [
    "Best parameters: {'max_depth': 10, 'max_features': 'auto', 'min_samples_leaf': 1, 'min_samples_split': 2, 'n_estimators': 150}"
   ]
  },
  {
   "cell_type": "code",
   "execution_count": 179,
   "id": "9d4f88f7",
   "metadata": {},
   "outputs": [],
   "source": [
    "new_params = {\n",
    "    'max_depth': 10, \n",
    "    'max_features': 'auto', \n",
    "    'min_samples_leaf': 1, \n",
    "    'min_samples_split': 2, \n",
    "    'n_estimators': 150\n",
    "}"
   ]
  },
  {
   "cell_type": "code",
   "execution_count": 180,
   "id": "f5d3bd25",
   "metadata": {},
   "outputs": [
    {
     "name": "stdout",
     "output_type": "stream",
     "text": [
      "Best parameters: {'max_depth': 10, 'max_features': 'auto', 'min_samples_leaf': 1, 'min_samples_split': 2, 'n_estimators': 150}\n"
     ]
    }
   ],
   "source": [
    "# best_params = grid_search.best_params_\n",
    "print('Best parameters:', new_params)"
   ]
  },
  {
   "cell_type": "markdown",
   "id": "9518ec9b",
   "metadata": {},
   "source": [
    "## Best parameters for Random Forest Regressor"
   ]
  },
  {
   "cell_type": "code",
   "execution_count": 181,
   "id": "5223f647",
   "metadata": {},
   "outputs": [],
   "source": [
    "best_model = RandomForestRegressor(**new_params, random_state=42)"
   ]
  },
  {
   "cell_type": "code",
   "execution_count": 182,
   "id": "518f4dba",
   "metadata": {},
   "outputs": [],
   "source": [
    "X_full_train = pd.concat([X_train, X_val])\n",
    "y_full_train = pd.concat([y_train, y_val])"
   ]
  },
  {
   "cell_type": "code",
   "execution_count": 183,
   "id": "bb9892e8",
   "metadata": {},
   "outputs": [
    {
     "name": "stderr",
     "output_type": "stream",
     "text": [
      "/Users/conormcelduff/opt/anaconda3/lib/python3.9/site-packages/sklearn/ensemble/_forest.py:413: FutureWarning: `max_features='auto'` has been deprecated in 1.1 and will be removed in 1.3. To keep the past behaviour, explicitly set `max_features=1.0` or remove this parameter as it is also the default value for RandomForestRegressors and ExtraTreesRegressors.\n",
      "  warn(\n"
     ]
    },
    {
     "data": {
      "text/html": [
       "<style>#sk-container-id-12 {color: black;background-color: white;}#sk-container-id-12 pre{padding: 0;}#sk-container-id-12 div.sk-toggleable {background-color: white;}#sk-container-id-12 label.sk-toggleable__label {cursor: pointer;display: block;width: 100%;margin-bottom: 0;padding: 0.3em;box-sizing: border-box;text-align: center;}#sk-container-id-12 label.sk-toggleable__label-arrow:before {content: \"▸\";float: left;margin-right: 0.25em;color: #696969;}#sk-container-id-12 label.sk-toggleable__label-arrow:hover:before {color: black;}#sk-container-id-12 div.sk-estimator:hover label.sk-toggleable__label-arrow:before {color: black;}#sk-container-id-12 div.sk-toggleable__content {max-height: 0;max-width: 0;overflow: hidden;text-align: left;background-color: #f0f8ff;}#sk-container-id-12 div.sk-toggleable__content pre {margin: 0.2em;color: black;border-radius: 0.25em;background-color: #f0f8ff;}#sk-container-id-12 input.sk-toggleable__control:checked~div.sk-toggleable__content {max-height: 200px;max-width: 100%;overflow: auto;}#sk-container-id-12 input.sk-toggleable__control:checked~label.sk-toggleable__label-arrow:before {content: \"▾\";}#sk-container-id-12 div.sk-estimator input.sk-toggleable__control:checked~label.sk-toggleable__label {background-color: #d4ebff;}#sk-container-id-12 div.sk-label input.sk-toggleable__control:checked~label.sk-toggleable__label {background-color: #d4ebff;}#sk-container-id-12 input.sk-hidden--visually {border: 0;clip: rect(1px 1px 1px 1px);clip: rect(1px, 1px, 1px, 1px);height: 1px;margin: -1px;overflow: hidden;padding: 0;position: absolute;width: 1px;}#sk-container-id-12 div.sk-estimator {font-family: monospace;background-color: #f0f8ff;border: 1px dotted black;border-radius: 0.25em;box-sizing: border-box;margin-bottom: 0.5em;}#sk-container-id-12 div.sk-estimator:hover {background-color: #d4ebff;}#sk-container-id-12 div.sk-parallel-item::after {content: \"\";width: 100%;border-bottom: 1px solid gray;flex-grow: 1;}#sk-container-id-12 div.sk-label:hover label.sk-toggleable__label {background-color: #d4ebff;}#sk-container-id-12 div.sk-serial::before {content: \"\";position: absolute;border-left: 1px solid gray;box-sizing: border-box;top: 0;bottom: 0;left: 50%;z-index: 0;}#sk-container-id-12 div.sk-serial {display: flex;flex-direction: column;align-items: center;background-color: white;padding-right: 0.2em;padding-left: 0.2em;position: relative;}#sk-container-id-12 div.sk-item {position: relative;z-index: 1;}#sk-container-id-12 div.sk-parallel {display: flex;align-items: stretch;justify-content: center;background-color: white;position: relative;}#sk-container-id-12 div.sk-item::before, #sk-container-id-12 div.sk-parallel-item::before {content: \"\";position: absolute;border-left: 1px solid gray;box-sizing: border-box;top: 0;bottom: 0;left: 50%;z-index: -1;}#sk-container-id-12 div.sk-parallel-item {display: flex;flex-direction: column;z-index: 1;position: relative;background-color: white;}#sk-container-id-12 div.sk-parallel-item:first-child::after {align-self: flex-end;width: 50%;}#sk-container-id-12 div.sk-parallel-item:last-child::after {align-self: flex-start;width: 50%;}#sk-container-id-12 div.sk-parallel-item:only-child::after {width: 0;}#sk-container-id-12 div.sk-dashed-wrapped {border: 1px dashed gray;margin: 0 0.4em 0.5em 0.4em;box-sizing: border-box;padding-bottom: 0.4em;background-color: white;}#sk-container-id-12 div.sk-label label {font-family: monospace;font-weight: bold;display: inline-block;line-height: 1.2em;}#sk-container-id-12 div.sk-label-container {text-align: center;}#sk-container-id-12 div.sk-container {/* jupyter's `normalize.less` sets `[hidden] { display: none; }` but bootstrap.min.css set `[hidden] { display: none !important; }` so we also need the `!important` here to be able to override the default hidden behavior on the sphinx rendered scikit-learn.org. See: https://github.com/scikit-learn/scikit-learn/issues/21755 */display: inline-block !important;position: relative;}#sk-container-id-12 div.sk-text-repr-fallback {display: none;}</style><div id=\"sk-container-id-12\" class=\"sk-top-container\"><div class=\"sk-text-repr-fallback\"><pre>RandomForestRegressor(max_depth=10, max_features=&#x27;auto&#x27;, n_estimators=150,\n",
       "                      random_state=42)</pre><b>In a Jupyter environment, please rerun this cell to show the HTML representation or trust the notebook. <br />On GitHub, the HTML representation is unable to render, please try loading this page with nbviewer.org.</b></div><div class=\"sk-container\" hidden><div class=\"sk-item\"><div class=\"sk-estimator sk-toggleable\"><input class=\"sk-toggleable__control sk-hidden--visually\" id=\"sk-estimator-id-12\" type=\"checkbox\" checked><label for=\"sk-estimator-id-12\" class=\"sk-toggleable__label sk-toggleable__label-arrow\">RandomForestRegressor</label><div class=\"sk-toggleable__content\"><pre>RandomForestRegressor(max_depth=10, max_features=&#x27;auto&#x27;, n_estimators=150,\n",
       "                      random_state=42)</pre></div></div></div></div></div>"
      ],
      "text/plain": [
       "RandomForestRegressor(max_depth=10, max_features='auto', n_estimators=150,\n",
       "                      random_state=42)"
      ]
     },
     "execution_count": 183,
     "metadata": {},
     "output_type": "execute_result"
    }
   ],
   "source": [
    "best_model.fit(X_full_train, y_full_train)"
   ]
  },
  {
   "cell_type": "markdown",
   "id": "607c7a9e",
   "metadata": {},
   "source": [
    "## Predict off original test set"
   ]
  },
  {
   "cell_type": "code",
   "execution_count": 184,
   "id": "20c7534e",
   "metadata": {},
   "outputs": [],
   "source": [
    "y_test_pred = y_test_pred = best_model.predict(X_test)"
   ]
  },
  {
   "cell_type": "code",
   "execution_count": 185,
   "id": "1d343ea1",
   "metadata": {},
   "outputs": [
    {
     "name": "stdout",
     "output_type": "stream",
     "text": [
      "Test MSE: 0.039350964682621094\n"
     ]
    }
   ],
   "source": [
    "mse_test = mean_squared_error(y_test, y_test_pred)\n",
    "print('Test MSE:', mse_test)"
   ]
  },
  {
   "cell_type": "code",
   "execution_count": 186,
   "id": "fd80e95a",
   "metadata": {},
   "outputs": [],
   "source": [
    "new_data = pd.DataFrame({\n",
    "    'latitude': [40.759011, 40.775123, 40.728456, 40.766789, 40.731112, 40.716445, 40.780778, 40.743210, 40.762433, 40.749956],\n",
    "    'longitude': [-73.981321, -73.965432, -73.988543, -73.949654, -73.993765, -73.998876, -73.955987, -73.970098, -73.959209, -73.973320],\n",
    "    'Hour': [9, 14, 15, 18, 19, 11, 13, 16, 20, 22],\n",
    "    'Day of Week': [4, 2, 3, 5, 0, 6, 1, 2, 5, 4]\n",
    "})"
   ]
  },
  {
   "cell_type": "code",
   "execution_count": 187,
   "id": "883aad3f",
   "metadata": {},
   "outputs": [
    {
     "name": "stdout",
     "output_type": "stream",
     "text": [
      "[0.37534561 0.60390966 0.30301616 0.59641667 0.70711229 0.27187936\n",
      " 0.68442382 0.30365928 0.71574447 0.61337277]\n"
     ]
    }
   ],
   "source": [
    "predictions = best_model.predict(new_data)\n",
    "print(predictions)"
   ]
  },
  {
   "cell_type": "markdown",
   "id": "a959ce9f",
   "metadata": {},
   "source": [
    "## Feature Importance"
   ]
  },
  {
   "cell_type": "code",
   "execution_count": 188,
   "id": "1e49d594",
   "metadata": {},
   "outputs": [
    {
     "name": "stdout",
     "output_type": "stream",
     "text": [
      "Feature importances:\n",
      "\n",
      "latitude: 0.3050394826082724\n",
      "longitude: 0.2901056454217528\n",
      "Hour: 0.34915912379252634\n",
      "Day of Week: 0.055695748177448434\n"
     ]
    }
   ],
   "source": [
    "feature_importance = best_model.feature_importances_\n",
    "print(\"Feature importances:\\n\")\n",
    "for i, imp in enumerate(feature_importance):\n",
    "    print(f\"{X.columns[i]}: {imp}\")"
   ]
  },
  {
   "cell_type": "markdown",
   "id": "1ac9a8dd",
   "metadata": {},
   "source": [
    "## Residual Analysis "
   ]
  },
  {
   "cell_type": "code",
   "execution_count": 189,
   "id": "bece69a7",
   "metadata": {},
   "outputs": [
    {
     "data": {
      "image/png": "[encoded data removed]",
      "text/plain": [
       "<Figure size 432x288 with 1 Axes>"
      ]
     },
     "metadata": {
      "needs_background": "light"
     },
     "output_type": "display_data"
    }
   ],
   "source": [
    "y_pred = best_model.predict(X_test)\n",
    "\n",
    "residuals = y_test - y_pred\n",
    "\n",
    "plt.scatter(y_pred, residuals)\n",
    "plt.xlabel('Predicted')\n",
    "plt.ylabel('Residual')\n",
    "plt.axhline(y=0)\n",
    "plt.title('Residual vs. Predicted')\n",
    "plt.show()"
   ]
  },
  {
   "cell_type": "markdown",
   "id": "e1986171",
   "metadata": {},
   "source": [
    "## Predicted vs Actual Plot"
   ]
  },
  {
   "cell_type": "code",
   "execution_count": 190,
   "id": "6b26ca9d",
   "metadata": {},
   "outputs": [
    {
     "data": {
      "image/png": "[encoded data removed]",
      "text/plain": [
       "<Figure size 432x288 with 1 Axes>"
      ]
     },
     "metadata": {
      "needs_background": "light"
     },
     "output_type": "display_data"
    }
   ],
   "source": [
    "plt.scatter(y_test, y_pred)\n",
    "plt.xlabel('Actual')\n",
    "plt.ylabel('Predicted')\n",
    "plt.title('Actual vs. Predicted')\n",
    "plt.plot([min(y_test), max(y_test)], [min(y_test), max(y_test)], color='red')  \n",
    "plt.show()"
   ]
  },
  {
   "cell_type": "markdown",
   "id": "6521a90e",
   "metadata": {},
   "source": [
    "## 5 Fold Basic Cross Validation"
   ]
  },
  {
   "cell_type": "code",
   "execution_count": 191,
   "id": "fe33613b",
   "metadata": {},
   "outputs": [
    {
     "name": "stderr",
     "output_type": "stream",
     "text": [
      "/Users/conormcelduff/opt/anaconda3/lib/python3.9/site-packages/sklearn/ensemble/_forest.py:413: FutureWarning: `max_features='auto'` has been deprecated in 1.1 and will be removed in 1.3. To keep the past behaviour, explicitly set `max_features=1.0` or remove this parameter as it is also the default value for RandomForestRegressors and ExtraTreesRegressors.\n",
      "  warn(\n",
      "/Users/conormcelduff/opt/anaconda3/lib/python3.9/site-packages/sklearn/ensemble/_forest.py:413: FutureWarning: `max_features='auto'` has been deprecated in 1.1 and will be removed in 1.3. To keep the past behaviour, explicitly set `max_features=1.0` or remove this parameter as it is also the default value for RandomForestRegressors and ExtraTreesRegressors.\n",
      "  warn(\n",
      "/Users/conormcelduff/opt/anaconda3/lib/python3.9/site-packages/sklearn/ensemble/_forest.py:413: FutureWarning: `max_features='auto'` has been deprecated in 1.1 and will be removed in 1.3. To keep the past behaviour, explicitly set `max_features=1.0` or remove this parameter as it is also the default value for RandomForestRegressors and ExtraTreesRegressors.\n",
      "  warn(\n",
      "/Users/conormcelduff/opt/anaconda3/lib/python3.9/site-packages/sklearn/ensemble/_forest.py:413: FutureWarning: `max_features='auto'` has been deprecated in 1.1 and will be removed in 1.3. To keep the past behaviour, explicitly set `max_features=1.0` or remove this parameter as it is also the default value for RandomForestRegressors and ExtraTreesRegressors.\n",
      "  warn(\n",
      "/Users/conormcelduff/opt/anaconda3/lib/python3.9/site-packages/sklearn/ensemble/_forest.py:413: FutureWarning: `max_features='auto'` has been deprecated in 1.1 and will be removed in 1.3. To keep the past behaviour, explicitly set `max_features=1.0` or remove this parameter as it is also the default value for RandomForestRegressors and ExtraTreesRegressors.\n",
      "  warn(\n"
     ]
    },
    {
     "name": "stdout",
     "output_type": "stream",
     "text": [
      "Scores: [0.19829161 0.19988049 0.19822475 0.19838809 0.19812088]\n",
      "Mean: 0.19858116209590007\n",
      "Standard Deviation: 0.0006554770598107393\n"
     ]
    }
   ],
   "source": [
    "from sklearn.model_selection import cross_val_score\n",
    "\n",
    "scores = cross_val_score(best_model, X, y, scoring='neg_mean_squared_error', cv=5)\n",
    "\n",
    "rmse_scores = np.sqrt(-scores)\n",
    "\n",
    "print('Scores:', rmse_scores)\n",
    "print('Mean:', rmse_scores.mean())\n",
    "print('Standard Deviation:', rmse_scores.std())"
   ]
  },
  {
   "cell_type": "markdown",
   "id": "9ba4ff92",
   "metadata": {},
   "source": [
    "## Multicollinearity"
   ]
  },
  {
   "cell_type": "code",
   "execution_count": 192,
   "id": "ee6956ad",
   "metadata": {},
   "outputs": [
    {
     "name": "stdout",
     "output_type": "stream",
     "text": [
      "     variables           VIF\n",
      "0        const  8.112969e+07\n",
      "1     latitude  2.253919e+00\n",
      "2    longitude  2.242077e+00\n",
      "3         Hour  1.016006e+00\n",
      "4  Day of Week  1.007567e+00\n"
     ]
    }
   ],
   "source": [
    "import statsmodels.api as sm\n",
    "from statsmodels.stats.outliers_influence import variance_inflation_factor\n",
    "\n",
    "X_const = sm.add_constant(X)\n",
    "\n",
    "vif = pd.DataFrame()\n",
    "vif[\"variables\"] = X_const.columns\n",
    "vif[\"VIF\"] = [variance_inflation_factor(X_const.values, i) for i in range(X_const.shape[1])]\n",
    "\n",
    "print(vif)"
   ]
  },
  {
   "cell_type": "markdown",
   "id": "ba8ddf16",
   "metadata": {},
   "source": [
    "## Statistical Tests"
   ]
  },
  {
   "cell_type": "code",
   "execution_count": 193,
   "id": "465d9caf",
   "metadata": {},
   "outputs": [
    {
     "name": "stdout",
     "output_type": "stream",
     "text": [
      "Feature: 0, Score: 0.30504\n",
      "Feature: 1, Score: 0.29011\n",
      "Feature: 2, Score: 0.34916\n",
      "Feature: 3, Score: 0.05570\n"
     ]
    },
    {
     "data": {
      "image/png": "[encoded data removed]",
      "text/plain": [
       "<Figure size 432x288 with 1 Axes>"
      ]
     },
     "metadata": {
      "needs_background": "light"
     },
     "output_type": "display_data"
    }
   ],
   "source": [
    "importance = best_model.feature_importances_\n",
    "for i,j in enumerate(importance):\n",
    "    print('Feature: %0d, Score: %.5f' % (i,j))\n",
    "\n",
    "plt.bar([x for x in range(len(importance))], importance)\n",
    "plt.show()"
   ]
  },
  {
   "cell_type": "markdown",
   "id": "aac231fa",
   "metadata": {},
   "source": [
    "## Coefficient of Determination (R-Squared)"
   ]
  },
  {
   "cell_type": "code",
   "execution_count": 194,
   "id": "85a48fb2",
   "metadata": {},
   "outputs": [
    {
     "name": "stdout",
     "output_type": "stream",
     "text": [
      "R2 score: 0.5481998285618033\n"
     ]
    }
   ],
   "source": [
    "from sklearn.metrics import r2_score\n",
    "\n",
    "y_pred = best_model.predict(X_test)\n",
    "score = r2_score(y_test, y_pred)\n",
    "\n",
    "print('R2 score:', score)"
   ]
  },
  {
   "cell_type": "markdown",
   "id": "fd6a1072",
   "metadata": {},
   "source": [
    "## Error Analysis"
   ]
  },
  {
   "cell_type": "code",
   "execution_count": 195,
   "id": "f47dcf14",
   "metadata": {},
   "outputs": [
    {
     "name": "stdout",
     "output_type": "stream",
     "text": [
      "count    102754.000000\n",
      "mean          0.000663\n",
      "std           0.198371\n",
      "min          -0.870100\n",
      "25%          -0.126419\n",
      "50%           0.003179\n",
      "75%           0.137722\n",
      "max           0.802078\n",
      "Name: Normalized_Score, dtype: float64\n"
     ]
    },
    {
     "data": {
      "image/png": "[encoded data removed]",
      "text/plain": [
       "<Figure size 432x288 with 1 Axes>"
      ]
     },
     "metadata": {
      "needs_background": "light"
     },
     "output_type": "display_data"
    },
    {
     "data": {
      "image/png": "[encoded data removed]",
      "text/plain": [
       "<Figure size 432x288 with 1 Axes>"
      ]
     },
     "metadata": {
      "needs_background": "light"
     },
     "output_type": "display_data"
    }
   ],
   "source": [
    "residuals = y_test - y_test_pred\n",
    "\n",
    "print(residuals.describe())\n",
    "\n",
    "plt.hist(residuals, bins=50, alpha=0.5)\n",
    "plt.show()\n",
    "\n",
    "plt.scatter(y_test_pred, residuals, alpha=0.5)\n",
    "plt.xlabel('Predicted')\n",
    "plt.ylabel('Residuals')\n",
    "plt.show()"
   ]
  },
  {
   "cell_type": "markdown",
   "id": "af752344",
   "metadata": {},
   "source": [
    "## Sensitivity Analysis "
   ]
  },
  {
   "cell_type": "code",
   "execution_count": 196,
   "id": "ff87ae01",
   "metadata": {},
   "outputs": [
    {
     "name": "stdout",
     "output_type": "stream",
     "text": [
      "Perturbed Test MSE: 0.0706265736663875\n"
     ]
    }
   ],
   "source": [
    "X_test_perturbed = X_test.copy()\n",
    "X_test_perturbed['longitude'] = X_test_perturbed['longitude'] + np.random.normal(0, 0.01, size=len(X_test))\n",
    "y_test_pred_perturbed = best_model.predict(X_test_perturbed)\n",
    "mse_test_perturbed = mean_squared_error(y_test, y_test_pred_perturbed)\n",
    "print('Perturbed Test MSE:', mse_test_perturbed)"
   ]
  },
  {
   "cell_type": "markdown",
   "id": "0fe54dba",
   "metadata": {},
   "source": [
    "## Confidence Intervals "
   ]
  },
  {
   "cell_type": "code",
   "execution_count": 197,
   "id": "14801575",
   "metadata": {},
   "outputs": [],
   "source": [
    "bootstrap_preds = []\n",
    "for _ in range(1000):\n",
    "    indices = np.random.choice(len(X_test), len(X_test), replace=True)\n",
    "    X_test_sample = X_test.iloc[indices]\n",
    "    y_test_pred_sample = best_model.predict(X_test_sample)\n",
    "    bootstrap_preds.append(y_test_pred_sample)\n",
    "bootstrap_preds = np.array(bootstrap_preds)\n",
    "\n",
    "lower_bound = np.percentile(bootstrap_preds, 2.5, axis=0)  # 2.5th percentile\n",
    "upper_bound = np.percentile(bootstrap_preds, 97.5, axis=0)  # 97.5th percentile"
   ]
  },
  {
   "cell_type": "code",
   "execution_count": 198,
   "id": "6df5da32",
   "metadata": {},
   "outputs": [],
   "source": [
    "num_samples = 100\n",
    "indices = np.random.choice(len(X_test), num_samples)"
   ]
  },
  {
   "cell_type": "code",
   "execution_count": 199,
   "id": "f13327ab",
   "metadata": {},
   "outputs": [
    {
     "data": {
      "image/png": "[encoded data removed]",
      "text/plain": [
       "<Figure size 720x432 with 1 Axes>"
      ]
     },
     "metadata": {
      "needs_background": "light"
     },
     "output_type": "display_data"
    }
   ],
   "source": [
    "sorted_indices = np.argsort(indices)\n",
    "\n",
    "plt.figure(figsize=(10, 6))\n",
    "\n",
    "plt.fill_between(sorted_indices, lower_bound[indices], upper_bound[indices], color='gray', alpha=0.5, label='Confidence Interval')\n",
    "plt.plot(sorted_indices, y_test.iloc[indices], 'o', color='black', label='Actual')\n",
    "plt.plot(sorted_indices, bootstrap_preds.mean(axis=0)[indices], 'o', color='blue', label='Predicted')\n",
    "\n",
    "plt.xlabel('Sample Index')\n",
    "plt.ylabel('Prediction')\n",
    "plt.title('Confidence Intervals of Predictions')\n",
    "plt.legend()\n",
    "plt.show()"
   ]
  },
  {
   "cell_type": "markdown",
   "id": "c6a3a455",
   "metadata": {},
   "source": [
    "## Check for overfitting"
   ]
  },
  {
   "cell_type": "code",
   "execution_count": 200,
   "id": "08f2bb78",
   "metadata": {},
   "outputs": [
    {
     "name": "stdout",
     "output_type": "stream",
     "text": [
      "Train MSE: 0.03847563876971455\n",
      "Test MSE: 0.039350964682621094\n"
     ]
    }
   ],
   "source": [
    "y_train_pred = best_model.predict(X_full_train)\n",
    "mse_train = mean_squared_error(y_full_train, y_train_pred)\n",
    "print('Train MSE:', mse_train)\n",
    "print('Test MSE:', mse_test)"
   ]
  },
  {
   "cell_type": "code",
   "execution_count": 201,
   "id": "4b3b4b8c",
   "metadata": {},
   "outputs": [
    {
     "name": "stdout",
     "output_type": "stream",
     "text": [
      "Train MSE: 0.03847563876971455\n",
      "Validation MSE: 0.03848917080484836\n"
     ]
    }
   ],
   "source": [
    "y_val_pred = best_model.predict(X_val)\n",
    "mse_val = mean_squared_error(y_val, y_val_pred)\n",
    "print('Train MSE:', mse_train)\n",
    "print('Validation MSE:', mse_val)"
   ]
  },
  {
   "cell_type": "markdown",
   "id": "da446d24",
   "metadata": {},
   "source": [
    "***"
   ]
  },
  {
   "cell_type": "markdown",
   "id": "a8ee5859",
   "metadata": {},
   "source": [
    "## Model Evaluation Results"
   ]
  },
  {
   "cell_type": "markdown",
   "id": "adab210c",
   "metadata": {},
   "source": [
    "The model's performance has been evaluated using the Mean Squared Error (MSE) metric, which calculates the average squared differences between the predicted and actual values. Lower values of MSE indicate a better fit of the model to the data."
   ]
  },
  {
   "cell_type": "markdown",
   "id": "83f35535",
   "metadata": {},
   "source": [
    "1. <b>Training MSE vs Test MSE:</b> The MSE for the training set is 0.0385 and for the test set, it's 0.0394. The test MSE is slightly higher than the training MSE, but the difference between the two is minimal. This indicates that the model is generalizing well to unseen data, as it performs nearly as well on the test set as it does on the data it was trained on. Therefore, these metrics do not suggest any significant overfitting."
   ]
  },
  {
   "cell_type": "markdown",
   "id": "4aed32e6",
   "metadata": {},
   "source": [
    "2. <b>Training MSE vs Validation MSE:</b> Similarly, when we look at the MSE for the validation set (0.0385), we see that it is almost identical to the training MSE. This is a further indication that the model is not overfitting, as it performs just as well on a validation set (which it hasn't been trained on) as it does on the training data."
   ]
  },
  {
   "cell_type": "markdown",
   "id": "8e321527",
   "metadata": {},
   "source": [
    " In this case, our model seems to generalize well and does not show signs of overfitting, given the similarity of MSE scores across the training, validation, and test sets."
   ]
  },
  {
   "cell_type": "markdown",
   "id": "9d631a5c",
   "metadata": {},
   "source": [
    "***"
   ]
  },
  {
   "cell_type": "markdown",
   "id": "bb4ea3f9",
   "metadata": {},
   "source": [
    "## 10 Fold Cross Validation Results"
   ]
  },
  {
   "cell_type": "code",
   "execution_count": 202,
   "id": "1027c523",
   "metadata": {},
   "outputs": [],
   "source": [
    "scoring = {\n",
    "    'mse': make_scorer(mean_squared_error, greater_is_better=False), \n",
    "    'mae': make_scorer(mean_absolute_error, greater_is_better=False), \n",
    "    'r2': 'r2',\n",
    "}"
   ]
  },
  {
   "cell_type": "code",
   "execution_count": 203,
   "id": "c30d2da6",
   "metadata": {},
   "outputs": [
    {
     "name": "stderr",
     "output_type": "stream",
     "text": [
      "/Users/conormcelduff/opt/anaconda3/lib/python3.9/site-packages/sklearn/ensemble/_forest.py:413: FutureWarning: `max_features='auto'` has been deprecated in 1.1 and will be removed in 1.3. To keep the past behaviour, explicitly set `max_features=1.0` or remove this parameter as it is also the default value for RandomForestRegressors and ExtraTreesRegressors.\n",
      "  warn(\n",
      "/Users/conormcelduff/opt/anaconda3/lib/python3.9/site-packages/sklearn/ensemble/_forest.py:413: FutureWarning: `max_features='auto'` has been deprecated in 1.1 and will be removed in 1.3. To keep the past behaviour, explicitly set `max_features=1.0` or remove this parameter as it is also the default value for RandomForestRegressors and ExtraTreesRegressors.\n",
      "  warn(\n",
      "/Users/conormcelduff/opt/anaconda3/lib/python3.9/site-packages/sklearn/ensemble/_forest.py:413: FutureWarning: `max_features='auto'` has been deprecated in 1.1 and will be removed in 1.3. To keep the past behaviour, explicitly set `max_features=1.0` or remove this parameter as it is also the default value for RandomForestRegressors and ExtraTreesRegressors.\n",
      "  warn(\n",
      "/Users/conormcelduff/opt/anaconda3/lib/python3.9/site-packages/sklearn/ensemble/_forest.py:413: FutureWarning: `max_features='auto'` has been deprecated in 1.1 and will be removed in 1.3. To keep the past behaviour, explicitly set `max_features=1.0` or remove this parameter as it is also the default value for RandomForestRegressors and ExtraTreesRegressors.\n",
      "  warn(\n",
      "/Users/conormcelduff/opt/anaconda3/lib/python3.9/site-packages/sklearn/ensemble/_forest.py:413: FutureWarning: `max_features='auto'` has been deprecated in 1.1 and will be removed in 1.3. To keep the past behaviour, explicitly set `max_features=1.0` or remove this parameter as it is also the default value for RandomForestRegressors and ExtraTreesRegressors.\n",
      "  warn(\n",
      "/Users/conormcelduff/opt/anaconda3/lib/python3.9/site-packages/sklearn/ensemble/_forest.py:413: FutureWarning: `max_features='auto'` has been deprecated in 1.1 and will be removed in 1.3. To keep the past behaviour, explicitly set `max_features=1.0` or remove this parameter as it is also the default value for RandomForestRegressors and ExtraTreesRegressors.\n",
      "  warn(\n",
      "/Users/conormcelduff/opt/anaconda3/lib/python3.9/site-packages/sklearn/ensemble/_forest.py:413: FutureWarning: `max_features='auto'` has been deprecated in 1.1 and will be removed in 1.3. To keep the past behaviour, explicitly set `max_features=1.0` or remove this parameter as it is also the default value for RandomForestRegressors and ExtraTreesRegressors.\n",
      "  warn(\n",
      "/Users/conormcelduff/opt/anaconda3/lib/python3.9/site-packages/sklearn/ensemble/_forest.py:413: FutureWarning: `max_features='auto'` has been deprecated in 1.1 and will be removed in 1.3. To keep the past behaviour, explicitly set `max_features=1.0` or remove this parameter as it is also the default value for RandomForestRegressors and ExtraTreesRegressors.\n",
      "  warn(\n",
      "/Users/conormcelduff/opt/anaconda3/lib/python3.9/site-packages/sklearn/ensemble/_forest.py:413: FutureWarning: `max_features='auto'` has been deprecated in 1.1 and will be removed in 1.3. To keep the past behaviour, explicitly set `max_features=1.0` or remove this parameter as it is also the default value for RandomForestRegressors and ExtraTreesRegressors.\n",
      "  warn(\n",
      "/Users/conormcelduff/opt/anaconda3/lib/python3.9/site-packages/sklearn/ensemble/_forest.py:413: FutureWarning: `max_features='auto'` has been deprecated in 1.1 and will be removed in 1.3. To keep the past behaviour, explicitly set `max_features=1.0` or remove this parameter as it is also the default value for RandomForestRegressors and ExtraTreesRegressors.\n",
      "  warn(\n"
     ]
    }
   ],
   "source": [
    "cv_results = cross_validate(best_model, X_full_train, y_full_train, cv=10, scoring=scoring, return_train_score=True)"
   ]
  },
  {
   "cell_type": "code",
   "execution_count": 204,
   "id": "c37f5982",
   "metadata": {},
   "outputs": [
    {
     "name": "stdout",
     "output_type": "stream",
     "text": [
      "Train MSE: 0.03841119306257187\n",
      "Validation MSE: 0.03939139805457937\n",
      "Train MAE: 0.15542654830748803\n",
      "Validation MAE: 0.15765674928012724\n",
      "Train R^2 scores: 0.5596823280565493\n",
      "Validation R^2 scores: 0.548419341874245\n"
     ]
    }
   ],
   "source": [
    "print(\"Train MSE:\", -cv_results['train_mse'].mean()) \n",
    "print(\"Validation MSE:\", -cv_results['test_mse'].mean()) \n",
    "print(\"Train MAE:\", -cv_results['train_mae'].mean()) \n",
    "print(\"Validation MAE:\", -cv_results['test_mae'].mean())\n",
    "print(\"Train R^2 scores:\", cv_results['train_r2'].mean())\n",
    "print(\"Validation R^2 scores:\", cv_results['test_r2'].mean())"
   ]
  },
  {
   "cell_type": "markdown",
   "id": "65ec0a9c",
   "metadata": {},
   "source": [
    "***"
   ]
  },
  {
   "cell_type": "markdown",
   "id": "e3a678f8",
   "metadata": {},
   "source": [
    "## 10 Fold Cross Validation"
   ]
  },
  {
   "cell_type": "markdown",
   "id": "569a165b",
   "metadata": {},
   "source": [
    "After conducting an extensive 10-fold cross-validation, we can gain insights into the performance of the model and the robustness of our results. By splitting our data into 10 folds and running separate training and validation processes on each, we minimize the influence of any potential outlier folds and ensure that our model generalizes well across different parts of our dataset."
   ]
  },
  {
   "cell_type": "markdown",
   "id": "778458d3",
   "metadata": {},
   "source": [
    "## Mean Squared Error (MSE)"
   ]
  },
  {
   "cell_type": "markdown",
   "id": "302ed64e",
   "metadata": {},
   "source": [
    "MSE is an often-used metric in regression analysis that calculates the average of the squared differences between the actual and predicted values. The MSE for our model is 0.03841 for the training data and 0.03939 for the validation data. These numbers are relatively close to each other, suggesting that the model generalizes well to unseen data."
   ]
  },
  {
   "cell_type": "markdown",
   "id": "309bc3a3",
   "metadata": {},
   "source": [
    "## Mean Absolute Error (MAE)"
   ]
  },
  {
   "cell_type": "markdown",
   "id": "69810f9d",
   "metadata": {},
   "source": [
    "The MAE measures the average absolute difference between the predicted and actual values, giving us a straightforward measure of the magnitude of our model's errors. The MAE for our model is 0.15543 on the training data and 0.15765 on the validation data, which indicates that our model has a relatively low average error magnitude."
   ]
  },
  {
   "cell_type": "markdown",
   "id": "b5ce6131",
   "metadata": {},
   "source": [
    "## R² Score (Coefficient of Determination)"
   ]
  },
  {
   "cell_type": "markdown",
   "id": "7b7f50f6",
   "metadata": {},
   "source": [
    "The R² score, also known as the coefficient of determination, provides a measure of how well future samples are likely to be predicted by the model. Our model has R² scores of 0.55968 for the training set and 0.54842 for the validation set, suggesting that approximately 55% of the variance in our target variable can be explained by our features."
   ]
  },
  {
   "cell_type": "markdown",
   "id": "16ebdade",
   "metadata": {},
   "source": [
    "## Conclusion"
   ]
  },
  {
   "cell_type": "markdown",
   "id": "e095b4ab",
   "metadata": {},
   "source": [
    "In summary, the model shows relatively good performance based on our MSE, MAE, and R² scores from the 10-fold cross-validation. The similar performance on both training and validation sets indicates that our model is not overfitting and is likely to generalize well to new, unseen data. However, as always, we should consider these results in the context of our specific use case and keep exploring potential opportunities for further improving our model."
   ]
  },
  {
   "cell_type": "markdown",
   "id": "3449a481",
   "metadata": {},
   "source": [
    "***"
   ]
  },
  {
   "cell_type": "markdown",
   "id": "c798b81a",
   "metadata": {},
   "source": [
    "## Create and test the pkl file"
   ]
  },
  {
   "cell_type": "code",
   "execution_count": 208,
   "id": "2670e32a",
   "metadata": {},
   "outputs": [],
   "source": [
    "filename = 'final_crime_weekend_taxi_model.pkl'\n",
    "pickle.dump(best_model, open(filename, 'wb'))"
   ]
  },
  {
   "cell_type": "code",
   "execution_count": 209,
   "id": "ed5c11c0",
   "metadata": {},
   "outputs": [],
   "source": [
    "loaded_model = pickle.load(open(filename, 'rb'))"
   ]
  },
  {
   "cell_type": "code",
   "execution_count": 207,
   "id": "a1fc7c2c",
   "metadata": {},
   "outputs": [
    {
     "name": "stdout",
     "output_type": "stream",
     "text": [
      "Single prediction: [0.73160988]\n"
     ]
    },
    {
     "name": "stderr",
     "output_type": "stream",
     "text": [
      "/Users/conormcelduff/opt/anaconda3/lib/python3.9/site-packages/sklearn/base.py:439: UserWarning: X does not have valid feature names, but RandomForestRegressor was fitted with feature names\n",
      "  warnings.warn(\n"
     ]
    }
   ],
   "source": [
    "single_instance = X_test.iloc[0]\n",
    "single_prediction = loaded_model.predict(single_instance.values.reshape(1, -1))\n",
    "print('Single prediction:', single_prediction)"
   ]
  }
 ],
 "metadata": {
  "kernelspec": {
   "display_name": "Python 3 (ipykernel)",
   "language": "python",
   "name": "python3"
  },
  "language_info": {
   "codemirror_mode": {
    "name": "ipython",
    "version": 3
   },
   "file_extension": ".py",
   "mimetype": "text/x-python",
   "name": "python",
   "nbconvert_exporter": "python",
   "pygments_lexer": "ipython3",
   "version": "3.9.12"
  }
 },
 "nbformat": 4,
 "nbformat_minor": 5
}
