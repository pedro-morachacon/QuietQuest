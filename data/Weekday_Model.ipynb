{
 "cells": [
  {
   "cell_type": "code",
   "execution_count": 1,
   "id": "9cd23d0f",
   "metadata": {},
   "outputs": [],
   "source": [
    "import pickle\n",
    "import pandas as pd\n",
    "import numpy as np\n",
    "import datetime  \n",
    "import seaborn as sns\n",
    "import matplotlib.pyplot as plt\n",
    "import pickle\n",
    "import folium\n",
    "from folium.plugins import HeatMap\n",
    "from math import floor\n",
    "from sklearn.linear_model import LinearRegression, LogisticRegression, SGDRegressor, Lasso, Ridge\n",
    "from sklearn.ensemble import RandomForestRegressor, RandomForestClassifier\n",
    "from sklearn.model_selection import train_test_split\n",
    "from sklearn.metrics import mean_squared_error, r2_score, mean_absolute_error, classification_report, confusion_matrix\n",
    "from sqlalchemy import create_engine\n",
    "from sqlalchemy import text\n",
    "from sklearn.cluster import KMeans\n",
    "from imblearn.over_sampling import SMOTE\n",
    "from sklearn.tree import DecisionTreeClassifier\n",
    "from sklearn.cluster import DBSCAN, OPTICS\n",
    "from sklearn import metrics\n",
    "from sklearn.preprocessing import StandardScaler\n",
    "import csv\n",
    "from shapely.geometry import Point, Polygon\n",
    "import time\n",
    "from sklearn.preprocessing import StandardScaler\n",
    "from sklearn.model_selection import RandomizedSearchCV\n",
    "import geopandas as gpd\n",
    "from sklearn.preprocessing import StandardScaler, OneHotEncoder\n",
    "from sklearn.compose import ColumnTransformer\n",
    "from sklearn.pipeline import Pipeline\n",
    "from sklearn.cluster import Birch\n",
    "from sklearn.cluster import MiniBatchKMeans\n",
    "import dask.dataframe as dd\n",
    "from sklearn.neighbors import KNeighborsClassifier\n",
    "from sklearn.svm import SVC"
   ]
  },
  {
   "cell_type": "code",
   "execution_count": 2,
   "id": "e1e6ec1e",
   "metadata": {},
   "outputs": [],
   "source": [
    "df = pd.read_csv(\"Weekday_Taxi.csv\")"
   ]
  },
  {
   "cell_type": "code",
   "execution_count": 3,
   "id": "1636dd2a",
   "metadata": {},
   "outputs": [],
   "source": [
    "df = df.drop(columns=[\"Unnamed: 0\"])"
   ]
  },
  {
   "cell_type": "code",
   "execution_count": 4,
   "id": "d975fe31",
   "metadata": {},
   "outputs": [
    {
     "data": {
      "text/html": [
       "<div>\n",
       "<style scoped>\n",
       "    .dataframe tbody tr th:only-of-type {\n",
       "        vertical-align: middle;\n",
       "    }\n",
       "\n",
       "    .dataframe tbody tr th {\n",
       "        vertical-align: top;\n",
       "    }\n",
       "\n",
       "    .dataframe thead th {\n",
       "        text-align: right;\n",
       "    }\n",
       "</style>\n",
       "<table border=\"1\" class=\"dataframe\">\n",
       "  <thead>\n",
       "    <tr style=\"text-align: right;\">\n",
       "      <th></th>\n",
       "      <th>longitude</th>\n",
       "      <th>latitude</th>\n",
       "      <th>Hour</th>\n",
       "      <th>cluster_id</th>\n",
       "      <th>Weekday</th>\n",
       "      <th>Weekend</th>\n",
       "      <th>total_weekday_taxi_trips</th>\n",
       "    </tr>\n",
       "  </thead>\n",
       "  <tbody>\n",
       "    <tr>\n",
       "      <th>0</th>\n",
       "      <td>-73.982155</td>\n",
       "      <td>40.767937</td>\n",
       "      <td>17</td>\n",
       "      <td>50</td>\n",
       "      <td>1</td>\n",
       "      <td>0</td>\n",
       "      <td>522.0</td>\n",
       "    </tr>\n",
       "    <tr>\n",
       "      <th>1</th>\n",
       "      <td>-73.982155</td>\n",
       "      <td>40.767937</td>\n",
       "      <td>17</td>\n",
       "      <td>50</td>\n",
       "      <td>1</td>\n",
       "      <td>0</td>\n",
       "      <td>522.0</td>\n",
       "    </tr>\n",
       "    <tr>\n",
       "      <th>2</th>\n",
       "      <td>-73.982155</td>\n",
       "      <td>40.767937</td>\n",
       "      <td>17</td>\n",
       "      <td>50</td>\n",
       "      <td>1</td>\n",
       "      <td>0</td>\n",
       "      <td>522.0</td>\n",
       "    </tr>\n",
       "    <tr>\n",
       "      <th>3</th>\n",
       "      <td>-73.982155</td>\n",
       "      <td>40.767937</td>\n",
       "      <td>17</td>\n",
       "      <td>50</td>\n",
       "      <td>1</td>\n",
       "      <td>0</td>\n",
       "      <td>522.0</td>\n",
       "    </tr>\n",
       "    <tr>\n",
       "      <th>4</th>\n",
       "      <td>-73.982155</td>\n",
       "      <td>40.767937</td>\n",
       "      <td>17</td>\n",
       "      <td>50</td>\n",
       "      <td>1</td>\n",
       "      <td>0</td>\n",
       "      <td>522.0</td>\n",
       "    </tr>\n",
       "    <tr>\n",
       "      <th>...</th>\n",
       "      <td>...</td>\n",
       "      <td>...</td>\n",
       "      <td>...</td>\n",
       "      <td>...</td>\n",
       "      <td>...</td>\n",
       "      <td>...</td>\n",
       "      <td>...</td>\n",
       "    </tr>\n",
       "    <tr>\n",
       "      <th>115749100</th>\n",
       "      <td>-73.951920</td>\n",
       "      <td>40.769604</td>\n",
       "      <td>4</td>\n",
       "      <td>184</td>\n",
       "      <td>1</td>\n",
       "      <td>0</td>\n",
       "      <td>7.0</td>\n",
       "    </tr>\n",
       "    <tr>\n",
       "      <th>115749101</th>\n",
       "      <td>-73.951920</td>\n",
       "      <td>40.769604</td>\n",
       "      <td>4</td>\n",
       "      <td>184</td>\n",
       "      <td>1</td>\n",
       "      <td>0</td>\n",
       "      <td>7.0</td>\n",
       "    </tr>\n",
       "    <tr>\n",
       "      <th>115749102</th>\n",
       "      <td>-73.951920</td>\n",
       "      <td>40.769604</td>\n",
       "      <td>4</td>\n",
       "      <td>184</td>\n",
       "      <td>1</td>\n",
       "      <td>0</td>\n",
       "      <td>7.0</td>\n",
       "    </tr>\n",
       "    <tr>\n",
       "      <th>115749103</th>\n",
       "      <td>-73.951920</td>\n",
       "      <td>40.769604</td>\n",
       "      <td>4</td>\n",
       "      <td>184</td>\n",
       "      <td>1</td>\n",
       "      <td>0</td>\n",
       "      <td>7.0</td>\n",
       "    </tr>\n",
       "    <tr>\n",
       "      <th>115749104</th>\n",
       "      <td>-73.951920</td>\n",
       "      <td>40.769604</td>\n",
       "      <td>4</td>\n",
       "      <td>184</td>\n",
       "      <td>1</td>\n",
       "      <td>0</td>\n",
       "      <td>7.0</td>\n",
       "    </tr>\n",
       "  </tbody>\n",
       "</table>\n",
       "<p>115749105 rows × 7 columns</p>\n",
       "</div>"
      ],
      "text/plain": [
       "           longitude   latitude  Hour  cluster_id  Weekday  Weekend  \\\n",
       "0         -73.982155  40.767937    17          50        1        0   \n",
       "1         -73.982155  40.767937    17          50        1        0   \n",
       "2         -73.982155  40.767937    17          50        1        0   \n",
       "3         -73.982155  40.767937    17          50        1        0   \n",
       "4         -73.982155  40.767937    17          50        1        0   \n",
       "...              ...        ...   ...         ...      ...      ...   \n",
       "115749100 -73.951920  40.769604     4         184        1        0   \n",
       "115749101 -73.951920  40.769604     4         184        1        0   \n",
       "115749102 -73.951920  40.769604     4         184        1        0   \n",
       "115749103 -73.951920  40.769604     4         184        1        0   \n",
       "115749104 -73.951920  40.769604     4         184        1        0   \n",
       "\n",
       "           total_weekday_taxi_trips  \n",
       "0                             522.0  \n",
       "1                             522.0  \n",
       "2                             522.0  \n",
       "3                             522.0  \n",
       "4                             522.0  \n",
       "...                             ...  \n",
       "115749100                       7.0  \n",
       "115749101                       7.0  \n",
       "115749102                       7.0  \n",
       "115749103                       7.0  \n",
       "115749104                       7.0  \n",
       "\n",
       "[115749105 rows x 7 columns]"
      ]
     },
     "execution_count": 4,
     "metadata": {},
     "output_type": "execute_result"
    }
   ],
   "source": [
    "df"
   ]
  },
  {
   "cell_type": "code",
   "execution_count": 5,
   "id": "417a66d9",
   "metadata": {},
   "outputs": [],
   "source": [
    "duplicates = df.duplicated(subset=['longitude', 'latitude', 'Hour', 'cluster_id', 'total_weekday_taxi_trips'])"
   ]
  },
  {
   "cell_type": "code",
   "execution_count": 6,
   "id": "761ddc09",
   "metadata": {},
   "outputs": [
    {
     "name": "stdout",
     "output_type": "stream",
     "text": [
      "114679407\n"
     ]
    }
   ],
   "source": [
    "print(duplicates.sum())"
   ]
  },
  {
   "cell_type": "code",
   "execution_count": 7,
   "id": "d16c560d",
   "metadata": {},
   "outputs": [],
   "source": [
    "df = df.drop_duplicates(subset=['longitude', 'latitude', 'Hour', 'cluster_id', 'total_weekday_taxi_trips'])"
   ]
  },
  {
   "cell_type": "code",
   "execution_count": 8,
   "id": "75bb551b",
   "metadata": {},
   "outputs": [
    {
     "data": {
      "text/html": [
       "<div>\n",
       "<style scoped>\n",
       "    .dataframe tbody tr th:only-of-type {\n",
       "        vertical-align: middle;\n",
       "    }\n",
       "\n",
       "    .dataframe tbody tr th {\n",
       "        vertical-align: top;\n",
       "    }\n",
       "\n",
       "    .dataframe thead th {\n",
       "        text-align: right;\n",
       "    }\n",
       "</style>\n",
       "<table border=\"1\" class=\"dataframe\">\n",
       "  <thead>\n",
       "    <tr style=\"text-align: right;\">\n",
       "      <th></th>\n",
       "      <th>longitude</th>\n",
       "      <th>latitude</th>\n",
       "      <th>Hour</th>\n",
       "      <th>cluster_id</th>\n",
       "      <th>Weekday</th>\n",
       "      <th>Weekend</th>\n",
       "      <th>total_weekday_taxi_trips</th>\n",
       "    </tr>\n",
       "  </thead>\n",
       "  <tbody>\n",
       "    <tr>\n",
       "      <th>0</th>\n",
       "      <td>-73.982155</td>\n",
       "      <td>40.767937</td>\n",
       "      <td>17</td>\n",
       "      <td>50</td>\n",
       "      <td>1</td>\n",
       "      <td>0</td>\n",
       "      <td>522.0</td>\n",
       "    </tr>\n",
       "    <tr>\n",
       "      <th>201</th>\n",
       "      <td>-73.982605</td>\n",
       "      <td>40.768311</td>\n",
       "      <td>17</td>\n",
       "      <td>50</td>\n",
       "      <td>1</td>\n",
       "      <td>0</td>\n",
       "      <td>522.0</td>\n",
       "    </tr>\n",
       "    <tr>\n",
       "      <th>402</th>\n",
       "      <td>-73.982292</td>\n",
       "      <td>40.767811</td>\n",
       "      <td>17</td>\n",
       "      <td>50</td>\n",
       "      <td>1</td>\n",
       "      <td>0</td>\n",
       "      <td>522.0</td>\n",
       "    </tr>\n",
       "    <tr>\n",
       "      <th>603</th>\n",
       "      <td>-73.982079</td>\n",
       "      <td>40.767979</td>\n",
       "      <td>17</td>\n",
       "      <td>50</td>\n",
       "      <td>1</td>\n",
       "      <td>0</td>\n",
       "      <td>522.0</td>\n",
       "    </tr>\n",
       "    <tr>\n",
       "      <th>804</th>\n",
       "      <td>-73.982620</td>\n",
       "      <td>40.767738</td>\n",
       "      <td>17</td>\n",
       "      <td>50</td>\n",
       "      <td>1</td>\n",
       "      <td>0</td>\n",
       "      <td>522.0</td>\n",
       "    </tr>\n",
       "    <tr>\n",
       "      <th>...</th>\n",
       "      <td>...</td>\n",
       "      <td>...</td>\n",
       "      <td>...</td>\n",
       "      <td>...</td>\n",
       "      <td>...</td>\n",
       "      <td>...</td>\n",
       "      <td>...</td>\n",
       "    </tr>\n",
       "    <tr>\n",
       "      <th>115748851</th>\n",
       "      <td>-73.940407</td>\n",
       "      <td>40.824921</td>\n",
       "      <td>14</td>\n",
       "      <td>283</td>\n",
       "      <td>1</td>\n",
       "      <td>0</td>\n",
       "      <td>204.0</td>\n",
       "    </tr>\n",
       "    <tr>\n",
       "      <th>115749054</th>\n",
       "      <td>-73.970001</td>\n",
       "      <td>40.765629</td>\n",
       "      <td>5</td>\n",
       "      <td>40</td>\n",
       "      <td>1</td>\n",
       "      <td>0</td>\n",
       "      <td>12.0</td>\n",
       "    </tr>\n",
       "    <tr>\n",
       "      <th>115749065</th>\n",
       "      <td>-74.010071</td>\n",
       "      <td>40.719990</td>\n",
       "      <td>4</td>\n",
       "      <td>371</td>\n",
       "      <td>1</td>\n",
       "      <td>0</td>\n",
       "      <td>14.0</td>\n",
       "    </tr>\n",
       "    <tr>\n",
       "      <th>115749078</th>\n",
       "      <td>-73.959663</td>\n",
       "      <td>40.767132</td>\n",
       "      <td>3</td>\n",
       "      <td>431</td>\n",
       "      <td>1</td>\n",
       "      <td>0</td>\n",
       "      <td>22.0</td>\n",
       "    </tr>\n",
       "    <tr>\n",
       "      <th>115749099</th>\n",
       "      <td>-73.951920</td>\n",
       "      <td>40.769604</td>\n",
       "      <td>4</td>\n",
       "      <td>184</td>\n",
       "      <td>1</td>\n",
       "      <td>0</td>\n",
       "      <td>7.0</td>\n",
       "    </tr>\n",
       "  </tbody>\n",
       "</table>\n",
       "<p>1069698 rows × 7 columns</p>\n",
       "</div>"
      ],
      "text/plain": [
       "           longitude   latitude  Hour  cluster_id  Weekday  Weekend  \\\n",
       "0         -73.982155  40.767937    17          50        1        0   \n",
       "201       -73.982605  40.768311    17          50        1        0   \n",
       "402       -73.982292  40.767811    17          50        1        0   \n",
       "603       -73.982079  40.767979    17          50        1        0   \n",
       "804       -73.982620  40.767738    17          50        1        0   \n",
       "...              ...        ...   ...         ...      ...      ...   \n",
       "115748851 -73.940407  40.824921    14         283        1        0   \n",
       "115749054 -73.970001  40.765629     5          40        1        0   \n",
       "115749065 -74.010071  40.719990     4         371        1        0   \n",
       "115749078 -73.959663  40.767132     3         431        1        0   \n",
       "115749099 -73.951920  40.769604     4         184        1        0   \n",
       "\n",
       "           total_weekday_taxi_trips  \n",
       "0                             522.0  \n",
       "201                           522.0  \n",
       "402                           522.0  \n",
       "603                           522.0  \n",
       "804                           522.0  \n",
       "...                             ...  \n",
       "115748851                     204.0  \n",
       "115749054                      12.0  \n",
       "115749065                      14.0  \n",
       "115749078                      22.0  \n",
       "115749099                       7.0  \n",
       "\n",
       "[1069698 rows x 7 columns]"
      ]
     },
     "execution_count": 8,
     "metadata": {},
     "output_type": "execute_result"
    }
   ],
   "source": [
    "df"
   ]
  },
  {
   "cell_type": "code",
   "execution_count": 9,
   "id": "4e582651",
   "metadata": {},
   "outputs": [],
   "source": [
    "bins = [0,120,240,360,480,np.inf]"
   ]
  },
  {
   "cell_type": "code",
   "execution_count": 10,
   "id": "dfe52a9c",
   "metadata": {},
   "outputs": [],
   "source": [
    "labels = [0,1,2,3,4]"
   ]
  },
  {
   "cell_type": "code",
   "execution_count": 11,
   "id": "cc858014",
   "metadata": {},
   "outputs": [
    {
     "name": "stderr",
     "output_type": "stream",
     "text": [
      "/var/folders/fq/bzr8_90x2fz7g47x1rk7l_tm0000gn/T/ipykernel_45010/404026522.py:1: SettingWithCopyWarning: \n",
      "A value is trying to be set on a copy of a slice from a DataFrame.\n",
      "Try using .loc[row_indexer,col_indexer] = value instead\n",
      "\n",
      "See the caveats in the documentation: https://pandas.pydata.org/pandas-docs/stable/user_guide/indexing.html#returning-a-view-versus-a-copy\n",
      "  df[\"Taxi_Trips_Busyness\"] = pd.cut(df[\"total_weekday_taxi_trips\"], bins=bins, labels=labels)\n"
     ]
    }
   ],
   "source": [
    "df[\"Taxi_Trips_Busyness\"] = pd.cut(df[\"total_weekday_taxi_trips\"], bins=bins, labels=labels)"
   ]
  },
  {
   "cell_type": "code",
   "execution_count": 12,
   "id": "afe312a3",
   "metadata": {},
   "outputs": [
    {
     "name": "stdout",
     "output_type": "stream",
     "text": [
      "0    125285\n",
      "1    392600\n",
      "2    352540\n",
      "3    124732\n",
      "4     74541\n",
      "Name: Taxi_Trips_Busyness, dtype: int64\n"
     ]
    }
   ],
   "source": [
    "busyness_counts = df['Taxi_Trips_Busyness'].value_counts().sort_index()\n",
    "\n",
    "print(busyness_counts)"
   ]
  },
  {
   "cell_type": "code",
   "execution_count": 13,
   "id": "89926857",
   "metadata": {},
   "outputs": [],
   "source": [
    "X = df[[\"longitude\",\"latitude\",\"Hour\"]]\n",
    "y = df[\"Taxi_Trips_Busyness\"]"
   ]
  },
  {
   "cell_type": "code",
   "execution_count": 14,
   "id": "6bbe5de5",
   "metadata": {},
   "outputs": [],
   "source": [
    "X_train, X_test, y_train, y_test = train_test_split(X, y, test_size=0.3, random_state=42)"
   ]
  },
  {
   "cell_type": "code",
   "execution_count": 15,
   "id": "c38ed3ec",
   "metadata": {},
   "outputs": [],
   "source": [
    "model = RandomForestClassifier(n_estimators=10, random_state=48)"
   ]
  },
  {
   "cell_type": "code",
   "execution_count": 16,
   "id": "3dfbb303",
   "metadata": {},
   "outputs": [
    {
     "data": {
      "text/html": [
       "<style>#sk-container-id-1 {color: black;background-color: white;}#sk-container-id-1 pre{padding: 0;}#sk-container-id-1 div.sk-toggleable {background-color: white;}#sk-container-id-1 label.sk-toggleable__label {cursor: pointer;display: block;width: 100%;margin-bottom: 0;padding: 0.3em;box-sizing: border-box;text-align: center;}#sk-container-id-1 label.sk-toggleable__label-arrow:before {content: \"▸\";float: left;margin-right: 0.25em;color: #696969;}#sk-container-id-1 label.sk-toggleable__label-arrow:hover:before {color: black;}#sk-container-id-1 div.sk-estimator:hover label.sk-toggleable__label-arrow:before {color: black;}#sk-container-id-1 div.sk-toggleable__content {max-height: 0;max-width: 0;overflow: hidden;text-align: left;background-color: #f0f8ff;}#sk-container-id-1 div.sk-toggleable__content pre {margin: 0.2em;color: black;border-radius: 0.25em;background-color: #f0f8ff;}#sk-container-id-1 input.sk-toggleable__control:checked~div.sk-toggleable__content {max-height: 200px;max-width: 100%;overflow: auto;}#sk-container-id-1 input.sk-toggleable__control:checked~label.sk-toggleable__label-arrow:before {content: \"▾\";}#sk-container-id-1 div.sk-estimator input.sk-toggleable__control:checked~label.sk-toggleable__label {background-color: #d4ebff;}#sk-container-id-1 div.sk-label input.sk-toggleable__control:checked~label.sk-toggleable__label {background-color: #d4ebff;}#sk-container-id-1 input.sk-hidden--visually {border: 0;clip: rect(1px 1px 1px 1px);clip: rect(1px, 1px, 1px, 1px);height: 1px;margin: -1px;overflow: hidden;padding: 0;position: absolute;width: 1px;}#sk-container-id-1 div.sk-estimator {font-family: monospace;background-color: #f0f8ff;border: 1px dotted black;border-radius: 0.25em;box-sizing: border-box;margin-bottom: 0.5em;}#sk-container-id-1 div.sk-estimator:hover {background-color: #d4ebff;}#sk-container-id-1 div.sk-parallel-item::after {content: \"\";width: 100%;border-bottom: 1px solid gray;flex-grow: 1;}#sk-container-id-1 div.sk-label:hover label.sk-toggleable__label {background-color: #d4ebff;}#sk-container-id-1 div.sk-serial::before {content: \"\";position: absolute;border-left: 1px solid gray;box-sizing: border-box;top: 0;bottom: 0;left: 50%;z-index: 0;}#sk-container-id-1 div.sk-serial {display: flex;flex-direction: column;align-items: center;background-color: white;padding-right: 0.2em;padding-left: 0.2em;position: relative;}#sk-container-id-1 div.sk-item {position: relative;z-index: 1;}#sk-container-id-1 div.sk-parallel {display: flex;align-items: stretch;justify-content: center;background-color: white;position: relative;}#sk-container-id-1 div.sk-item::before, #sk-container-id-1 div.sk-parallel-item::before {content: \"\";position: absolute;border-left: 1px solid gray;box-sizing: border-box;top: 0;bottom: 0;left: 50%;z-index: -1;}#sk-container-id-1 div.sk-parallel-item {display: flex;flex-direction: column;z-index: 1;position: relative;background-color: white;}#sk-container-id-1 div.sk-parallel-item:first-child::after {align-self: flex-end;width: 50%;}#sk-container-id-1 div.sk-parallel-item:last-child::after {align-self: flex-start;width: 50%;}#sk-container-id-1 div.sk-parallel-item:only-child::after {width: 0;}#sk-container-id-1 div.sk-dashed-wrapped {border: 1px dashed gray;margin: 0 0.4em 0.5em 0.4em;box-sizing: border-box;padding-bottom: 0.4em;background-color: white;}#sk-container-id-1 div.sk-label label {font-family: monospace;font-weight: bold;display: inline-block;line-height: 1.2em;}#sk-container-id-1 div.sk-label-container {text-align: center;}#sk-container-id-1 div.sk-container {/* jupyter's `normalize.less` sets `[hidden] { display: none; }` but bootstrap.min.css set `[hidden] { display: none !important; }` so we also need the `!important` here to be able to override the default hidden behavior on the sphinx rendered scikit-learn.org. See: https://github.com/scikit-learn/scikit-learn/issues/21755 */display: inline-block !important;position: relative;}#sk-container-id-1 div.sk-text-repr-fallback {display: none;}</style><div id=\"sk-container-id-1\" class=\"sk-top-container\"><div class=\"sk-text-repr-fallback\"><pre>RandomForestClassifier(n_estimators=10, random_state=48)</pre><b>In a Jupyter environment, please rerun this cell to show the HTML representation or trust the notebook. <br />On GitHub, the HTML representation is unable to render, please try loading this page with nbviewer.org.</b></div><div class=\"sk-container\" hidden><div class=\"sk-item\"><div class=\"sk-estimator sk-toggleable\"><input class=\"sk-toggleable__control sk-hidden--visually\" id=\"sk-estimator-id-1\" type=\"checkbox\" checked><label for=\"sk-estimator-id-1\" class=\"sk-toggleable__label sk-toggleable__label-arrow\">RandomForestClassifier</label><div class=\"sk-toggleable__content\"><pre>RandomForestClassifier(n_estimators=10, random_state=48)</pre></div></div></div></div></div>"
      ],
      "text/plain": [
       "RandomForestClassifier(n_estimators=10, random_state=48)"
      ]
     },
     "execution_count": 16,
     "metadata": {},
     "output_type": "execute_result"
    }
   ],
   "source": [
    "model.fit(X_train, y_train.astype('int'))"
   ]
  },
  {
   "cell_type": "code",
   "execution_count": 17,
   "id": "f8327138",
   "metadata": {},
   "outputs": [],
   "source": [
    "y_pred = model.predict(X_test)"
   ]
  },
  {
   "cell_type": "code",
   "execution_count": 18,
   "id": "22c47297",
   "metadata": {},
   "outputs": [],
   "source": [
    "mse = mean_squared_error(y_test, y_pred)\n",
    "rmse = np.sqrt(mse)"
   ]
  },
  {
   "cell_type": "code",
   "execution_count": 19,
   "id": "a90ed70f",
   "metadata": {
    "scrolled": true
   },
   "outputs": [
    {
     "name": "stdout",
     "output_type": "stream",
     "text": [
      "Mean Absolute Error: 0.028771306596865165\n",
      "Mean Squared Error: 0.044557664142594496\n",
      "Root Mean Squared Error: 0.21108686397451287\n",
      "R-squared Score: 0.9599580568579841\n"
     ]
    }
   ],
   "source": [
    "mae = mean_absolute_error(y_test, y_pred)\n",
    "print('Mean Absolute Error:', mae)\n",
    "\n",
    "mse = mean_squared_error(y_test, y_pred)\n",
    "print('Mean Squared Error:', mse)\n",
    "\n",
    "rmse = np.sqrt(mse)\n",
    "print('Root Mean Squared Error:', rmse)\n",
    "\n",
    "r2 = r2_score(y_test, y_pred)\n",
    "print('R-squared Score:', r2)"
   ]
  },
  {
   "cell_type": "code",
   "execution_count": 20,
   "id": "e5d483dd",
   "metadata": {},
   "outputs": [
    {
     "name": "stdout",
     "output_type": "stream",
     "text": [
      "Time taken to train Random Forest model : 7.551330089569092 seconds\n"
     ]
    }
   ],
   "source": [
    "start_time = time.time()\n",
    "\n",
    "rf_model = RandomForestClassifier(n_estimators=10, random_state=48)\n",
    "rf_model = rf_model.fit(X_train, y_train)\n",
    "end_time = time.time()\n",
    "rf_time = end_time - start_time\n",
    "print(f\"Time taken to train Random Forest model : {rf_time} seconds\")"
   ]
  },
  {
   "cell_type": "code",
   "execution_count": 21,
   "id": "0c2c9cd7",
   "metadata": {},
   "outputs": [],
   "source": [
    "predicted_values = rf_model.predict(X_test)"
   ]
  },
  {
   "cell_type": "code",
   "execution_count": 22,
   "id": "673f9e51",
   "metadata": {},
   "outputs": [
    {
     "name": "stdout",
     "output_type": "stream",
     "text": [
      "          Actual  Predicted\n",
      "98219707       0          0\n",
      "101886375      1          1\n",
      "53469803       2          2\n",
      "75623143       0          0\n",
      "92896881       3          3\n",
      "...          ...        ...\n",
      "71396289       1          1\n",
      "84764000       4          4\n",
      "16065626       1          1\n",
      "102766227      1          1\n",
      "13493017       1          1\n",
      "\n",
      "[320910 rows x 2 columns]\n"
     ]
    }
   ],
   "source": [
    "predictions = pd.DataFrame({'Actual': y_test, 'Predicted': predicted_values})\n",
    "print(predictions)"
   ]
  },
  {
   "cell_type": "code",
   "execution_count": 23,
   "id": "11c17842",
   "metadata": {},
   "outputs": [
    {
     "data": {
      "image/png": "[encoded data removed]",
      "text/plain": [
       "<Figure size 1008x576 with 1 Axes>"
      ]
     },
     "metadata": {
      "needs_background": "light"
     },
     "output_type": "display_data"
    }
   ],
   "source": [
    "predictions_sample = predictions.sample(40).reset_index(drop=True)\n",
    "\n",
    "x = np.arange(len(predictions_sample))\n",
    "\n",
    "bar_width = 0.35\n",
    "\n",
    "fig, ax = plt.subplots(figsize=(14,8))\n",
    "\n",
    "rects1 = ax.bar(x - bar_width/2, predictions_sample['Actual'], bar_width, label='Actual')\n",
    "rects2 = ax.bar(x + bar_width/2, predictions_sample['Predicted'], bar_width, label='Predicted')\n",
    "\n",
    "ax.set_xlabel('Sample Index')\n",
    "ax.set_ylabel('Taxi_Trips_Busyness')\n",
    "ax.set_title('Actual vs Predicted Values')\n",
    "ax.set_xticks(x)\n",
    "ax.legend()\n",
    "\n",
    "plt.grid(which='major', linestyle='-', linewidth='0.5', color='green')\n",
    "plt.grid(which='minor', linestyle=':', linewidth='0.5', color='black')\n",
    "plt.show()"
   ]
  },
  {
   "cell_type": "code",
   "execution_count": 24,
   "id": "5d7b0a1d",
   "metadata": {},
   "outputs": [
    {
     "name": "stdout",
     "output_type": "stream",
     "text": [
      "Random Forest Classifier Report: \n",
      "               precision    recall  f1-score   support\n",
      "\n",
      "           0       0.97      0.98      0.98     37385\n",
      "           1       0.98      0.98      0.98    117502\n",
      "           2       0.98      0.98      0.98    106075\n",
      "           3       0.98      0.97      0.97     37395\n",
      "           4       0.98      0.98      0.98     22553\n",
      "\n",
      "    accuracy                           0.98    320910\n",
      "   macro avg       0.98      0.98      0.98    320910\n",
      "weighted avg       0.98      0.98      0.98    320910\n",
      "\n"
     ]
    }
   ],
   "source": [
    "print(\"Random Forest Classifier Report: \\n\", classification_report(y_test, predicted_values))"
   ]
  },
  {
   "cell_type": "markdown",
   "id": "e432d789",
   "metadata": {},
   "source": [
    "***"
   ]
  },
  {
   "cell_type": "markdown",
   "id": "37bbd63f",
   "metadata": {},
   "source": [
    "## Testing Other Models"
   ]
  },
  {
   "cell_type": "markdown",
   "id": "7d6638e7",
   "metadata": {},
   "source": [
    "## Decision Tree Classifier"
   ]
  },
  {
   "cell_type": "code",
   "execution_count": 25,
   "id": "6e83acf3",
   "metadata": {},
   "outputs": [
    {
     "name": "stdout",
     "output_type": "stream",
     "text": [
      "Decision Tree Classifier Report: \n",
      "               precision    recall  f1-score   support\n",
      "\n",
      "           0       0.97      0.97      0.97     37385\n",
      "           1       0.98      0.98      0.98    117502\n",
      "           2       0.98      0.97      0.98    106075\n",
      "           3       0.97      0.97      0.97     37395\n",
      "           4       0.98      0.98      0.98     22553\n",
      "\n",
      "    accuracy                           0.97    320910\n",
      "   macro avg       0.97      0.97      0.97    320910\n",
      "weighted avg       0.97      0.97      0.97    320910\n",
      "\n"
     ]
    }
   ],
   "source": [
    "dt_model = DecisionTreeClassifier(random_state=42)\n",
    "dt_model.fit(X_train, y_train)\n",
    "dt_predictions = dt_model.predict(X_test)\n",
    "print(\"Decision Tree Classifier Report: \\n\", classification_report(y_test, dt_predictions))"
   ]
  },
  {
   "cell_type": "markdown",
   "id": "e1a1587a",
   "metadata": {},
   "source": [
    "## K-Nearest Neighbors Classifier"
   ]
  },
  {
   "cell_type": "code",
   "execution_count": 26,
   "id": "29fe4029",
   "metadata": {},
   "outputs": [
    {
     "name": "stdout",
     "output_type": "stream",
     "text": [
      "K-Nearest Neighbors Classifier Report: \n",
      "               precision    recall  f1-score   support\n",
      "\n",
      "           0       0.98      0.97      0.98     37385\n",
      "           1       0.98      0.98      0.98    117502\n",
      "           2       0.98      0.98      0.98    106075\n",
      "           3       0.97      0.98      0.98     37395\n",
      "           4       0.98      0.98      0.98     22553\n",
      "\n",
      "    accuracy                           0.98    320910\n",
      "   macro avg       0.98      0.98      0.98    320910\n",
      "weighted avg       0.98      0.98      0.98    320910\n",
      "\n"
     ]
    }
   ],
   "source": [
    "knn_model = KNeighborsClassifier()\n",
    "knn_model.fit(X_train, y_train)\n",
    "knn_predictions = knn_model.predict(X_test)\n",
    "print(\"K-Nearest Neighbors Classifier Report: \\n\", classification_report(y_test, knn_predictions))"
   ]
  },
  {
   "cell_type": "markdown",
   "id": "8d3feedb",
   "metadata": {},
   "source": [
    "## Support Vector Machine Classifier"
   ]
  },
  {
   "cell_type": "code",
   "execution_count": 27,
   "id": "71190513",
   "metadata": {},
   "outputs": [],
   "source": [
    "# commented out as it's proven to be computationally intensive"
   ]
  },
  {
   "cell_type": "code",
   "execution_count": 28,
   "id": "7fe4b939",
   "metadata": {},
   "outputs": [],
   "source": [
    "# svm_model = SVC(random_state=42)\n",
    "# svm_model.fit(X_train, y_train)\n",
    "# svm_predictions = svm_model.predict(X_test)\n",
    "# print(\"Support Vector Machine Classifier Report: \\n\", classification_report(y_test, svm_predictions))"
   ]
  },
  {
   "cell_type": "code",
   "execution_count": 29,
   "id": "b52f09a2",
   "metadata": {},
   "outputs": [],
   "source": [
    "pkl_filename = \"weekday_test_model.pkl\"\n",
    "with open(pkl_filename, 'wb') as file:\n",
    "    pickle.dump(model, file)"
   ]
  }
 ],
 "metadata": {
  "kernelspec": {
   "display_name": "Python 3 (ipykernel)",
   "language": "python",
   "name": "python3"
  },
  "language_info": {
   "codemirror_mode": {
    "name": "ipython",
    "version": 3
   },
   "file_extension": ".py",
   "mimetype": "text/x-python",
   "name": "python",
   "nbconvert_exporter": "python",
   "pygments_lexer": "ipython3",
   "version": "3.9.12"
  }
 },
 "nbformat": 4,
 "nbformat_minor": 5
}
