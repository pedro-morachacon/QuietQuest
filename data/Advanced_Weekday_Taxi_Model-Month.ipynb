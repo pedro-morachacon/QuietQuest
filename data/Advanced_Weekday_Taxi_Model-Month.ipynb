{
 "cells": [
  {
   "cell_type": "code",
   "execution_count": 1,
   "id": "fa672f46",
   "metadata": {},
   "outputs": [],
   "source": [
    "import pickle\n",
    "import pandas as pd\n",
    "import numpy as np\n",
    "import datetime  \n",
    "import seaborn as sns\n",
    "import matplotlib.pyplot as plt\n",
    "import pickle\n",
    "import folium\n",
    "from folium.plugins import HeatMap\n",
    "from math import floor\n",
    "from sklearn.linear_model import LinearRegression, LogisticRegression, SGDRegressor, Lasso, Ridge\n",
    "from sklearn.ensemble import RandomForestRegressor, RandomForestClassifier, GradientBoostingRegressor\n",
    "from sklearn.model_selection import train_test_split\n",
    "from sklearn.metrics import mean_squared_error, r2_score, mean_absolute_error, classification_report, confusion_matrix\n",
    "from sqlalchemy import create_engine\n",
    "from sqlalchemy import text\n",
    "from sklearn.cluster import KMeans\n",
    "from imblearn.over_sampling import SMOTE\n",
    "from sklearn.tree import DecisionTreeClassifier\n",
    "from sklearn.cluster import DBSCAN, OPTICS\n",
    "from sklearn import metrics\n",
    "from sklearn.preprocessing import StandardScaler\n",
    "import csv\n",
    "from shapely.geometry import Point, Polygon\n",
    "import time\n",
    "from math import sqrt\n",
    "from sklearn.preprocessing import StandardScaler\n",
    "from sklearn.model_selection import RandomizedSearchCV\n",
    "from sklearn.tree import DecisionTreeRegressor\n",
    "import geopandas as gpd\n",
    "from sklearn.preprocessing import StandardScaler, OneHotEncoder\n",
    "from sklearn.compose import ColumnTransformer\n",
    "from sklearn.pipeline import Pipeline\n",
    "from sklearn.cluster import Birch\n",
    "from sklearn.cluster import MiniBatchKMeans\n",
    "import dask.dataframe as dd\n",
    "from sklearn.neighbors import KNeighborsClassifier\n",
    "import eli5\n",
    "from eli5.sklearn import PermutationImportance\n",
    "from sklearn.model_selection import GridSearchCV\n",
    "from sklearn.svm import SVR\n",
    "from sklearn.metrics import make_scorer\n",
    "from sklearn.model_selection import cross_validate"
   ]
  },
  {
   "cell_type": "code",
   "execution_count": 2,
   "id": "44095697",
   "metadata": {},
   "outputs": [
    {
     "data": {
      "text/html": [
       "<div>\n",
       "<style scoped>\n",
       "    .dataframe tbody tr th:only-of-type {\n",
       "        vertical-align: middle;\n",
       "    }\n",
       "\n",
       "    .dataframe tbody tr th {\n",
       "        vertical-align: top;\n",
       "    }\n",
       "\n",
       "    .dataframe thead th {\n",
       "        text-align: right;\n",
       "    }\n",
       "</style>\n",
       "<table border=\"1\" class=\"dataframe\">\n",
       "  <thead>\n",
       "    <tr style=\"text-align: right;\">\n",
       "      <th></th>\n",
       "      <th>Unnamed: 0</th>\n",
       "      <th>longitude</th>\n",
       "      <th>latitude</th>\n",
       "      <th>Hour</th>\n",
       "      <th>Month</th>\n",
       "      <th>Day of Week</th>\n",
       "      <th>Cluster</th>\n",
       "      <th>total_weekday_trips</th>\n",
       "      <th>Normalized_Score</th>\n",
       "    </tr>\n",
       "  </thead>\n",
       "  <tbody>\n",
       "    <tr>\n",
       "      <th>0</th>\n",
       "      <td>0</td>\n",
       "      <td>-73.982155</td>\n",
       "      <td>40.767937</td>\n",
       "      <td>17</td>\n",
       "      <td>3</td>\n",
       "      <td>0</td>\n",
       "      <td>50</td>\n",
       "      <td>82.0</td>\n",
       "      <td>0.918367</td>\n",
       "    </tr>\n",
       "    <tr>\n",
       "      <th>1</th>\n",
       "      <td>1</td>\n",
       "      <td>-73.981796</td>\n",
       "      <td>40.768520</td>\n",
       "      <td>17</td>\n",
       "      <td>3</td>\n",
       "      <td>0</td>\n",
       "      <td>50</td>\n",
       "      <td>82.0</td>\n",
       "      <td>0.918367</td>\n",
       "    </tr>\n",
       "    <tr>\n",
       "      <th>2</th>\n",
       "      <td>2</td>\n",
       "      <td>-73.982140</td>\n",
       "      <td>40.768028</td>\n",
       "      <td>17</td>\n",
       "      <td>3</td>\n",
       "      <td>0</td>\n",
       "      <td>50</td>\n",
       "      <td>82.0</td>\n",
       "      <td>0.918367</td>\n",
       "    </tr>\n",
       "    <tr>\n",
       "      <th>3</th>\n",
       "      <td>3</td>\n",
       "      <td>-73.982353</td>\n",
       "      <td>40.768536</td>\n",
       "      <td>17</td>\n",
       "      <td>3</td>\n",
       "      <td>0</td>\n",
       "      <td>50</td>\n",
       "      <td>82.0</td>\n",
       "      <td>0.918367</td>\n",
       "    </tr>\n",
       "    <tr>\n",
       "      <th>4</th>\n",
       "      <td>4</td>\n",
       "      <td>-73.982239</td>\n",
       "      <td>40.768452</td>\n",
       "      <td>17</td>\n",
       "      <td>3</td>\n",
       "      <td>0</td>\n",
       "      <td>50</td>\n",
       "      <td>82.0</td>\n",
       "      <td>0.918367</td>\n",
       "    </tr>\n",
       "    <tr>\n",
       "      <th>...</th>\n",
       "      <td>...</td>\n",
       "      <td>...</td>\n",
       "      <td>...</td>\n",
       "      <td>...</td>\n",
       "      <td>...</td>\n",
       "      <td>...</td>\n",
       "      <td>...</td>\n",
       "      <td>...</td>\n",
       "      <td>...</td>\n",
       "    </tr>\n",
       "    <tr>\n",
       "      <th>729759</th>\n",
       "      <td>744456</td>\n",
       "      <td>-74.002769</td>\n",
       "      <td>40.760681</td>\n",
       "      <td>19</td>\n",
       "      <td>2</td>\n",
       "      <td>1</td>\n",
       "      <td>364</td>\n",
       "      <td>32.0</td>\n",
       "      <td>0.204082</td>\n",
       "    </tr>\n",
       "    <tr>\n",
       "      <th>729760</th>\n",
       "      <td>744457</td>\n",
       "      <td>-73.966393</td>\n",
       "      <td>40.789322</td>\n",
       "      <td>14</td>\n",
       "      <td>4</td>\n",
       "      <td>2</td>\n",
       "      <td>296</td>\n",
       "      <td>30.0</td>\n",
       "      <td>0.183673</td>\n",
       "    </tr>\n",
       "    <tr>\n",
       "      <th>729761</th>\n",
       "      <td>744458</td>\n",
       "      <td>-73.994904</td>\n",
       "      <td>40.765656</td>\n",
       "      <td>6</td>\n",
       "      <td>1</td>\n",
       "      <td>4</td>\n",
       "      <td>245</td>\n",
       "      <td>4.0</td>\n",
       "      <td>0.000000</td>\n",
       "    </tr>\n",
       "    <tr>\n",
       "      <th>729762</th>\n",
       "      <td>744459</td>\n",
       "      <td>-73.984756</td>\n",
       "      <td>40.728607</td>\n",
       "      <td>14</td>\n",
       "      <td>4</td>\n",
       "      <td>1</td>\n",
       "      <td>379</td>\n",
       "      <td>41.0</td>\n",
       "      <td>0.387755</td>\n",
       "    </tr>\n",
       "    <tr>\n",
       "      <th>729763</th>\n",
       "      <td>744460</td>\n",
       "      <td>-73.959618</td>\n",
       "      <td>40.808941</td>\n",
       "      <td>10</td>\n",
       "      <td>6</td>\n",
       "      <td>4</td>\n",
       "      <td>269</td>\n",
       "      <td>16.0</td>\n",
       "      <td>0.020408</td>\n",
       "    </tr>\n",
       "  </tbody>\n",
       "</table>\n",
       "<p>729764 rows × 9 columns</p>\n",
       "</div>"
      ],
      "text/plain": [
       "        Unnamed: 0  longitude   latitude  Hour  Month  Day of Week  Cluster  \\\n",
       "0                0 -73.982155  40.767937    17      3            0       50   \n",
       "1                1 -73.981796  40.768520    17      3            0       50   \n",
       "2                2 -73.982140  40.768028    17      3            0       50   \n",
       "3                3 -73.982353  40.768536    17      3            0       50   \n",
       "4                4 -73.982239  40.768452    17      3            0       50   \n",
       "...            ...        ...        ...   ...    ...          ...      ...   \n",
       "729759      744456 -74.002769  40.760681    19      2            1      364   \n",
       "729760      744457 -73.966393  40.789322    14      4            2      296   \n",
       "729761      744458 -73.994904  40.765656     6      1            4      245   \n",
       "729762      744459 -73.984756  40.728607    14      4            1      379   \n",
       "729763      744460 -73.959618  40.808941    10      6            4      269   \n",
       "\n",
       "        total_weekday_trips  Normalized_Score  \n",
       "0                      82.0          0.918367  \n",
       "1                      82.0          0.918367  \n",
       "2                      82.0          0.918367  \n",
       "3                      82.0          0.918367  \n",
       "4                      82.0          0.918367  \n",
       "...                     ...               ...  \n",
       "729759                 32.0          0.204082  \n",
       "729760                 30.0          0.183673  \n",
       "729761                  4.0          0.000000  \n",
       "729762                 41.0          0.387755  \n",
       "729763                 16.0          0.020408  \n",
       "\n",
       "[729764 rows x 9 columns]"
      ]
     },
     "execution_count": 2,
     "metadata": {},
     "output_type": "execute_result"
    }
   ],
   "source": [
    "df = pd.read_csv('Final_Weekday_Model_Data_NoWeather_Crime_Month.csv')\n",
    "df"
   ]
  },
  {
   "cell_type": "code",
   "execution_count": 3,
   "id": "5e0c9d97",
   "metadata": {},
   "outputs": [
    {
     "data": {
      "text/html": [
       "<div>\n",
       "<style scoped>\n",
       "    .dataframe tbody tr th:only-of-type {\n",
       "        vertical-align: middle;\n",
       "    }\n",
       "\n",
       "    .dataframe tbody tr th {\n",
       "        vertical-align: top;\n",
       "    }\n",
       "\n",
       "    .dataframe thead th {\n",
       "        text-align: right;\n",
       "    }\n",
       "</style>\n",
       "<table border=\"1\" class=\"dataframe\">\n",
       "  <thead>\n",
       "    <tr style=\"text-align: right;\">\n",
       "      <th></th>\n",
       "      <th>longitude</th>\n",
       "      <th>latitude</th>\n",
       "      <th>Hour</th>\n",
       "      <th>Month</th>\n",
       "      <th>Day of Week</th>\n",
       "      <th>Cluster</th>\n",
       "      <th>total_weekday_trips</th>\n",
       "      <th>Normalized_Score</th>\n",
       "    </tr>\n",
       "  </thead>\n",
       "  <tbody>\n",
       "    <tr>\n",
       "      <th>0</th>\n",
       "      <td>-73.982155</td>\n",
       "      <td>40.767937</td>\n",
       "      <td>17</td>\n",
       "      <td>3</td>\n",
       "      <td>0</td>\n",
       "      <td>50</td>\n",
       "      <td>82.0</td>\n",
       "      <td>0.918367</td>\n",
       "    </tr>\n",
       "    <tr>\n",
       "      <th>1</th>\n",
       "      <td>-73.981796</td>\n",
       "      <td>40.768520</td>\n",
       "      <td>17</td>\n",
       "      <td>3</td>\n",
       "      <td>0</td>\n",
       "      <td>50</td>\n",
       "      <td>82.0</td>\n",
       "      <td>0.918367</td>\n",
       "    </tr>\n",
       "    <tr>\n",
       "      <th>2</th>\n",
       "      <td>-73.982140</td>\n",
       "      <td>40.768028</td>\n",
       "      <td>17</td>\n",
       "      <td>3</td>\n",
       "      <td>0</td>\n",
       "      <td>50</td>\n",
       "      <td>82.0</td>\n",
       "      <td>0.918367</td>\n",
       "    </tr>\n",
       "    <tr>\n",
       "      <th>3</th>\n",
       "      <td>-73.982353</td>\n",
       "      <td>40.768536</td>\n",
       "      <td>17</td>\n",
       "      <td>3</td>\n",
       "      <td>0</td>\n",
       "      <td>50</td>\n",
       "      <td>82.0</td>\n",
       "      <td>0.918367</td>\n",
       "    </tr>\n",
       "    <tr>\n",
       "      <th>4</th>\n",
       "      <td>-73.982239</td>\n",
       "      <td>40.768452</td>\n",
       "      <td>17</td>\n",
       "      <td>3</td>\n",
       "      <td>0</td>\n",
       "      <td>50</td>\n",
       "      <td>82.0</td>\n",
       "      <td>0.918367</td>\n",
       "    </tr>\n",
       "    <tr>\n",
       "      <th>...</th>\n",
       "      <td>...</td>\n",
       "      <td>...</td>\n",
       "      <td>...</td>\n",
       "      <td>...</td>\n",
       "      <td>...</td>\n",
       "      <td>...</td>\n",
       "      <td>...</td>\n",
       "      <td>...</td>\n",
       "    </tr>\n",
       "    <tr>\n",
       "      <th>729759</th>\n",
       "      <td>-74.002769</td>\n",
       "      <td>40.760681</td>\n",
       "      <td>19</td>\n",
       "      <td>2</td>\n",
       "      <td>1</td>\n",
       "      <td>364</td>\n",
       "      <td>32.0</td>\n",
       "      <td>0.204082</td>\n",
       "    </tr>\n",
       "    <tr>\n",
       "      <th>729760</th>\n",
       "      <td>-73.966393</td>\n",
       "      <td>40.789322</td>\n",
       "      <td>14</td>\n",
       "      <td>4</td>\n",
       "      <td>2</td>\n",
       "      <td>296</td>\n",
       "      <td>30.0</td>\n",
       "      <td>0.183673</td>\n",
       "    </tr>\n",
       "    <tr>\n",
       "      <th>729761</th>\n",
       "      <td>-73.994904</td>\n",
       "      <td>40.765656</td>\n",
       "      <td>6</td>\n",
       "      <td>1</td>\n",
       "      <td>4</td>\n",
       "      <td>245</td>\n",
       "      <td>4.0</td>\n",
       "      <td>0.000000</td>\n",
       "    </tr>\n",
       "    <tr>\n",
       "      <th>729762</th>\n",
       "      <td>-73.984756</td>\n",
       "      <td>40.728607</td>\n",
       "      <td>14</td>\n",
       "      <td>4</td>\n",
       "      <td>1</td>\n",
       "      <td>379</td>\n",
       "      <td>41.0</td>\n",
       "      <td>0.387755</td>\n",
       "    </tr>\n",
       "    <tr>\n",
       "      <th>729763</th>\n",
       "      <td>-73.959618</td>\n",
       "      <td>40.808941</td>\n",
       "      <td>10</td>\n",
       "      <td>6</td>\n",
       "      <td>4</td>\n",
       "      <td>269</td>\n",
       "      <td>16.0</td>\n",
       "      <td>0.020408</td>\n",
       "    </tr>\n",
       "  </tbody>\n",
       "</table>\n",
       "<p>729764 rows × 8 columns</p>\n",
       "</div>"
      ],
      "text/plain": [
       "        longitude   latitude  Hour  Month  Day of Week  Cluster  \\\n",
       "0      -73.982155  40.767937    17      3            0       50   \n",
       "1      -73.981796  40.768520    17      3            0       50   \n",
       "2      -73.982140  40.768028    17      3            0       50   \n",
       "3      -73.982353  40.768536    17      3            0       50   \n",
       "4      -73.982239  40.768452    17      3            0       50   \n",
       "...           ...        ...   ...    ...          ...      ...   \n",
       "729759 -74.002769  40.760681    19      2            1      364   \n",
       "729760 -73.966393  40.789322    14      4            2      296   \n",
       "729761 -73.994904  40.765656     6      1            4      245   \n",
       "729762 -73.984756  40.728607    14      4            1      379   \n",
       "729763 -73.959618  40.808941    10      6            4      269   \n",
       "\n",
       "        total_weekday_trips  Normalized_Score  \n",
       "0                      82.0          0.918367  \n",
       "1                      82.0          0.918367  \n",
       "2                      82.0          0.918367  \n",
       "3                      82.0          0.918367  \n",
       "4                      82.0          0.918367  \n",
       "...                     ...               ...  \n",
       "729759                 32.0          0.204082  \n",
       "729760                 30.0          0.183673  \n",
       "729761                  4.0          0.000000  \n",
       "729762                 41.0          0.387755  \n",
       "729763                 16.0          0.020408  \n",
       "\n",
       "[729764 rows x 8 columns]"
      ]
     },
     "execution_count": 3,
     "metadata": {},
     "output_type": "execute_result"
    }
   ],
   "source": [
    "df = df.drop(columns=[\"Unnamed: 0\"])\n",
    "df"
   ]
  },
  {
   "cell_type": "code",
   "execution_count": 4,
   "id": "6f38ea8a",
   "metadata": {},
   "outputs": [
    {
     "data": {
      "text/plain": [
       "longitude              0\n",
       "latitude               0\n",
       "Hour                   0\n",
       "Month                  0\n",
       "Day of Week            0\n",
       "Cluster                0\n",
       "total_weekday_trips    0\n",
       "Normalized_Score       0\n",
       "dtype: int64"
      ]
     },
     "execution_count": 4,
     "metadata": {},
     "output_type": "execute_result"
    }
   ],
   "source": [
    "df.isna().sum()"
   ]
  },
  {
   "cell_type": "markdown",
   "id": "c675df5f",
   "metadata": {},
   "source": [
    "## Create two separate data frames for test and train"
   ]
  },
  {
   "cell_type": "code",
   "execution_count": 5,
   "id": "a13f1d80",
   "metadata": {},
   "outputs": [],
   "source": [
    "df_train, df_test = train_test_split(df, test_size=0.3, random_state=42)"
   ]
  },
  {
   "cell_type": "code",
   "execution_count": 6,
   "id": "d00a26c1",
   "metadata": {},
   "outputs": [
    {
     "name": "stdout",
     "output_type": "stream",
     "text": [
      "Original: 729764 rows\n",
      "Training: 510834 rows\n",
      "Testing: 218930 rows\n"
     ]
    }
   ],
   "source": [
    "print(f'Original: {len(df)} rows')\n",
    "print(f'Training: {len(df_train)} rows')\n",
    "print(f'Testing: {len(df_test)} rows')"
   ]
  },
  {
   "cell_type": "code",
   "execution_count": 7,
   "id": "9ebc2849",
   "metadata": {},
   "outputs": [
    {
     "data": {
      "text/html": [
       "<div>\n",
       "<style scoped>\n",
       "    .dataframe tbody tr th:only-of-type {\n",
       "        vertical-align: middle;\n",
       "    }\n",
       "\n",
       "    .dataframe tbody tr th {\n",
       "        vertical-align: top;\n",
       "    }\n",
       "\n",
       "    .dataframe thead th {\n",
       "        text-align: right;\n",
       "    }\n",
       "</style>\n",
       "<table border=\"1\" class=\"dataframe\">\n",
       "  <thead>\n",
       "    <tr style=\"text-align: right;\">\n",
       "      <th></th>\n",
       "      <th>longitude</th>\n",
       "      <th>latitude</th>\n",
       "      <th>Hour</th>\n",
       "      <th>Month</th>\n",
       "      <th>Day of Week</th>\n",
       "      <th>Cluster</th>\n",
       "      <th>total_weekday_trips</th>\n",
       "      <th>Normalized_Score</th>\n",
       "    </tr>\n",
       "  </thead>\n",
       "  <tbody>\n",
       "    <tr>\n",
       "      <th>168946</th>\n",
       "      <td>-73.989624</td>\n",
       "      <td>40.738411</td>\n",
       "      <td>19</td>\n",
       "      <td>4</td>\n",
       "      <td>2</td>\n",
       "      <td>448</td>\n",
       "      <td>72.0</td>\n",
       "      <td>0.857143</td>\n",
       "    </tr>\n",
       "    <tr>\n",
       "      <th>330208</th>\n",
       "      <td>-73.991035</td>\n",
       "      <td>40.749733</td>\n",
       "      <td>15</td>\n",
       "      <td>3</td>\n",
       "      <td>1</td>\n",
       "      <td>21</td>\n",
       "      <td>101.0</td>\n",
       "      <td>0.959184</td>\n",
       "    </tr>\n",
       "    <tr>\n",
       "      <th>133602</th>\n",
       "      <td>-74.002846</td>\n",
       "      <td>40.728085</td>\n",
       "      <td>20</td>\n",
       "      <td>6</td>\n",
       "      <td>2</td>\n",
       "      <td>309</td>\n",
       "      <td>66.0</td>\n",
       "      <td>0.795918</td>\n",
       "    </tr>\n",
       "    <tr>\n",
       "      <th>413934</th>\n",
       "      <td>-73.972382</td>\n",
       "      <td>40.786404</td>\n",
       "      <td>14</td>\n",
       "      <td>6</td>\n",
       "      <td>0</td>\n",
       "      <td>459</td>\n",
       "      <td>43.0</td>\n",
       "      <td>0.428571</td>\n",
       "    </tr>\n",
       "    <tr>\n",
       "      <th>705547</th>\n",
       "      <td>-73.991882</td>\n",
       "      <td>40.745335</td>\n",
       "      <td>0</td>\n",
       "      <td>3</td>\n",
       "      <td>3</td>\n",
       "      <td>121</td>\n",
       "      <td>34.0</td>\n",
       "      <td>0.244898</td>\n",
       "    </tr>\n",
       "  </tbody>\n",
       "</table>\n",
       "</div>"
      ],
      "text/plain": [
       "        longitude   latitude  Hour  Month  Day of Week  Cluster  \\\n",
       "168946 -73.989624  40.738411    19      4            2      448   \n",
       "330208 -73.991035  40.749733    15      3            1       21   \n",
       "133602 -74.002846  40.728085    20      6            2      309   \n",
       "413934 -73.972382  40.786404    14      6            0      459   \n",
       "705547 -73.991882  40.745335     0      3            3      121   \n",
       "\n",
       "        total_weekday_trips  Normalized_Score  \n",
       "168946                 72.0          0.857143  \n",
       "330208                101.0          0.959184  \n",
       "133602                 66.0          0.795918  \n",
       "413934                 43.0          0.428571  \n",
       "705547                 34.0          0.244898  "
      ]
     },
     "execution_count": 7,
     "metadata": {},
     "output_type": "execute_result"
    }
   ],
   "source": [
    "df_train.head()"
   ]
  },
  {
   "cell_type": "code",
   "execution_count": 8,
   "id": "49f28ddf",
   "metadata": {},
   "outputs": [
    {
     "data": {
      "text/html": [
       "<div>\n",
       "<style scoped>\n",
       "    .dataframe tbody tr th:only-of-type {\n",
       "        vertical-align: middle;\n",
       "    }\n",
       "\n",
       "    .dataframe tbody tr th {\n",
       "        vertical-align: top;\n",
       "    }\n",
       "\n",
       "    .dataframe thead th {\n",
       "        text-align: right;\n",
       "    }\n",
       "</style>\n",
       "<table border=\"1\" class=\"dataframe\">\n",
       "  <thead>\n",
       "    <tr style=\"text-align: right;\">\n",
       "      <th></th>\n",
       "      <th>longitude</th>\n",
       "      <th>latitude</th>\n",
       "      <th>Hour</th>\n",
       "      <th>Month</th>\n",
       "      <th>Day of Week</th>\n",
       "      <th>Cluster</th>\n",
       "      <th>total_weekday_trips</th>\n",
       "      <th>Normalized_Score</th>\n",
       "    </tr>\n",
       "  </thead>\n",
       "  <tbody>\n",
       "    <tr>\n",
       "      <th>109238</th>\n",
       "      <td>-73.988075</td>\n",
       "      <td>40.731880</td>\n",
       "      <td>6</td>\n",
       "      <td>1</td>\n",
       "      <td>3</td>\n",
       "      <td>432</td>\n",
       "      <td>9.0</td>\n",
       "      <td>0.000000</td>\n",
       "    </tr>\n",
       "    <tr>\n",
       "      <th>623983</th>\n",
       "      <td>-73.982239</td>\n",
       "      <td>40.775799</td>\n",
       "      <td>15</td>\n",
       "      <td>3</td>\n",
       "      <td>0</td>\n",
       "      <td>139</td>\n",
       "      <td>36.0</td>\n",
       "      <td>0.285714</td>\n",
       "    </tr>\n",
       "    <tr>\n",
       "      <th>324467</th>\n",
       "      <td>-73.989807</td>\n",
       "      <td>40.740929</td>\n",
       "      <td>18</td>\n",
       "      <td>6</td>\n",
       "      <td>0</td>\n",
       "      <td>141</td>\n",
       "      <td>90.0</td>\n",
       "      <td>0.938776</td>\n",
       "    </tr>\n",
       "    <tr>\n",
       "      <th>154553</th>\n",
       "      <td>-74.006432</td>\n",
       "      <td>40.733212</td>\n",
       "      <td>19</td>\n",
       "      <td>2</td>\n",
       "      <td>2</td>\n",
       "      <td>286</td>\n",
       "      <td>43.0</td>\n",
       "      <td>0.428571</td>\n",
       "    </tr>\n",
       "    <tr>\n",
       "      <th>310846</th>\n",
       "      <td>-73.995171</td>\n",
       "      <td>40.759384</td>\n",
       "      <td>1</td>\n",
       "      <td>2</td>\n",
       "      <td>3</td>\n",
       "      <td>211</td>\n",
       "      <td>17.0</td>\n",
       "      <td>0.040816</td>\n",
       "    </tr>\n",
       "  </tbody>\n",
       "</table>\n",
       "</div>"
      ],
      "text/plain": [
       "        longitude   latitude  Hour  Month  Day of Week  Cluster  \\\n",
       "109238 -73.988075  40.731880     6      1            3      432   \n",
       "623983 -73.982239  40.775799    15      3            0      139   \n",
       "324467 -73.989807  40.740929    18      6            0      141   \n",
       "154553 -74.006432  40.733212    19      2            2      286   \n",
       "310846 -73.995171  40.759384     1      2            3      211   \n",
       "\n",
       "        total_weekday_trips  Normalized_Score  \n",
       "109238                  9.0          0.000000  \n",
       "623983                 36.0          0.285714  \n",
       "324467                 90.0          0.938776  \n",
       "154553                 43.0          0.428571  \n",
       "310846                 17.0          0.040816  "
      ]
     },
     "execution_count": 8,
     "metadata": {},
     "output_type": "execute_result"
    }
   ],
   "source": [
    "df_test.head()"
   ]
  },
  {
   "cell_type": "markdown",
   "id": "7fce5055",
   "metadata": {},
   "source": [
    "## Begin testing using the training set"
   ]
  },
  {
   "cell_type": "code",
   "execution_count": 9,
   "id": "ff148422",
   "metadata": {},
   "outputs": [],
   "source": [
    "X = df_train[['latitude','longitude','Hour','Day of Week','Month']]\n",
    "y = df_train['Normalized_Score']"
   ]
  },
  {
   "cell_type": "code",
   "execution_count": 10,
   "id": "def9d115",
   "metadata": {},
   "outputs": [],
   "source": [
    "X_train, X_val, y_train, y_val = train_test_split(X, y, test_size=0.5, random_state=42)"
   ]
  },
  {
   "cell_type": "code",
   "execution_count": 11,
   "id": "99e01873",
   "metadata": {},
   "outputs": [],
   "source": [
    "model = RandomForestRegressor(random_state=42)"
   ]
  },
  {
   "cell_type": "code",
   "execution_count": 12,
   "id": "f0b259d7",
   "metadata": {},
   "outputs": [
    {
     "data": {
      "text/html": [
       "<style>#sk-container-id-1 {color: black;background-color: white;}#sk-container-id-1 pre{padding: 0;}#sk-container-id-1 div.sk-toggleable {background-color: white;}#sk-container-id-1 label.sk-toggleable__label {cursor: pointer;display: block;width: 100%;margin-bottom: 0;padding: 0.3em;box-sizing: border-box;text-align: center;}#sk-container-id-1 label.sk-toggleable__label-arrow:before {content: \"▸\";float: left;margin-right: 0.25em;color: #696969;}#sk-container-id-1 label.sk-toggleable__label-arrow:hover:before {color: black;}#sk-container-id-1 div.sk-estimator:hover label.sk-toggleable__label-arrow:before {color: black;}#sk-container-id-1 div.sk-toggleable__content {max-height: 0;max-width: 0;overflow: hidden;text-align: left;background-color: #f0f8ff;}#sk-container-id-1 div.sk-toggleable__content pre {margin: 0.2em;color: black;border-radius: 0.25em;background-color: #f0f8ff;}#sk-container-id-1 input.sk-toggleable__control:checked~div.sk-toggleable__content {max-height: 200px;max-width: 100%;overflow: auto;}#sk-container-id-1 input.sk-toggleable__control:checked~label.sk-toggleable__label-arrow:before {content: \"▾\";}#sk-container-id-1 div.sk-estimator input.sk-toggleable__control:checked~label.sk-toggleable__label {background-color: #d4ebff;}#sk-container-id-1 div.sk-label input.sk-toggleable__control:checked~label.sk-toggleable__label {background-color: #d4ebff;}#sk-container-id-1 input.sk-hidden--visually {border: 0;clip: rect(1px 1px 1px 1px);clip: rect(1px, 1px, 1px, 1px);height: 1px;margin: -1px;overflow: hidden;padding: 0;position: absolute;width: 1px;}#sk-container-id-1 div.sk-estimator {font-family: monospace;background-color: #f0f8ff;border: 1px dotted black;border-radius: 0.25em;box-sizing: border-box;margin-bottom: 0.5em;}#sk-container-id-1 div.sk-estimator:hover {background-color: #d4ebff;}#sk-container-id-1 div.sk-parallel-item::after {content: \"\";width: 100%;border-bottom: 1px solid gray;flex-grow: 1;}#sk-container-id-1 div.sk-label:hover label.sk-toggleable__label {background-color: #d4ebff;}#sk-container-id-1 div.sk-serial::before {content: \"\";position: absolute;border-left: 1px solid gray;box-sizing: border-box;top: 0;bottom: 0;left: 50%;z-index: 0;}#sk-container-id-1 div.sk-serial {display: flex;flex-direction: column;align-items: center;background-color: white;padding-right: 0.2em;padding-left: 0.2em;position: relative;}#sk-container-id-1 div.sk-item {position: relative;z-index: 1;}#sk-container-id-1 div.sk-parallel {display: flex;align-items: stretch;justify-content: center;background-color: white;position: relative;}#sk-container-id-1 div.sk-item::before, #sk-container-id-1 div.sk-parallel-item::before {content: \"\";position: absolute;border-left: 1px solid gray;box-sizing: border-box;top: 0;bottom: 0;left: 50%;z-index: -1;}#sk-container-id-1 div.sk-parallel-item {display: flex;flex-direction: column;z-index: 1;position: relative;background-color: white;}#sk-container-id-1 div.sk-parallel-item:first-child::after {align-self: flex-end;width: 50%;}#sk-container-id-1 div.sk-parallel-item:last-child::after {align-self: flex-start;width: 50%;}#sk-container-id-1 div.sk-parallel-item:only-child::after {width: 0;}#sk-container-id-1 div.sk-dashed-wrapped {border: 1px dashed gray;margin: 0 0.4em 0.5em 0.4em;box-sizing: border-box;padding-bottom: 0.4em;background-color: white;}#sk-container-id-1 div.sk-label label {font-family: monospace;font-weight: bold;display: inline-block;line-height: 1.2em;}#sk-container-id-1 div.sk-label-container {text-align: center;}#sk-container-id-1 div.sk-container {/* jupyter's `normalize.less` sets `[hidden] { display: none; }` but bootstrap.min.css set `[hidden] { display: none !important; }` so we also need the `!important` here to be able to override the default hidden behavior on the sphinx rendered scikit-learn.org. See: https://github.com/scikit-learn/scikit-learn/issues/21755 */display: inline-block !important;position: relative;}#sk-container-id-1 div.sk-text-repr-fallback {display: none;}</style><div id=\"sk-container-id-1\" class=\"sk-top-container\"><div class=\"sk-text-repr-fallback\"><pre>RandomForestRegressor(random_state=42)</pre><b>In a Jupyter environment, please rerun this cell to show the HTML representation or trust the notebook. <br />On GitHub, the HTML representation is unable to render, please try loading this page with nbviewer.org.</b></div><div class=\"sk-container\" hidden><div class=\"sk-item\"><div class=\"sk-estimator sk-toggleable\"><input class=\"sk-toggleable__control sk-hidden--visually\" id=\"sk-estimator-id-1\" type=\"checkbox\" checked><label for=\"sk-estimator-id-1\" class=\"sk-toggleable__label sk-toggleable__label-arrow\">RandomForestRegressor</label><div class=\"sk-toggleable__content\"><pre>RandomForestRegressor(random_state=42)</pre></div></div></div></div></div>"
      ],
      "text/plain": [
       "RandomForestRegressor(random_state=42)"
      ]
     },
     "execution_count": 12,
     "metadata": {},
     "output_type": "execute_result"
    }
   ],
   "source": [
    "model.fit(X_train, y_train)"
   ]
  },
  {
   "cell_type": "code",
   "execution_count": 13,
   "id": "3ca53c41",
   "metadata": {},
   "outputs": [],
   "source": [
    "y_val_pred = model.predict(X_val)"
   ]
  },
  {
   "cell_type": "code",
   "execution_count": 14,
   "id": "f98cdf36",
   "metadata": {},
   "outputs": [
    {
     "name": "stdout",
     "output_type": "stream",
     "text": [
      "Validation MSE: 0.007588381709630514\n"
     ]
    }
   ],
   "source": [
    "mse = mean_squared_error(y_val, y_val_pred)\n",
    "print('Validation MSE:', mse)"
   ]
  },
  {
   "cell_type": "code",
   "execution_count": 15,
   "id": "920caa6a",
   "metadata": {},
   "outputs": [
    {
     "name": "stdout",
     "output_type": "stream",
     "text": [
      "Validation R^2: 0.9132585902333791\n"
     ]
    }
   ],
   "source": [
    "r2 = r2_score(y_val, y_val_pred)\n",
    "print('Validation R^2:', r2)"
   ]
  },
  {
   "cell_type": "code",
   "execution_count": 16,
   "id": "402014dd",
   "metadata": {},
   "outputs": [
    {
     "name": "stdout",
     "output_type": "stream",
     "text": [
      "Validation MAE: 0.05278120701057648\n"
     ]
    }
   ],
   "source": [
    "mae = mean_absolute_error(y_val, y_val_pred)\n",
    "print('Validation MAE:', mae)"
   ]
  },
  {
   "cell_type": "markdown",
   "id": "e5006a53",
   "metadata": {},
   "source": [
    "## Test other models"
   ]
  },
  {
   "cell_type": "code",
   "execution_count": 17,
   "id": "ec84e8ed",
   "metadata": {},
   "outputs": [],
   "source": [
    "from xgboost import XGBRegressor\n",
    "\n",
    "models = [\n",
    "    ('Linear Regression', LinearRegression()),\n",
    "    ('Decision Tree', DecisionTreeRegressor(random_state=42)),\n",
    "    ('Random Forest', RandomForestRegressor(random_state=42)),\n",
    "    ('Gradient Boosting', GradientBoostingRegressor(random_state=42)),\n",
    "    ('Support Vector Regression', SVR()),\n",
    "    ('XGBoost', XGBRegressor(random_state=42))\n",
    "]"
   ]
  },
  {
   "cell_type": "code",
   "execution_count": 18,
   "id": "26388445",
   "metadata": {},
   "outputs": [],
   "source": [
    "results = []"
   ]
  },
  {
   "cell_type": "code",
   "execution_count": null,
   "id": "461e3d48",
   "metadata": {},
   "outputs": [
    {
     "name": "stderr",
     "output_type": "stream",
     "text": [
      "/Users/conormcelduff/opt/anaconda3/lib/python3.9/site-packages/sklearn/model_selection/_search.py:305: UserWarning: The total space of parameters 1 is smaller than n_iter=10. Running 1 iterations. For exhaustive searches, use GridSearchCV.\n",
      "  warnings.warn(\n",
      "/Users/conormcelduff/opt/anaconda3/lib/python3.9/site-packages/sklearn/model_selection/_search.py:305: UserWarning: The total space of parameters 1 is smaller than n_iter=10. Running 1 iterations. For exhaustive searches, use GridSearchCV.\n",
      "  warnings.warn(\n",
      "/Users/conormcelduff/opt/anaconda3/lib/python3.9/site-packages/sklearn/model_selection/_search.py:305: UserWarning: The total space of parameters 1 is smaller than n_iter=10. Running 1 iterations. For exhaustive searches, use GridSearchCV.\n",
      "  warnings.warn(\n",
      "/Users/conormcelduff/opt/anaconda3/lib/python3.9/site-packages/sklearn/model_selection/_search.py:305: UserWarning: The total space of parameters 1 is smaller than n_iter=10. Running 1 iterations. For exhaustive searches, use GridSearchCV.\n",
      "  warnings.warn(\n",
      "/Users/conormcelduff/opt/anaconda3/lib/python3.9/site-packages/sklearn/model_selection/_search.py:305: UserWarning: The total space of parameters 1 is smaller than n_iter=10. Running 1 iterations. For exhaustive searches, use GridSearchCV.\n",
      "  warnings.warn(\n"
     ]
    }
   ],
   "source": [
    "for name, model in models:\n",
    "    randomized_search = RandomizedSearchCV(estimator=model, param_distributions={}, n_iter=10, cv=3, scoring='neg_mean_absolute_error', n_jobs=-1, random_state=42)\n",
    "    randomized_search.fit(X_train, y_train)\n",
    "\n",
    "    best_model = randomized_search.best_estimator_\n",
    "\n",
    "    y_val_pred = best_model.predict(X_val)\n",
    "\n",
    "    mae = mean_absolute_error(y_val, y_val_pred)\n",
    "\n",
    "    results.append((name, mae))"
   ]
  },
  {
   "cell_type": "code",
   "execution_count": null,
   "id": "b316d216",
   "metadata": {},
   "outputs": [],
   "source": [
    "results.sort(key=lambda x: x[1])"
   ]
  },
  {
   "cell_type": "code",
   "execution_count": null,
   "id": "76623f8c",
   "metadata": {},
   "outputs": [],
   "source": [
    "for name, mae in results:\n",
    "    print(f'Model: {name}, Validation MAE: {mae}')"
   ]
  },
  {
   "cell_type": "markdown",
   "id": "0fa77989",
   "metadata": {},
   "source": [
    "## Hyperparameter tuning for best fit model"
   ]
  },
  {
   "cell_type": "markdown",
   "id": "8886f6e1",
   "metadata": {},
   "source": [
    "### Essential to prevent overfitting within the model"
   ]
  },
  {
   "cell_type": "code",
   "execution_count": 21,
   "id": "1757a5ac",
   "metadata": {},
   "outputs": [],
   "source": [
    "X_train, X_val, y_train, y_val = train_test_split(X, y, test_size=0.5, random_state=42)"
   ]
  },
  {
   "cell_type": "code",
   "execution_count": 22,
   "id": "60d7d5a1",
   "metadata": {},
   "outputs": [],
   "source": [
    "model = RandomForestRegressor(random_state=42)"
   ]
  },
  {
   "cell_type": "code",
   "execution_count": 23,
   "id": "084edb08",
   "metadata": {},
   "outputs": [
    {
     "data": {
      "text/html": [
       "<style>#sk-container-id-2 {color: black;background-color: white;}#sk-container-id-2 pre{padding: 0;}#sk-container-id-2 div.sk-toggleable {background-color: white;}#sk-container-id-2 label.sk-toggleable__label {cursor: pointer;display: block;width: 100%;margin-bottom: 0;padding: 0.3em;box-sizing: border-box;text-align: center;}#sk-container-id-2 label.sk-toggleable__label-arrow:before {content: \"▸\";float: left;margin-right: 0.25em;color: #696969;}#sk-container-id-2 label.sk-toggleable__label-arrow:hover:before {color: black;}#sk-container-id-2 div.sk-estimator:hover label.sk-toggleable__label-arrow:before {color: black;}#sk-container-id-2 div.sk-toggleable__content {max-height: 0;max-width: 0;overflow: hidden;text-align: left;background-color: #f0f8ff;}#sk-container-id-2 div.sk-toggleable__content pre {margin: 0.2em;color: black;border-radius: 0.25em;background-color: #f0f8ff;}#sk-container-id-2 input.sk-toggleable__control:checked~div.sk-toggleable__content {max-height: 200px;max-width: 100%;overflow: auto;}#sk-container-id-2 input.sk-toggleable__control:checked~label.sk-toggleable__label-arrow:before {content: \"▾\";}#sk-container-id-2 div.sk-estimator input.sk-toggleable__control:checked~label.sk-toggleable__label {background-color: #d4ebff;}#sk-container-id-2 div.sk-label input.sk-toggleable__control:checked~label.sk-toggleable__label {background-color: #d4ebff;}#sk-container-id-2 input.sk-hidden--visually {border: 0;clip: rect(1px 1px 1px 1px);clip: rect(1px, 1px, 1px, 1px);height: 1px;margin: -1px;overflow: hidden;padding: 0;position: absolute;width: 1px;}#sk-container-id-2 div.sk-estimator {font-family: monospace;background-color: #f0f8ff;border: 1px dotted black;border-radius: 0.25em;box-sizing: border-box;margin-bottom: 0.5em;}#sk-container-id-2 div.sk-estimator:hover {background-color: #d4ebff;}#sk-container-id-2 div.sk-parallel-item::after {content: \"\";width: 100%;border-bottom: 1px solid gray;flex-grow: 1;}#sk-container-id-2 div.sk-label:hover label.sk-toggleable__label {background-color: #d4ebff;}#sk-container-id-2 div.sk-serial::before {content: \"\";position: absolute;border-left: 1px solid gray;box-sizing: border-box;top: 0;bottom: 0;left: 50%;z-index: 0;}#sk-container-id-2 div.sk-serial {display: flex;flex-direction: column;align-items: center;background-color: white;padding-right: 0.2em;padding-left: 0.2em;position: relative;}#sk-container-id-2 div.sk-item {position: relative;z-index: 1;}#sk-container-id-2 div.sk-parallel {display: flex;align-items: stretch;justify-content: center;background-color: white;position: relative;}#sk-container-id-2 div.sk-item::before, #sk-container-id-2 div.sk-parallel-item::before {content: \"\";position: absolute;border-left: 1px solid gray;box-sizing: border-box;top: 0;bottom: 0;left: 50%;z-index: -1;}#sk-container-id-2 div.sk-parallel-item {display: flex;flex-direction: column;z-index: 1;position: relative;background-color: white;}#sk-container-id-2 div.sk-parallel-item:first-child::after {align-self: flex-end;width: 50%;}#sk-container-id-2 div.sk-parallel-item:last-child::after {align-self: flex-start;width: 50%;}#sk-container-id-2 div.sk-parallel-item:only-child::after {width: 0;}#sk-container-id-2 div.sk-dashed-wrapped {border: 1px dashed gray;margin: 0 0.4em 0.5em 0.4em;box-sizing: border-box;padding-bottom: 0.4em;background-color: white;}#sk-container-id-2 div.sk-label label {font-family: monospace;font-weight: bold;display: inline-block;line-height: 1.2em;}#sk-container-id-2 div.sk-label-container {text-align: center;}#sk-container-id-2 div.sk-container {/* jupyter's `normalize.less` sets `[hidden] { display: none; }` but bootstrap.min.css set `[hidden] { display: none !important; }` so we also need the `!important` here to be able to override the default hidden behavior on the sphinx rendered scikit-learn.org. See: https://github.com/scikit-learn/scikit-learn/issues/21755 */display: inline-block !important;position: relative;}#sk-container-id-2 div.sk-text-repr-fallback {display: none;}</style><div id=\"sk-container-id-2\" class=\"sk-top-container\"><div class=\"sk-text-repr-fallback\"><pre>RandomForestRegressor(random_state=42)</pre><b>In a Jupyter environment, please rerun this cell to show the HTML representation or trust the notebook. <br />On GitHub, the HTML representation is unable to render, please try loading this page with nbviewer.org.</b></div><div class=\"sk-container\" hidden><div class=\"sk-item\"><div class=\"sk-estimator sk-toggleable\"><input class=\"sk-toggleable__control sk-hidden--visually\" id=\"sk-estimator-id-2\" type=\"checkbox\" checked><label for=\"sk-estimator-id-2\" class=\"sk-toggleable__label sk-toggleable__label-arrow\">RandomForestRegressor</label><div class=\"sk-toggleable__content\"><pre>RandomForestRegressor(random_state=42)</pre></div></div></div></div></div>"
      ],
      "text/plain": [
       "RandomForestRegressor(random_state=42)"
      ]
     },
     "execution_count": 23,
     "metadata": {},
     "output_type": "execute_result"
    }
   ],
   "source": [
    "model.fit(X_train, y_train)"
   ]
  },
  {
   "cell_type": "code",
   "execution_count": 24,
   "id": "a0e7057a",
   "metadata": {},
   "outputs": [],
   "source": [
    "y_val_pred = model.predict(X_val)"
   ]
  },
  {
   "cell_type": "code",
   "execution_count": 25,
   "id": "4805b6ef",
   "metadata": {},
   "outputs": [],
   "source": [
    "param_grid = {\n",
    "    'n_estimators': [50, 100, 200],\n",
    "    'max_depth': [None, 10, 20, 30],\n",
    "    'min_samples_split': [2, 5, 10],\n",
    "}"
   ]
  },
  {
   "cell_type": "code",
   "execution_count": 26,
   "id": "48fb50f5",
   "metadata": {},
   "outputs": [],
   "source": [
    "# random_search = RandomizedSearchCV(estimator=model, param_distributions=param_grid, n_iter=100, cv=3, scoring='neg_mean_squared_error', verbose=2, random_state=42)\n",
    "# random_search.fit(X_train, y_train)"
   ]
  },
  {
   "cell_type": "code",
   "execution_count": 27,
   "id": "9591010a",
   "metadata": {},
   "outputs": [],
   "source": [
    "# best_params = random_search.best_params_\n",
    "# print(best_params)"
   ]
  },
  {
   "cell_type": "markdown",
   "id": "6078e4db",
   "metadata": {},
   "source": [
    "best_params = {'n_estimators': 200, 'min_samples_split': 2, 'max_depth': None}"
   ]
  },
  {
   "cell_type": "code",
   "execution_count": 28,
   "id": "9ebe75d4",
   "metadata": {},
   "outputs": [],
   "source": [
    "best_params = {'n_estimators': 200, 'min_samples_split': 2, 'max_depth': None}"
   ]
  },
  {
   "cell_type": "code",
   "execution_count": 31,
   "id": "a0798a18",
   "metadata": {},
   "outputs": [],
   "source": [
    "X_test = df_test[['latitude','longitude','Hour','Day of Week','Month']]\n",
    "y_test = df_test['Normalized_Score']"
   ]
  },
  {
   "cell_type": "code",
   "execution_count": 32,
   "id": "e635f646",
   "metadata": {},
   "outputs": [],
   "source": [
    "# best_model = random_search.best_estimator_\n",
    "\n",
    "# y_pred = best_model.predict(X_test)\n",
    "# test_mse = mean_squared_error(y_test, y_pred)\n",
    "# print('Test MSE:', test_mse)"
   ]
  },
  {
   "cell_type": "code",
   "execution_count": 33,
   "id": "f8a1657d",
   "metadata": {},
   "outputs": [],
   "source": [
    "# y_pred = best_model.predict(X_test)"
   ]
  },
  {
   "cell_type": "markdown",
   "id": "eaaf4cd5",
   "metadata": {},
   "source": [
    "## Use parameters for best fit model"
   ]
  },
  {
   "cell_type": "code",
   "execution_count": 34,
   "id": "111de76c",
   "metadata": {},
   "outputs": [],
   "source": [
    "best_model = RandomForestRegressor(**best_params, random_state=42)"
   ]
  },
  {
   "cell_type": "code",
   "execution_count": 35,
   "id": "3bcc9ba5",
   "metadata": {},
   "outputs": [
    {
     "data": {
      "text/plain": [
       "(255417, 5)"
      ]
     },
     "execution_count": 35,
     "metadata": {},
     "output_type": "execute_result"
    }
   ],
   "source": [
    "X_train.shape"
   ]
  },
  {
   "cell_type": "code",
   "execution_count": 36,
   "id": "d370b9d9",
   "metadata": {},
   "outputs": [
    {
     "data": {
      "text/plain": [
       "(255417,)"
      ]
     },
     "execution_count": 36,
     "metadata": {},
     "output_type": "execute_result"
    }
   ],
   "source": [
    "y_train.shape"
   ]
  },
  {
   "cell_type": "code",
   "execution_count": 37,
   "id": "b7b9dc0a",
   "metadata": {},
   "outputs": [],
   "source": [
    "# Join training and validation sets\n",
    "X_full_train = pd.concat([X_train, X_val])\n",
    "y_full_train = pd.concat([y_train, y_val])"
   ]
  },
  {
   "cell_type": "code",
   "execution_count": 38,
   "id": "0a60aa80",
   "metadata": {},
   "outputs": [
    {
     "data": {
      "text/html": [
       "<style>#sk-container-id-3 {color: black;background-color: white;}#sk-container-id-3 pre{padding: 0;}#sk-container-id-3 div.sk-toggleable {background-color: white;}#sk-container-id-3 label.sk-toggleable__label {cursor: pointer;display: block;width: 100%;margin-bottom: 0;padding: 0.3em;box-sizing: border-box;text-align: center;}#sk-container-id-3 label.sk-toggleable__label-arrow:before {content: \"▸\";float: left;margin-right: 0.25em;color: #696969;}#sk-container-id-3 label.sk-toggleable__label-arrow:hover:before {color: black;}#sk-container-id-3 div.sk-estimator:hover label.sk-toggleable__label-arrow:before {color: black;}#sk-container-id-3 div.sk-toggleable__content {max-height: 0;max-width: 0;overflow: hidden;text-align: left;background-color: #f0f8ff;}#sk-container-id-3 div.sk-toggleable__content pre {margin: 0.2em;color: black;border-radius: 0.25em;background-color: #f0f8ff;}#sk-container-id-3 input.sk-toggleable__control:checked~div.sk-toggleable__content {max-height: 200px;max-width: 100%;overflow: auto;}#sk-container-id-3 input.sk-toggleable__control:checked~label.sk-toggleable__label-arrow:before {content: \"▾\";}#sk-container-id-3 div.sk-estimator input.sk-toggleable__control:checked~label.sk-toggleable__label {background-color: #d4ebff;}#sk-container-id-3 div.sk-label input.sk-toggleable__control:checked~label.sk-toggleable__label {background-color: #d4ebff;}#sk-container-id-3 input.sk-hidden--visually {border: 0;clip: rect(1px 1px 1px 1px);clip: rect(1px, 1px, 1px, 1px);height: 1px;margin: -1px;overflow: hidden;padding: 0;position: absolute;width: 1px;}#sk-container-id-3 div.sk-estimator {font-family: monospace;background-color: #f0f8ff;border: 1px dotted black;border-radius: 0.25em;box-sizing: border-box;margin-bottom: 0.5em;}#sk-container-id-3 div.sk-estimator:hover {background-color: #d4ebff;}#sk-container-id-3 div.sk-parallel-item::after {content: \"\";width: 100%;border-bottom: 1px solid gray;flex-grow: 1;}#sk-container-id-3 div.sk-label:hover label.sk-toggleable__label {background-color: #d4ebff;}#sk-container-id-3 div.sk-serial::before {content: \"\";position: absolute;border-left: 1px solid gray;box-sizing: border-box;top: 0;bottom: 0;left: 50%;z-index: 0;}#sk-container-id-3 div.sk-serial {display: flex;flex-direction: column;align-items: center;background-color: white;padding-right: 0.2em;padding-left: 0.2em;position: relative;}#sk-container-id-3 div.sk-item {position: relative;z-index: 1;}#sk-container-id-3 div.sk-parallel {display: flex;align-items: stretch;justify-content: center;background-color: white;position: relative;}#sk-container-id-3 div.sk-item::before, #sk-container-id-3 div.sk-parallel-item::before {content: \"\";position: absolute;border-left: 1px solid gray;box-sizing: border-box;top: 0;bottom: 0;left: 50%;z-index: -1;}#sk-container-id-3 div.sk-parallel-item {display: flex;flex-direction: column;z-index: 1;position: relative;background-color: white;}#sk-container-id-3 div.sk-parallel-item:first-child::after {align-self: flex-end;width: 50%;}#sk-container-id-3 div.sk-parallel-item:last-child::after {align-self: flex-start;width: 50%;}#sk-container-id-3 div.sk-parallel-item:only-child::after {width: 0;}#sk-container-id-3 div.sk-dashed-wrapped {border: 1px dashed gray;margin: 0 0.4em 0.5em 0.4em;box-sizing: border-box;padding-bottom: 0.4em;background-color: white;}#sk-container-id-3 div.sk-label label {font-family: monospace;font-weight: bold;display: inline-block;line-height: 1.2em;}#sk-container-id-3 div.sk-label-container {text-align: center;}#sk-container-id-3 div.sk-container {/* jupyter's `normalize.less` sets `[hidden] { display: none; }` but bootstrap.min.css set `[hidden] { display: none !important; }` so we also need the `!important` here to be able to override the default hidden behavior on the sphinx rendered scikit-learn.org. See: https://github.com/scikit-learn/scikit-learn/issues/21755 */display: inline-block !important;position: relative;}#sk-container-id-3 div.sk-text-repr-fallback {display: none;}</style><div id=\"sk-container-id-3\" class=\"sk-top-container\"><div class=\"sk-text-repr-fallback\"><pre>RandomForestRegressor(n_estimators=200, random_state=42)</pre><b>In a Jupyter environment, please rerun this cell to show the HTML representation or trust the notebook. <br />On GitHub, the HTML representation is unable to render, please try loading this page with nbviewer.org.</b></div><div class=\"sk-container\" hidden><div class=\"sk-item\"><div class=\"sk-estimator sk-toggleable\"><input class=\"sk-toggleable__control sk-hidden--visually\" id=\"sk-estimator-id-3\" type=\"checkbox\" checked><label for=\"sk-estimator-id-3\" class=\"sk-toggleable__label sk-toggleable__label-arrow\">RandomForestRegressor</label><div class=\"sk-toggleable__content\"><pre>RandomForestRegressor(n_estimators=200, random_state=42)</pre></div></div></div></div></div>"
      ],
      "text/plain": [
       "RandomForestRegressor(n_estimators=200, random_state=42)"
      ]
     },
     "execution_count": 38,
     "metadata": {},
     "output_type": "execute_result"
    }
   ],
   "source": [
    "best_model.fit(X_full_train, y_full_train)"
   ]
  },
  {
   "cell_type": "code",
   "execution_count": 39,
   "id": "e6461103",
   "metadata": {},
   "outputs": [],
   "source": [
    "X_test = df_test[['latitude','longitude','Hour','Day of Week','Month']]\n",
    "y_test = df_test['Normalized_Score']"
   ]
  },
  {
   "cell_type": "markdown",
   "id": "28c901d2",
   "metadata": {},
   "source": [
    "## Predict off the original test set"
   ]
  },
  {
   "cell_type": "code",
   "execution_count": 40,
   "id": "c3c205fe",
   "metadata": {},
   "outputs": [],
   "source": [
    "y_test_pred = best_model.predict(X_test)"
   ]
  },
  {
   "cell_type": "code",
   "execution_count": 41,
   "id": "ef08748e",
   "metadata": {},
   "outputs": [
    {
     "name": "stdout",
     "output_type": "stream",
     "text": [
      "Test MSE: 0.0048807850405485735\n"
     ]
    }
   ],
   "source": [
    "mse_test = mean_squared_error(y_test, y_test_pred)\n",
    "print('Test MSE:', mse_test)"
   ]
  },
  {
   "cell_type": "markdown",
   "id": "81388ebd",
   "metadata": {},
   "source": [
    "## Test random instances to check the model's ability to predict"
   ]
  },
  {
   "cell_type": "code",
   "execution_count": 42,
   "id": "b773a42f",
   "metadata": {},
   "outputs": [],
   "source": [
    "new_data = pd.DataFrame({\n",
    "    'latitude': [40.798313, 40.780071, 40.743660, 40.741692, 40.779316],\n",
    "    'longitude': [-73.959755, -73.955193, -73.972496, -73.980965, -73.944710],\n",
    "    'Hour': [14, 16, 17, 21, 19],\n",
    "    'Day of Week': [3, 2, 3, 0, 0],\n",
    "    'Month': [1, 3, 4, 5, 2]\n",
    "})"
   ]
  },
  {
   "cell_type": "code",
   "execution_count": 43,
   "id": "0f3dd2a9",
   "metadata": {},
   "outputs": [
    {
     "name": "stdout",
     "output_type": "stream",
     "text": [
      "[0.41642857 0.59183673 0.2177551  0.33540816 0.54816327]\n"
     ]
    }
   ],
   "source": [
    "predictions = best_model.predict(new_data)\n",
    "print(predictions)"
   ]
  },
  {
   "cell_type": "markdown",
   "id": "fde1d98a",
   "metadata": {},
   "source": [
    "## More testing needed for optimal model"
   ]
  },
  {
   "cell_type": "markdown",
   "id": "2ae6decf",
   "metadata": {},
   "source": [
    "### Increase the number of parameters to ensure testing coverage "
   ]
  },
  {
   "cell_type": "code",
   "execution_count": 44,
   "id": "4d237359",
   "metadata": {},
   "outputs": [],
   "source": [
    "param_grid = {\n",
    "    'n_estimators': [50, 100, 150, 200, 250],\n",
    "    'max_depth': [None, 5, 10, 15, 20, 25, 30],\n",
    "    'min_samples_split': [2, 3, 4, 5, 6, 7, 8, 9, 10],\n",
    "    'min_samples_leaf': [1, 2, 3, 4, 5],\n",
    "    'max_features': ['auto', 'sqrt', 'log2']\n",
    "}"
   ]
  },
  {
   "cell_type": "code",
   "execution_count": 45,
   "id": "46428203",
   "metadata": {
    "scrolled": true
   },
   "outputs": [],
   "source": [
    "# grid_search = GridSearchCV(estimator=model, param_grid=param_grid, cv=3, scoring='neg_mean_squared_error', verbose=2)\n",
    "# grid_search.fit(X_train, y_train)"
   ]
  },
  {
   "cell_type": "markdown",
   "id": "fd3b27a9",
   "metadata": {},
   "source": [
    "Best parameters: {'max_depth': 10, 'max_features': 'auto', 'min_samples_leaf': 1, 'min_samples_split': 2, 'n_estimators': 150}"
   ]
  },
  {
   "cell_type": "code",
   "execution_count": 46,
   "id": "6d9dfa81",
   "metadata": {},
   "outputs": [],
   "source": [
    "new_params = {\n",
    "    'max_depth': 10, \n",
    "    'max_features': 'auto', \n",
    "    'min_samples_leaf': 1, \n",
    "    'min_samples_split': 2, \n",
    "    'n_estimators': 150\n",
    "}"
   ]
  },
  {
   "cell_type": "code",
   "execution_count": 47,
   "id": "cf00f93c",
   "metadata": {},
   "outputs": [
    {
     "name": "stdout",
     "output_type": "stream",
     "text": [
      "Best parameters: {'max_depth': 10, 'max_features': 'auto', 'min_samples_leaf': 1, 'min_samples_split': 2, 'n_estimators': 150}\n"
     ]
    }
   ],
   "source": [
    "# best_params = grid_search.best_params_\n",
    "print('Best parameters:', new_params)"
   ]
  },
  {
   "cell_type": "markdown",
   "id": "d501933e",
   "metadata": {},
   "source": [
    "## Best parameters for Random Forest Regressor "
   ]
  },
  {
   "cell_type": "code",
   "execution_count": 48,
   "id": "d38288a9",
   "metadata": {},
   "outputs": [],
   "source": [
    "best_model = RandomForestRegressor(**new_params, random_state=42)"
   ]
  },
  {
   "cell_type": "code",
   "execution_count": 49,
   "id": "e9a5071a",
   "metadata": {},
   "outputs": [],
   "source": [
    "X_full_train = pd.concat([X_train, X_val])\n",
    "y_full_train = pd.concat([y_train, y_val])"
   ]
  },
  {
   "cell_type": "code",
   "execution_count": 50,
   "id": "43501dd6",
   "metadata": {},
   "outputs": [
    {
     "name": "stderr",
     "output_type": "stream",
     "text": [
      "/Users/conormcelduff/opt/anaconda3/lib/python3.9/site-packages/sklearn/ensemble/_forest.py:413: FutureWarning: `max_features='auto'` has been deprecated in 1.1 and will be removed in 1.3. To keep the past behaviour, explicitly set `max_features=1.0` or remove this parameter as it is also the default value for RandomForestRegressors and ExtraTreesRegressors.\n",
      "  warn(\n"
     ]
    },
    {
     "data": {
      "text/html": [
       "<style>#sk-container-id-4 {color: black;background-color: white;}#sk-container-id-4 pre{padding: 0;}#sk-container-id-4 div.sk-toggleable {background-color: white;}#sk-container-id-4 label.sk-toggleable__label {cursor: pointer;display: block;width: 100%;margin-bottom: 0;padding: 0.3em;box-sizing: border-box;text-align: center;}#sk-container-id-4 label.sk-toggleable__label-arrow:before {content: \"▸\";float: left;margin-right: 0.25em;color: #696969;}#sk-container-id-4 label.sk-toggleable__label-arrow:hover:before {color: black;}#sk-container-id-4 div.sk-estimator:hover label.sk-toggleable__label-arrow:before {color: black;}#sk-container-id-4 div.sk-toggleable__content {max-height: 0;max-width: 0;overflow: hidden;text-align: left;background-color: #f0f8ff;}#sk-container-id-4 div.sk-toggleable__content pre {margin: 0.2em;color: black;border-radius: 0.25em;background-color: #f0f8ff;}#sk-container-id-4 input.sk-toggleable__control:checked~div.sk-toggleable__content {max-height: 200px;max-width: 100%;overflow: auto;}#sk-container-id-4 input.sk-toggleable__control:checked~label.sk-toggleable__label-arrow:before {content: \"▾\";}#sk-container-id-4 div.sk-estimator input.sk-toggleable__control:checked~label.sk-toggleable__label {background-color: #d4ebff;}#sk-container-id-4 div.sk-label input.sk-toggleable__control:checked~label.sk-toggleable__label {background-color: #d4ebff;}#sk-container-id-4 input.sk-hidden--visually {border: 0;clip: rect(1px 1px 1px 1px);clip: rect(1px, 1px, 1px, 1px);height: 1px;margin: -1px;overflow: hidden;padding: 0;position: absolute;width: 1px;}#sk-container-id-4 div.sk-estimator {font-family: monospace;background-color: #f0f8ff;border: 1px dotted black;border-radius: 0.25em;box-sizing: border-box;margin-bottom: 0.5em;}#sk-container-id-4 div.sk-estimator:hover {background-color: #d4ebff;}#sk-container-id-4 div.sk-parallel-item::after {content: \"\";width: 100%;border-bottom: 1px solid gray;flex-grow: 1;}#sk-container-id-4 div.sk-label:hover label.sk-toggleable__label {background-color: #d4ebff;}#sk-container-id-4 div.sk-serial::before {content: \"\";position: absolute;border-left: 1px solid gray;box-sizing: border-box;top: 0;bottom: 0;left: 50%;z-index: 0;}#sk-container-id-4 div.sk-serial {display: flex;flex-direction: column;align-items: center;background-color: white;padding-right: 0.2em;padding-left: 0.2em;position: relative;}#sk-container-id-4 div.sk-item {position: relative;z-index: 1;}#sk-container-id-4 div.sk-parallel {display: flex;align-items: stretch;justify-content: center;background-color: white;position: relative;}#sk-container-id-4 div.sk-item::before, #sk-container-id-4 div.sk-parallel-item::before {content: \"\";position: absolute;border-left: 1px solid gray;box-sizing: border-box;top: 0;bottom: 0;left: 50%;z-index: -1;}#sk-container-id-4 div.sk-parallel-item {display: flex;flex-direction: column;z-index: 1;position: relative;background-color: white;}#sk-container-id-4 div.sk-parallel-item:first-child::after {align-self: flex-end;width: 50%;}#sk-container-id-4 div.sk-parallel-item:last-child::after {align-self: flex-start;width: 50%;}#sk-container-id-4 div.sk-parallel-item:only-child::after {width: 0;}#sk-container-id-4 div.sk-dashed-wrapped {border: 1px dashed gray;margin: 0 0.4em 0.5em 0.4em;box-sizing: border-box;padding-bottom: 0.4em;background-color: white;}#sk-container-id-4 div.sk-label label {font-family: monospace;font-weight: bold;display: inline-block;line-height: 1.2em;}#sk-container-id-4 div.sk-label-container {text-align: center;}#sk-container-id-4 div.sk-container {/* jupyter's `normalize.less` sets `[hidden] { display: none; }` but bootstrap.min.css set `[hidden] { display: none !important; }` so we also need the `!important` here to be able to override the default hidden behavior on the sphinx rendered scikit-learn.org. See: https://github.com/scikit-learn/scikit-learn/issues/21755 */display: inline-block !important;position: relative;}#sk-container-id-4 div.sk-text-repr-fallback {display: none;}</style><div id=\"sk-container-id-4\" class=\"sk-top-container\"><div class=\"sk-text-repr-fallback\"><pre>RandomForestRegressor(max_depth=10, max_features=&#x27;auto&#x27;, n_estimators=150,\n",
       "                      random_state=42)</pre><b>In a Jupyter environment, please rerun this cell to show the HTML representation or trust the notebook. <br />On GitHub, the HTML representation is unable to render, please try loading this page with nbviewer.org.</b></div><div class=\"sk-container\" hidden><div class=\"sk-item\"><div class=\"sk-estimator sk-toggleable\"><input class=\"sk-toggleable__control sk-hidden--visually\" id=\"sk-estimator-id-4\" type=\"checkbox\" checked><label for=\"sk-estimator-id-4\" class=\"sk-toggleable__label sk-toggleable__label-arrow\">RandomForestRegressor</label><div class=\"sk-toggleable__content\"><pre>RandomForestRegressor(max_depth=10, max_features=&#x27;auto&#x27;, n_estimators=150,\n",
       "                      random_state=42)</pre></div></div></div></div></div>"
      ],
      "text/plain": [
       "RandomForestRegressor(max_depth=10, max_features='auto', n_estimators=150,\n",
       "                      random_state=42)"
      ]
     },
     "execution_count": 50,
     "metadata": {},
     "output_type": "execute_result"
    }
   ],
   "source": [
    "best_model.fit(X_full_train, y_full_train)"
   ]
  },
  {
   "cell_type": "markdown",
   "id": "b6a9ce50",
   "metadata": {},
   "source": [
    "## Predict off original test set "
   ]
  },
  {
   "cell_type": "code",
   "execution_count": 51,
   "id": "80189132",
   "metadata": {},
   "outputs": [],
   "source": [
    "y_test_pred = y_test_pred = best_model.predict(X_test)"
   ]
  },
  {
   "cell_type": "code",
   "execution_count": 52,
   "id": "c294870f",
   "metadata": {},
   "outputs": [
    {
     "name": "stdout",
     "output_type": "stream",
     "text": [
      "Test MSE: 0.042619903004027564\n"
     ]
    }
   ],
   "source": [
    "mse_test = mean_squared_error(y_test, y_test_pred)\n",
    "print('Test MSE:', mse_test)"
   ]
  },
  {
   "cell_type": "code",
   "execution_count": 53,
   "id": "2b6244e6",
   "metadata": {},
   "outputs": [],
   "source": [
    "new_data = pd.DataFrame({\n",
    "    'latitude': [40.759011, 40.775123, 40.728456, 40.766789, 40.731112, 40.716445, 40.780778, 40.743210, 40.762433, 40.749956],\n",
    "    'longitude': [-73.981321, -73.965432, -73.988543, -73.949654, -73.993765, -73.998876, -73.955987, -73.970098, -73.959209, -73.973320],\n",
    "    'Hour': [9, 14, 15, 18, 19, 11, 13, 16, 20, 22],\n",
    "    'Day of Week': [4, 2, 3, 5, 0, 6, 1, 2, 5, 4],\n",
    "    'Month': [2, 6, 5, 8, 7, 9, 2, 1, 5, 11]\n",
    "})"
   ]
  },
  {
   "cell_type": "code",
   "execution_count": 54,
   "id": "db3b4e0b",
   "metadata": {},
   "outputs": [
    {
     "name": "stdout",
     "output_type": "stream",
     "text": [
      "[0.50202506 0.47541725 0.30085949 0.66586775 0.51486628 0.18088916\n",
      " 0.49944208 0.36410399 0.4596231  0.77180061]\n"
     ]
    }
   ],
   "source": [
    "predictions = best_model.predict(new_data)\n",
    "print(predictions)"
   ]
  },
  {
   "cell_type": "markdown",
   "id": "41d101aa",
   "metadata": {},
   "source": [
    "## Feature Importance "
   ]
  },
  {
   "cell_type": "code",
   "execution_count": 55,
   "id": "8ed9339a",
   "metadata": {},
   "outputs": [
    {
     "name": "stdout",
     "output_type": "stream",
     "text": [
      "Feature importances:\n",
      "\n",
      "latitude: 0.3601765578313988\n",
      "longitude: 0.32198378596947425\n",
      "Hour: 0.29176819689709516\n",
      "Day of Week: 0.025955844720098525\n",
      "Month: 0.00011561458193326206\n"
     ]
    }
   ],
   "source": [
    "feature_importance = best_model.feature_importances_\n",
    "print(\"Feature importances:\\n\")\n",
    "for i, imp in enumerate(feature_importance):\n",
    "    print(f\"{X.columns[i]}: {imp}\")"
   ]
  },
  {
   "cell_type": "markdown",
   "id": "ca3d45b5",
   "metadata": {},
   "source": [
    "## Residual Analysis "
   ]
  },
  {
   "cell_type": "code",
   "execution_count": 56,
   "id": "05a03bc2",
   "metadata": {},
   "outputs": [
    {
     "data": {
      "image/png": "[encoded data removed]",
      "text/plain": [
       "<Figure size 640x480 with 1 Axes>"
      ]
     },
     "metadata": {},
     "output_type": "display_data"
    }
   ],
   "source": [
    "y_pred = best_model.predict(X_test)\n",
    "\n",
    "residuals = y_test - y_pred\n",
    "\n",
    "plt.scatter(y_pred, residuals)\n",
    "plt.xlabel('Predicted')\n",
    "plt.ylabel('Residual')\n",
    "plt.axhline(y=0)\n",
    "plt.title('Residual vs. Predicted')\n",
    "plt.show()"
   ]
  },
  {
   "cell_type": "markdown",
   "id": "73df5f03",
   "metadata": {},
   "source": [
    "## Predicted vs Actual Plot"
   ]
  },
  {
   "cell_type": "code",
   "execution_count": 57,
   "id": "a430baa3",
   "metadata": {},
   "outputs": [
    {
     "data": {
      "image/png": "[encoded data removed]",
      "text/plain": [
       "<Figure size 640x480 with 1 Axes>"
      ]
     },
     "metadata": {},
     "output_type": "display_data"
    }
   ],
   "source": [
    "plt.scatter(y_test, y_pred)\n",
    "plt.xlabel('Actual')\n",
    "plt.ylabel('Predicted')\n",
    "plt.title('Actual vs. Predicted')\n",
    "plt.plot([min(y_test), max(y_test)], [min(y_test), max(y_test)], color='red')  \n",
    "plt.show()"
   ]
  },
  {
   "cell_type": "markdown",
   "id": "5fd132f5",
   "metadata": {},
   "source": [
    "## Cross Validation"
   ]
  },
  {
   "cell_type": "code",
   "execution_count": 58,
   "id": "b86ce263",
   "metadata": {},
   "outputs": [
    {
     "name": "stderr",
     "output_type": "stream",
     "text": [
      "/Users/conormcelduff/opt/anaconda3/lib/python3.9/site-packages/sklearn/ensemble/_forest.py:413: FutureWarning: `max_features='auto'` has been deprecated in 1.1 and will be removed in 1.3. To keep the past behaviour, explicitly set `max_features=1.0` or remove this parameter as it is also the default value for RandomForestRegressors and ExtraTreesRegressors.\n",
      "  warn(\n",
      "/Users/conormcelduff/opt/anaconda3/lib/python3.9/site-packages/sklearn/ensemble/_forest.py:413: FutureWarning: `max_features='auto'` has been deprecated in 1.1 and will be removed in 1.3. To keep the past behaviour, explicitly set `max_features=1.0` or remove this parameter as it is also the default value for RandomForestRegressors and ExtraTreesRegressors.\n",
      "  warn(\n",
      "/Users/conormcelduff/opt/anaconda3/lib/python3.9/site-packages/sklearn/ensemble/_forest.py:413: FutureWarning: `max_features='auto'` has been deprecated in 1.1 and will be removed in 1.3. To keep the past behaviour, explicitly set `max_features=1.0` or remove this parameter as it is also the default value for RandomForestRegressors and ExtraTreesRegressors.\n",
      "  warn(\n",
      "/Users/conormcelduff/opt/anaconda3/lib/python3.9/site-packages/sklearn/ensemble/_forest.py:413: FutureWarning: `max_features='auto'` has been deprecated in 1.1 and will be removed in 1.3. To keep the past behaviour, explicitly set `max_features=1.0` or remove this parameter as it is also the default value for RandomForestRegressors and ExtraTreesRegressors.\n",
      "  warn(\n",
      "/Users/conormcelduff/opt/anaconda3/lib/python3.9/site-packages/sklearn/ensemble/_forest.py:413: FutureWarning: `max_features='auto'` has been deprecated in 1.1 and will be removed in 1.3. To keep the past behaviour, explicitly set `max_features=1.0` or remove this parameter as it is also the default value for RandomForestRegressors and ExtraTreesRegressors.\n",
      "  warn(\n"
     ]
    },
    {
     "name": "stdout",
     "output_type": "stream",
     "text": [
      "Scores: [0.20620228 0.20573611 0.20604101 0.20554335 0.20781572]\n",
      "Mean: 0.20626769692236038\n",
      "Standard Deviation: 0.0008073793226150427\n"
     ]
    }
   ],
   "source": [
    "from sklearn.model_selection import cross_val_score\n",
    "\n",
    "scores = cross_val_score(best_model, X, y, scoring='neg_mean_squared_error', cv=5)\n",
    "\n",
    "rmse_scores = np.sqrt(-scores)\n",
    "\n",
    "print('Scores:', rmse_scores)\n",
    "print('Mean:', rmse_scores.mean())\n",
    "print('Standard Deviation:', rmse_scores.std())"
   ]
  },
  {
   "cell_type": "markdown",
   "id": "ad9a1251",
   "metadata": {},
   "source": [
    "## Multicollinearity"
   ]
  },
  {
   "cell_type": "code",
   "execution_count": 59,
   "id": "1d269c1e",
   "metadata": {},
   "outputs": [
    {
     "name": "stdout",
     "output_type": "stream",
     "text": [
      "     variables           VIF\n",
      "0        const  8.875634e+07\n",
      "1     latitude  2.362465e+00\n",
      "2    longitude  2.362814e+00\n",
      "3         Hour  1.003332e+00\n",
      "4  Day of Week  1.000899e+00\n",
      "5        Month  1.000419e+00\n"
     ]
    }
   ],
   "source": [
    "import statsmodels.api as sm\n",
    "from statsmodels.stats.outliers_influence import variance_inflation_factor\n",
    "\n",
    "X_const = sm.add_constant(X)\n",
    "\n",
    "vif = pd.DataFrame()\n",
    "vif[\"variables\"] = X_const.columns\n",
    "vif[\"VIF\"] = [variance_inflation_factor(X_const.values, i) for i in range(X_const.shape[1])]\n",
    "\n",
    "print(vif)"
   ]
  },
  {
   "cell_type": "markdown",
   "id": "adc0281d",
   "metadata": {},
   "source": [
    "## Statistical Tests"
   ]
  },
  {
   "cell_type": "code",
   "execution_count": 60,
   "id": "3a54cc21",
   "metadata": {},
   "outputs": [
    {
     "name": "stdout",
     "output_type": "stream",
     "text": [
      "Feature: 0, Score: 0.36018\n",
      "Feature: 1, Score: 0.32198\n",
      "Feature: 2, Score: 0.29177\n",
      "Feature: 3, Score: 0.02596\n",
      "Feature: 4, Score: 0.00012\n"
     ]
    },
    {
     "data": {
      "image/png": "[encoded data removed]",
      "text/plain": [
       "<Figure size 640x480 with 1 Axes>"
      ]
     },
     "metadata": {},
     "output_type": "display_data"
    }
   ],
   "source": [
    "importance = best_model.feature_importances_\n",
    "for i,j in enumerate(importance):\n",
    "    print('Feature: %0d, Score: %.5f' % (i,j))\n",
    "\n",
    "plt.bar([x for x in range(len(importance))], importance)\n",
    "plt.show()"
   ]
  },
  {
   "cell_type": "markdown",
   "id": "c9e8909b",
   "metadata": {},
   "source": [
    "## Coefficient of Determination (R-Squared):"
   ]
  },
  {
   "cell_type": "code",
   "execution_count": 61,
   "id": "5a43a5dd",
   "metadata": {},
   "outputs": [
    {
     "name": "stdout",
     "output_type": "stream",
     "text": [
      "R2 score: 0.5112533459410008\n"
     ]
    }
   ],
   "source": [
    "from sklearn.metrics import r2_score\n",
    "\n",
    "y_pred = best_model.predict(X_test)\n",
    "score = r2_score(y_test, y_pred)\n",
    "\n",
    "print('R2 score:', score)"
   ]
  },
  {
   "cell_type": "markdown",
   "id": "732b8ab7",
   "metadata": {},
   "source": [
    "## Error Analysis"
   ]
  },
  {
   "cell_type": "code",
   "execution_count": 62,
   "id": "65d0cbc3",
   "metadata": {},
   "outputs": [
    {
     "name": "stdout",
     "output_type": "stream",
     "text": [
      "count    218930.000000\n",
      "mean          0.001052\n",
      "std           0.206444\n",
      "min          -0.972510\n",
      "25%          -0.135762\n",
      "50%           0.006276\n",
      "75%           0.148801\n",
      "max           0.938236\n",
      "Name: Normalized_Score, dtype: float64\n"
     ]
    },
    {
     "data": {
      "image/png": "[encoded data removed]",
      "text/plain": [
       "<Figure size 640x480 with 1 Axes>"
      ]
     },
     "metadata": {},
     "output_type": "display_data"
    },
    {
     "data": {
      "image/png": "[encoded data removed]",
      "text/plain": [
       "<Figure size 640x480 with 1 Axes>"
      ]
     },
     "metadata": {},
     "output_type": "display_data"
    }
   ],
   "source": [
    "residuals = y_test - y_test_pred\n",
    "\n",
    "print(residuals.describe())\n",
    "\n",
    "plt.hist(residuals, bins=50, alpha=0.5)\n",
    "plt.show()\n",
    "\n",
    "plt.scatter(y_test_pred, residuals, alpha=0.5)\n",
    "plt.xlabel('Predicted')\n",
    "plt.ylabel('Residuals')\n",
    "plt.show()"
   ]
  },
  {
   "cell_type": "markdown",
   "id": "c038538c",
   "metadata": {},
   "source": [
    "## Sensitivity Analysis"
   ]
  },
  {
   "cell_type": "code",
   "execution_count": 63,
   "id": "27ed6a80",
   "metadata": {},
   "outputs": [
    {
     "name": "stdout",
     "output_type": "stream",
     "text": [
      "Perturbed Test MSE: 0.08216634006694154\n"
     ]
    }
   ],
   "source": [
    "X_test_perturbed = X_test.copy()\n",
    "X_test_perturbed['longitude'] = X_test_perturbed['longitude'] + np.random.normal(0, 0.01, size=len(X_test))\n",
    "y_test_pred_perturbed = best_model.predict(X_test_perturbed)\n",
    "mse_test_perturbed = mean_squared_error(y_test, y_test_pred_perturbed)\n",
    "print('Perturbed Test MSE:', mse_test_perturbed)"
   ]
  },
  {
   "cell_type": "markdown",
   "id": "64c6de7b",
   "metadata": {},
   "source": [
    "## Confidence Intervals"
   ]
  },
  {
   "cell_type": "code",
   "execution_count": 64,
   "id": "ebd97402",
   "metadata": {},
   "outputs": [],
   "source": [
    "bootstrap_preds = []\n",
    "for _ in range(1000):\n",
    "    indices = np.random.choice(len(X_test), len(X_test), replace=True)\n",
    "    X_test_sample = X_test.iloc[indices]\n",
    "    y_test_pred_sample = best_model.predict(X_test_sample)\n",
    "    bootstrap_preds.append(y_test_pred_sample)\n",
    "bootstrap_preds = np.array(bootstrap_preds)\n",
    "\n",
    "lower_bound = np.percentile(bootstrap_preds, 2.5, axis=0)  # 2.5th percentile\n",
    "upper_bound = np.percentile(bootstrap_preds, 97.5, axis=0)  # 97.5th percentile"
   ]
  },
  {
   "cell_type": "code",
   "execution_count": 65,
   "id": "9d61b609",
   "metadata": {},
   "outputs": [],
   "source": [
    "num_samples = 100\n",
    "indices = np.random.choice(len(X_test), num_samples)"
   ]
  },
  {
   "cell_type": "code",
   "execution_count": 66,
   "id": "631ab1c9",
   "metadata": {},
   "outputs": [
    {
     "data": {
      "image/png": "[encoded data removed]",
      "text/plain": [
       "<Figure size 1000x600 with 1 Axes>"
      ]
     },
     "metadata": {},
     "output_type": "display_data"
    }
   ],
   "source": [
    "sorted_indices = np.argsort(indices)\n",
    "\n",
    "plt.figure(figsize=(10, 6))\n",
    "\n",
    "plt.fill_between(sorted_indices, lower_bound[indices], upper_bound[indices], color='gray', alpha=0.5, label='Confidence Interval')\n",
    "plt.plot(sorted_indices, y_test.iloc[indices], 'o', color='black', label='Actual')\n",
    "plt.plot(sorted_indices, bootstrap_preds.mean(axis=0)[indices], 'o', color='blue', label='Predicted')\n",
    "\n",
    "plt.xlabel('Sample Index')\n",
    "plt.ylabel('Prediction')\n",
    "plt.title('Confidence Intervals of Predictions')\n",
    "plt.legend()\n",
    "plt.show()"
   ]
  },
  {
   "cell_type": "markdown",
   "id": "d916fba3",
   "metadata": {},
   "source": [
    "## Check For Overfitting"
   ]
  },
  {
   "cell_type": "code",
   "execution_count": 67,
   "id": "32c5ac43",
   "metadata": {},
   "outputs": [
    {
     "name": "stdout",
     "output_type": "stream",
     "text": [
      "Train MSE: 0.04199514487754462\n",
      "Test MSE: 0.042619903004027564\n"
     ]
    }
   ],
   "source": [
    "y_train_pred = best_model.predict(X_full_train)\n",
    "mse_train = mean_squared_error(y_full_train, y_train_pred)\n",
    "print('Train MSE:', mse_train)\n",
    "print('Test MSE:', mse_test)"
   ]
  },
  {
   "cell_type": "code",
   "execution_count": 68,
   "id": "882576ce",
   "metadata": {},
   "outputs": [
    {
     "name": "stdout",
     "output_type": "stream",
     "text": [
      "Train MSE: 0.04199514487754462\n",
      "Validation MSE: 0.04196780448163682\n"
     ]
    }
   ],
   "source": [
    "y_val_pred = best_model.predict(X_val)\n",
    "mse_val = mean_squared_error(y_val, y_val_pred)\n",
    "print('Train MSE:', mse_train)\n",
    "print('Validation MSE:', mse_val)"
   ]
  },
  {
   "cell_type": "markdown",
   "id": "33273032",
   "metadata": {},
   "source": [
    "***"
   ]
  },
  {
   "cell_type": "markdown",
   "id": "a97b1c0a",
   "metadata": {},
   "source": [
    "## Model Evaluation Results"
   ]
  },
  {
   "cell_type": "markdown",
   "id": "94480be7",
   "metadata": {},
   "source": [
    "We have trained a Random Forest Regression model and evaluated it using Mean Squared Error (MSE) as our performance metric. The MSE measures the average squared differences between the predicted and actual values, with lower values signifying a better fit.\n",
    "\n",
    "1. <b>Train MSE (0.04003):</b> This value represents the average of the squares of the errors — the differences between predicted and actual values — on the training data. Our model has achieved an MSE of 0.04003 on the training data, showing a reasonable fit to this dataset.\n",
    "2. <b>Test MSE (0.04044):</b> This metric performs a similar role to the Train MSE, but it applies to the test set — the data that our model hasn't previously encountered. This score gives us an idea of how well our model can generalize its predictions to new, unseen data. The Test MSE of 0.04044 is very close to our Train MSE, suggesting that our model is generalizing effectively, and the predictive power isn't deteriorating on unseen data.\n",
    "3. <b>Validation MSE (0.04001):</b> Like the Train and Test MSE, this is computed using a validation set, a portion of the training dataset we've withheld from the training process. We use this to fine-tune hyperparameters and provide an unbiased evaluation of model performance. Once again, the closeness of our Validation MSE to both our Train and Test MSE suggests our model isn't overfitting and should perform reliably on unseen data.\n",
    "<br>\n",
    "<br>\n",
    "In summary, our model appears to have avoided overfitting, indicated by the very similar MSE results from the training, test, and validation sets. Overfitting is a common concern in machine learning, occurring when a model becomes too attuned to the training data and fails to generalize well to unseen data. However, while our model shows no significant signs of overfitting, we should always consider the absolute MSE values within the context of the specific problem and data at hand."
   ]
  },
  {
   "cell_type": "markdown",
   "id": "b36eceaa",
   "metadata": {},
   "source": [
    "***"
   ]
  },
  {
   "cell_type": "markdown",
   "id": "a5cd86da",
   "metadata": {},
   "source": [
    "## 10 Fold Cross Validation Results "
   ]
  },
  {
   "cell_type": "code",
   "execution_count": 69,
   "id": "7cec2829",
   "metadata": {},
   "outputs": [],
   "source": [
    "scoring = {\n",
    "    'mse': make_scorer(mean_squared_error, greater_is_better=False), \n",
    "    'mae': make_scorer(mean_absolute_error, greater_is_better=False), \n",
    "    'r2': 'r2',\n",
    "}"
   ]
  },
  {
   "cell_type": "code",
   "execution_count": 70,
   "id": "e402ddd3",
   "metadata": {},
   "outputs": [
    {
     "name": "stderr",
     "output_type": "stream",
     "text": [
      "/Users/conormcelduff/opt/anaconda3/lib/python3.9/site-packages/sklearn/ensemble/_forest.py:413: FutureWarning: `max_features='auto'` has been deprecated in 1.1 and will be removed in 1.3. To keep the past behaviour, explicitly set `max_features=1.0` or remove this parameter as it is also the default value for RandomForestRegressors and ExtraTreesRegressors.\n",
      "  warn(\n",
      "/Users/conormcelduff/opt/anaconda3/lib/python3.9/site-packages/sklearn/ensemble/_forest.py:413: FutureWarning: `max_features='auto'` has been deprecated in 1.1 and will be removed in 1.3. To keep the past behaviour, explicitly set `max_features=1.0` or remove this parameter as it is also the default value for RandomForestRegressors and ExtraTreesRegressors.\n",
      "  warn(\n",
      "/Users/conormcelduff/opt/anaconda3/lib/python3.9/site-packages/sklearn/ensemble/_forest.py:413: FutureWarning: `max_features='auto'` has been deprecated in 1.1 and will be removed in 1.3. To keep the past behaviour, explicitly set `max_features=1.0` or remove this parameter as it is also the default value for RandomForestRegressors and ExtraTreesRegressors.\n",
      "  warn(\n",
      "/Users/conormcelduff/opt/anaconda3/lib/python3.9/site-packages/sklearn/ensemble/_forest.py:413: FutureWarning: `max_features='auto'` has been deprecated in 1.1 and will be removed in 1.3. To keep the past behaviour, explicitly set `max_features=1.0` or remove this parameter as it is also the default value for RandomForestRegressors and ExtraTreesRegressors.\n",
      "  warn(\n",
      "/Users/conormcelduff/opt/anaconda3/lib/python3.9/site-packages/sklearn/ensemble/_forest.py:413: FutureWarning: `max_features='auto'` has been deprecated in 1.1 and will be removed in 1.3. To keep the past behaviour, explicitly set `max_features=1.0` or remove this parameter as it is also the default value for RandomForestRegressors and ExtraTreesRegressors.\n",
      "  warn(\n",
      "/Users/conormcelduff/opt/anaconda3/lib/python3.9/site-packages/sklearn/ensemble/_forest.py:413: FutureWarning: `max_features='auto'` has been deprecated in 1.1 and will be removed in 1.3. To keep the past behaviour, explicitly set `max_features=1.0` or remove this parameter as it is also the default value for RandomForestRegressors and ExtraTreesRegressors.\n",
      "  warn(\n",
      "/Users/conormcelduff/opt/anaconda3/lib/python3.9/site-packages/sklearn/ensemble/_forest.py:413: FutureWarning: `max_features='auto'` has been deprecated in 1.1 and will be removed in 1.3. To keep the past behaviour, explicitly set `max_features=1.0` or remove this parameter as it is also the default value for RandomForestRegressors and ExtraTreesRegressors.\n",
      "  warn(\n",
      "/Users/conormcelduff/opt/anaconda3/lib/python3.9/site-packages/sklearn/ensemble/_forest.py:413: FutureWarning: `max_features='auto'` has been deprecated in 1.1 and will be removed in 1.3. To keep the past behaviour, explicitly set `max_features=1.0` or remove this parameter as it is also the default value for RandomForestRegressors and ExtraTreesRegressors.\n",
      "  warn(\n",
      "/Users/conormcelduff/opt/anaconda3/lib/python3.9/site-packages/sklearn/ensemble/_forest.py:413: FutureWarning: `max_features='auto'` has been deprecated in 1.1 and will be removed in 1.3. To keep the past behaviour, explicitly set `max_features=1.0` or remove this parameter as it is also the default value for RandomForestRegressors and ExtraTreesRegressors.\n",
      "  warn(\n",
      "/Users/conormcelduff/opt/anaconda3/lib/python3.9/site-packages/sklearn/ensemble/_forest.py:413: FutureWarning: `max_features='auto'` has been deprecated in 1.1 and will be removed in 1.3. To keep the past behaviour, explicitly set `max_features=1.0` or remove this parameter as it is also the default value for RandomForestRegressors and ExtraTreesRegressors.\n",
      "  warn(\n"
     ]
    }
   ],
   "source": [
    "cv_results = cross_validate(best_model, X_full_train, y_full_train, cv=10, scoring=scoring, return_train_score=True)"
   ]
  },
  {
   "cell_type": "code",
   "execution_count": 71,
   "id": "89c61831",
   "metadata": {},
   "outputs": [
    {
     "name": "stdout",
     "output_type": "stream",
     "text": [
      "Train MSE: 0.041921274547670265\n",
      "Validation MSE: 0.04253633942837561\n",
      "Train MAE: 0.16376311439061447\n",
      "Validation MAE: 0.1650821660839667\n",
      "Train R^2 scores: 0.520718047736226\n",
      "Validation R^2 scores: 0.5136673282923739\n"
     ]
    }
   ],
   "source": [
    "print(\"Train MSE:\", -cv_results['train_mse'].mean()) \n",
    "print(\"Validation MSE:\", -cv_results['test_mse'].mean()) \n",
    "print(\"Train MAE:\", -cv_results['train_mae'].mean()) \n",
    "print(\"Validation MAE:\", -cv_results['test_mae'].mean())\n",
    "print(\"Train R^2 scores:\", cv_results['train_r2'].mean())\n",
    "print(\"Validation R^2 scores:\", cv_results['test_r2'].mean())"
   ]
  },
  {
   "cell_type": "markdown",
   "id": "82fe4858",
   "metadata": {},
   "source": [
    "***"
   ]
  },
  {
   "cell_type": "markdown",
   "id": "e8cc7b3e",
   "metadata": {},
   "source": [
    "## 10 Fold Cross Validation Metrics"
   ]
  },
  {
   "cell_type": "markdown",
   "id": "619c99de",
   "metadata": {},
   "source": [
    "After an extensive hyperparameter tuning process using GridSearchCV on parameters such as 'n_estimators', 'max_depth', 'min_samples_split', 'min_samples_leaf', and 'max_features', we evaluated the best model's performance on both the training and validation datasets."
   ]
  },
  {
   "cell_type": "markdown",
   "id": "903d0397",
   "metadata": {},
   "source": [
    "## Mean Squared Error (MSE)"
   ]
  },
  {
   "cell_type": "markdown",
   "id": "c5ec5d7d",
   "metadata": {},
   "source": [
    "MSE calculates the average squared difference between the actual and estimated values. A lower MSE value indicates a better fit of the model to the data. The MSE values for our model were 0.03988 for the training data and 0.04044 for the validation data. These values are relatively low and similar, indicating that the model predicts the output with reasonable accuracy and that it generalizes well to unseen data."
   ]
  },
  {
   "cell_type": "markdown",
   "id": "3d595ada",
   "metadata": {},
   "source": [
    "## Mean Absolute Error (MAE)"
   ]
  },
  {
   "cell_type": "markdown",
   "id": "2c617de9",
   "metadata": {},
   "source": [
    "MAE measures the average magnitude of the errors in a set of predictions, without considering their direction. It's the average over the dataset of the absolute differences between prediction and actual observation. Our model achieved an MAE of 0.1591 on the training data and 0.1603 on the validation data. These small values indicate that our model has a good predictive capacity, with an average error magnitude of around 0.16."
   ]
  },
  {
   "cell_type": "markdown",
   "id": "9671c696",
   "metadata": {},
   "source": [
    "## R² Score (Coefficient of Determination)"
   ]
  },
  {
   "cell_type": "markdown",
   "id": "776668c3",
   "metadata": {},
   "source": [
    "The R² score, also known as the coefficient of determination, measures the proportion of the variance in the dependent variable that is predictable from the independent variable(s). A higher R² score indicates a better fit of the model, and the value ranges from 0 to 1. Our model achieved R² scores of 0.5396 for the training set and 0.5332 for the validation set. This indicates that our model is able to explain approximately 53.32% to 53.96% of the variance in our target variable."
   ]
  },
  {
   "cell_type": "markdown",
   "id": "963fab43",
   "metadata": {},
   "source": [
    "## Conclusion"
   ]
  },
  {
   "cell_type": "markdown",
   "id": "a0f0dd5c",
   "metadata": {},
   "source": [
    "In conclusion, our model does a reasonably good job of predicting the target variable based on the given features, with consistent performance across the training and validation sets. However, as the R² score and error values suggest, there is still room for improvement. Future steps might involve obtaining more or different types of data, exploring other types of models, or further fine-tuning of the model's hyperparameters."
   ]
  },
  {
   "cell_type": "markdown",
   "id": "86ca6431",
   "metadata": {},
   "source": [
    "***"
   ]
  },
  {
   "cell_type": "markdown",
   "id": "7e72429e",
   "metadata": {},
   "source": [
    "## Create and test the pkl file"
   ]
  },
  {
   "cell_type": "code",
   "execution_count": 173,
   "id": "b852c170",
   "metadata": {},
   "outputs": [],
   "source": [
    "filename = 'final_crime_weekday_taxi_model.pkl'\n",
    "pickle.dump(best_model, open(filename, 'wb'))"
   ]
  },
  {
   "cell_type": "code",
   "execution_count": 174,
   "id": "3c81a448",
   "metadata": {},
   "outputs": [],
   "source": [
    "loaded_model = pickle.load(open(filename, 'rb'))"
   ]
  },
  {
   "cell_type": "code",
   "execution_count": 175,
   "id": "d9618bd0",
   "metadata": {},
   "outputs": [
    {
     "name": "stdout",
     "output_type": "stream",
     "text": [
      "Single prediction: [0.29439305]\n"
     ]
    },
    {
     "name": "stderr",
     "output_type": "stream",
     "text": [
      "/Users/conormcelduff/opt/anaconda3/lib/python3.9/site-packages/sklearn/base.py:439: UserWarning: X does not have valid feature names, but RandomForestRegressor was fitted with feature names\n",
      "  warnings.warn(\n"
     ]
    }
   ],
   "source": [
    "single_instance = X_test.iloc[0]\n",
    "single_prediction = loaded_model.predict(single_instance.values.reshape(1, -1))\n",
    "print('Single prediction:', single_prediction)"
   ]
  }
 ],
 "metadata": {
  "kernelspec": {
   "display_name": "Python 3 (ipykernel)",
   "language": "python",
   "name": "python3"
  },
  "language_info": {
   "codemirror_mode": {
    "name": "ipython",
    "version": 3
   },
   "file_extension": ".py",
   "mimetype": "text/x-python",
   "name": "python",
   "nbconvert_exporter": "python",
   "pygments_lexer": "ipython3",
   "version": "3.9.12"
  }
 },
 "nbformat": 4,
 "nbformat_minor": 5
}
